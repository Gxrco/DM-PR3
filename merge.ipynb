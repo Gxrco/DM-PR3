{
 "cells": [
  {
   "cell_type": "code",
   "execution_count": 18,
   "metadata": {},
   "outputs": [
    {
     "name": "stdout",
     "output_type": "stream",
     "text": [
      "✅ Dataset final limpio guardado como dataset_unificado_limpio.csv\n"
     ]
    }
   ],
   "source": [
    "import pandas as pd\n",
    "import numpy as np\n",
    "\n",
    "vif = pd.read_csv(\"VIF.csv\", low_memory=False)\n",
    "vif.columns = vif.columns.str.strip().str.upper()\n",
    "vif['DEPARTAMENTO'] = vif['HEC_DEPTOMCPIO'].astype(str).str[:2].astype(int)\n",
    "vif['ANIO'] = vif['HEC_ANO']\n",
    "\n",
    "vif_agg = vif.groupby(['DEPARTAMENTO','ANIO']).agg(\n",
    "    edad_victima=('VIC_EDAD', lambda s: s.replace(999, np.nan).mean()),\n",
    "    edad_agresor=('AGR_EDAD', lambda s: s.replace(999, np.nan).mean()),\n",
    "    pct_vic_sin_esc=('VIC_ESCOLARIDAD', lambda s: (s==9).mean()),\n",
    "    pct_agr_sin_esc=('AGR_ESCOLARIDAD', lambda s: (s==9).mean()),\n",
    "    pct_vic_sin_ocup=('VIC_OCUP', lambda s: (s==99).mean()),\n",
    "    pct_agr_sin_ocup=('AGR_OCUP', lambda s: (s==99).mean()),\n",
    "    pct_no_denuncia=('INST_DENUN_HECHO', lambda s: (s!=1).mean()),\n",
    "    pct_sin_medida=('TIPO_MEDIDA', lambda s: (s==0).mean()),\n",
    "    total_vif=('HEC_ANO','count')\n",
    ").reset_index()\n",
    "\n",
    "div = pd.read_csv(\"Divorcios.csv\", low_memory=False)\n",
    "div.columns = div.columns.str.strip().str.upper()\n",
    "div['DEPARTAMENTO'] = div['DEPOCU']\n",
    "div['ANIO'] = div['AÑOREG']\n",
    "\n",
    "div_agg = div.groupby(['DEPARTAMENTO','ANIO']).agg(\n",
    "    edad_hombre=('EDADHOM', lambda s: s.replace(999, np.nan).mean()),\n",
    "    edad_mujer=('EDADMUJ', lambda s: s.replace(999, np.nan).mean()),\n",
    "    pct_hom_sin_esc=('ESCHOM', lambda s: (s==9).mean()),\n",
    "    pct_muj_sin_esc=('ESCMUJ', lambda s: (s==9).mean()),\n",
    "    total_divorcios=('DEPOCU','count')\n",
    ").reset_index()\n",
    "\n",
    "df = pd.merge(div_agg, vif_agg, on=['DEPARTAMENTO','ANIO'], how='outer')\n",
    "df.columns = df.columns.str.strip().str.upper()\n",
    "\n",
    "\n",
    "df['TOTAL_DIVORCIOS'] = df['TOTAL_DIVORCIOS'].fillna(0).astype(int)\n",
    "df['TOTAL_VIF']        = df['TOTAL_VIF'].fillna(0).astype(int)\n",
    "\n",
    "proportion_cols = [col for col in df.columns if col.startswith('PCT_')]\n",
    "df[proportion_cols] = df[proportion_cols].fillna(0)\n",
    "\n",
    "df = df[(df['TOTAL_DIVORCIOS'] > 0) | (df['TOTAL_VIF'] > 0)].reset_index(drop=True)\n",
    "df = df[(df['ANIO'] >= 2009) & (df['ANIO'] <= 2018)]\n",
    "\n",
    "df.to_csv(\"dataset_unificado_limpio.csv\", index=False, encoding='utf-8-sig')\n",
    "print(\"✅ Dataset final limpio guardado como dataset_unificado_limpio.csv\")"
   ]
  }
 ],
 "metadata": {
  "kernelspec": {
   "display_name": "Python 3",
   "language": "python",
   "name": "python3"
  },
  "language_info": {
   "codemirror_mode": {
    "name": "ipython",
    "version": 3
   },
   "file_extension": ".py",
   "mimetype": "text/x-python",
   "name": "python",
   "nbconvert_exporter": "python",
   "pygments_lexer": "ipython3",
   "version": "3.12.4"
  }
 },
 "nbformat": 4,
 "nbformat_minor": 2
}
