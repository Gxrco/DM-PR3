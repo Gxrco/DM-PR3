{
 "cells": [
  {
   "cell_type": "markdown",
   "metadata": {},
   "source": [
    "# Unificación de archivos CSV de Divorcio y VIF\n",
    "\n",
    "<small>\n",
    "Este notebook combina todos los archivos CSV por año en un único archivo para cada tema:\n",
    "\n",
    "- `divorcio_all_years.csv`\n",
    "- `vif_all_years.csv`\n",
    "\n",
    "</small>\n"
   ]
  },
  {
   "cell_type": "code",
   "execution_count": 1,
   "metadata": {},
   "outputs": [],
   "source": [
    "import pandas as pd\n",
    "from pathlib import Path"
   ]
  },
  {
   "cell_type": "markdown",
   "metadata": {},
   "source": [
    "### Unir archivo divorcio\n"
   ]
  },
  {
   "cell_type": "code",
   "execution_count": 6,
   "metadata": {},
   "outputs": [
    {
     "name": "stdout",
     "output_type": "stream",
     "text": [
      "Archivo 'divorcio_all_years.csv' generado correctamente\n"
     ]
    }
   ],
   "source": [
    "divorcio_folder = Path(\"../CSV/Divorcios\")\n",
    "all_divorcio_files = list(divorcio_folder.glob(\"*.csv\"))\n",
    "\n",
    "divorcio_dfs = []\n",
    "for file in all_divorcio_files:\n",
    "    df = pd.read_csv(file, encoding='utf-8')\n",
    "    df.columns = [col.upper().strip() for col in df.columns]  # estandarizar columnas\n",
    "    df[\"AÑO_ARCHIVO\"] = file.stem[-4:]  # año desde nombre de archivo (si aplica)\n",
    "    divorcio_dfs.append(df)\n",
    "\n",
    "divorcio_merged = pd.concat(divorcio_dfs, ignore_index=True)\n",
    "divorcio_merged.to_csv(\"../CSV/UnidoPorAñoCSV/divorcio_all_years.csv\", index=False, encoding='utf-8')\n",
    "print(\"Archivo 'divorcio_all_years.csv' generado correctamente\")"
   ]
  },
  {
   "cell_type": "markdown",
   "metadata": {},
   "source": [
    "### Unir VIF\n"
   ]
  },
  {
   "cell_type": "code",
   "execution_count": null,
   "metadata": {},
   "outputs": [
    {
     "name": "stderr",
     "output_type": "stream",
     "text": [
      "C:\\Users\\ncast\\AppData\\Local\\Temp\\ipykernel_26392\\871051318.py:6: DtypeWarning: Columns (7,8,9,10,11,12,15,38) have mixed types. Specify dtype option on import or set low_memory=False.\n",
      "  df = pd.read_csv(file, encoding='latin1')\n",
      "C:\\Users\\ncast\\AppData\\Local\\Temp\\ipykernel_26392\\871051318.py:6: DtypeWarning: Columns (10,11,15,38) have mixed types. Specify dtype option on import or set low_memory=False.\n",
      "  df = pd.read_csv(file, encoding='latin1')\n",
      "C:\\Users\\ncast\\AppData\\Local\\Temp\\ipykernel_26392\\871051318.py:6: DtypeWarning: Columns (38) have mixed types. Specify dtype option on import or set low_memory=False.\n",
      "  df = pd.read_csv(file, encoding='latin1')\n",
      "C:\\Users\\ncast\\AppData\\Local\\Temp\\ipykernel_26392\\871051318.py:6: DtypeWarning: Columns (38) have mixed types. Specify dtype option on import or set low_memory=False.\n",
      "  df = pd.read_csv(file, encoding='latin1')\n",
      "C:\\Users\\ncast\\AppData\\Local\\Temp\\ipykernel_26392\\871051318.py:6: DtypeWarning: Columns (12,13,14,15,16,17,20) have mixed types. Specify dtype option on import or set low_memory=False.\n",
      "  df = pd.read_csv(file, encoding='latin1')\n",
      "C:\\Users\\ncast\\AppData\\Local\\Temp\\ipykernel_26392\\871051318.py:6: DtypeWarning: Columns (15,16,20) have mixed types. Specify dtype option on import or set low_memory=False.\n",
      "  df = pd.read_csv(file, encoding='latin1')\n",
      "C:\\Users\\ncast\\AppData\\Local\\Temp\\ipykernel_26392\\871051318.py:6: DtypeWarning: Columns (38) have mixed types. Specify dtype option on import or set low_memory=False.\n",
      "  df = pd.read_csv(file, encoding='latin1')\n",
      "C:\\Users\\ncast\\AppData\\Local\\Temp\\ipykernel_26392\\871051318.py:6: DtypeWarning: Columns (3) have mixed types. Specify dtype option on import or set low_memory=False.\n",
      "  df = pd.read_csv(file, encoding='latin1')\n"
     ]
    },
    {
     "name": "stdout",
     "output_type": "stream",
     "text": [
      "Archivo 'vif_all_years.csv' generado correctamente\n"
     ]
    }
   ],
   "source": [
    "vif_folder = Path(\"../CSV/VIF\")\n",
    "all_vif_files = list(vif_folder.glob(\"*.csv\"))\n",
    "\n",
    "vif_dfs = []\n",
    "for file in all_vif_files:\n",
    "    df = pd.read_csv(file, encoding='utf-8')\n",
    "    df.columns = [col.upper().strip() for col in df.columns]  # estandarizar columnas\n",
    "    df[\"AÑO_ARCHIVO\"] = file.stem[-4:]  # año desde nombre de archivo (si aplica)\n",
    "    vif_dfs.append(df)\n",
    "\n",
    "vif_merged = pd.concat(vif_dfs, ignore_index=True)\n",
    "vif_merged.to_csv(\"../CSV/UnidoPorAñoCSV/vif_all_years.csv\", index=False, encoding='utf-8')\n",
    "print(\"Archivo 'vif_all_years.csv' generado correctamente\")"
   ]
  }
 ],
 "metadata": {
  "kernelspec": {
   "display_name": "Python 3",
   "language": "python",
   "name": "python3"
  },
  "language_info": {
   "codemirror_mode": {
    "name": "ipython",
    "version": 3
   },
   "file_extension": ".py",
   "mimetype": "text/x-python",
   "name": "python",
   "nbconvert_exporter": "python",
   "pygments_lexer": "ipython3",
   "version": "3.10.2"
  }
 },
 "nbformat": 4,
 "nbformat_minor": 2
}
