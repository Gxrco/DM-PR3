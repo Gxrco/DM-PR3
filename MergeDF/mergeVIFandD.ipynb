{
 "cells": [
  {
   "cell_type": "markdown",
   "metadata": {},
   "source": [
    "# Unificación de archivos finales de Divorcios y VIF para unirlo a un DF\n"
   ]
  },
  {
   "cell_type": "code",
   "execution_count": 155,
   "metadata": {},
   "outputs": [],
   "source": [
    "import pandas as pd\n",
    "import numpy as np"
   ]
  },
  {
   "cell_type": "code",
   "execution_count": 156,
   "metadata": {},
   "outputs": [],
   "source": [
    "def moda_filtrada(s, filtro=None):\n",
    "    # Convertir a numérico (evita errores como comparar str con int)\n",
    "    s = pd.to_numeric(s, errors='coerce')\n",
    "    \n",
    "    if filtro is not None:\n",
    "        s = s[s.apply(filtro)]\n",
    "    \n",
    "    if s.empty:\n",
    "        return np.nan\n",
    "    \n",
    "    moda = s.mode()\n",
    "    return moda.iloc[0] if not moda.empty else np.nan"
   ]
  },
  {
   "cell_type": "code",
   "execution_count": null,
   "metadata": {},
   "outputs": [],
   "source": [
    "def obtener_ocupacion_dedica(grupo, col_trabaja, col_ocup, col_dedica):\n",
    "    try:\n",
    "        trabaja = grupo[col_trabaja].mode().iloc[0]\n",
    "    except IndexError:\n",
    "        return pd.Series([np.nan, np.nan], index=['OCUPACION', 'DEDICA'])\n",
    "\n",
    "    if trabaja == 1:\n",
    "        ocup_filtrada = grupo[col_ocup][grupo[col_ocup] != 9999]\n",
    "        valor_ocup = ocup_filtrada.mode().iloc[0] if not ocup_filtrada.mode().empty else np.nan\n",
    "        return pd.Series([valor_ocup, np.nan], index=['OCUPACION', 'DEDICA'])\n",
    "    \n",
    "    elif trabaja == 2:\n",
    "        dedica_filtrada = grupo[col_dedica][grupo[col_dedica] != 9]\n",
    "        valor_dedica = dedica_filtrada.mode().iloc[0] if not dedica_filtrada.mode().empty else np.nan\n",
    "        return pd.Series([np.nan, valor_dedica], index=['OCUPACION', 'DEDICA'])\n",
    "\n",
    "    else:\n",
    "        return pd.Series([np.nan, np.nan], index=['OCUPACION', 'DEDICA'])"
   ]
  },
  {
   "cell_type": "markdown",
   "metadata": {},
   "source": [
    "### Cargar y procesar datos de Divorcios\n"
   ]
  },
  {
   "cell_type": "code",
   "execution_count": 158,
   "metadata": {},
   "outputs": [],
   "source": [
    "div = pd.read_csv(\"../CSV/UnidoPorAñoCSV/divorcio_all_years.csv\", low_memory=False)\n",
    "div.columns = div.columns.str.strip().str.upper()\n",
    "\n",
    "div['DEPARTAMENTO'] = div['DEPOCU']\n",
    "div['ANIO'] = div['AÑOREG']\n",
    "\n",
    "div_agg = div.groupby(['DEPARTAMENTO','ANIO']).agg(\n",
    "    edad_hombre=('EDADHOM', lambda s: s.replace(999, np.nan).mean()),\n",
    "    edad_mujer=('EDADMUJ', lambda s: s.replace(999, np.nan).mean()),\n",
    "    escolaridad_hombre=('ESCHOM', lambda s: moda_filtrada(s, lambda x: x != 9)), \n",
    "    escolaridad_mujer=('ESCMUJ', lambda s: moda_filtrada(s, lambda x: x != 9)),\n",
    "    ocupacion_hombre=('CIUOHOM', lambda s: moda_filtrada(s, lambda x: x <= 96)), \n",
    "    ocupacion_mujer=('CIUOMUJ', lambda s: moda_filtrada(s, lambda x: x <= 96)),\n",
    "\n",
    "    total_divorcios=('DEPOCU','count')\n",
    ").reset_index()\n"
   ]
  },
  {
   "cell_type": "markdown",
   "metadata": {},
   "source": [
    "### Cargar y procesar datos de VIF\n"
   ]
  },
  {
   "cell_type": "code",
   "execution_count": 159,
   "metadata": {},
   "outputs": [],
   "source": [
    "vif = pd.read_csv(\"../CSV/UnidoPorAñoCSV/vif_all_years.csv\", low_memory=False)\n",
    "vif.columns = vif.columns.str.strip().str.upper()\n",
    "\n",
    "vif['HEC_DEPTOMCPIO'] = vif['HEC_DEPTOMCPIO'].astype(str).str.replace(',', '').str.strip()\n",
    "\n",
    "vif['DEPARTAMENTO'] = vif['HEC_DEPTOMCPIO'].str[:-2].astype(float).astype('Int64')\n",
    "\n",
    "vif['ANIO'] = vif['HEC_ANO']\n",
    "\n",
    "vif_agg = vif.groupby(['DEPARTAMENTO', 'ANIO']).agg(\n",
    "    edad_victima=('VIC_EDAD', lambda s: s.replace(999, np.nan).mean()),\n",
    "    edad_agresor=('AGR_EDAD', lambda s: s.replace(999, np.nan).mean()),\n",
    "\n",
    "    escolaridad_victima=('VIC_ESCOLARIDAD', lambda s: moda_filtrada(s, lambda x: x != 99)),\n",
    "    escolaridad_agresor=('AGR_ESCOLARIDAD', lambda s: moda_filtrada(s, lambda x: x != 99)),\n",
    "\n",
    "    tipo_medida_mas_frec=('TIPO_MEDIDA', lambda s: s.mode().iloc[0] if not s.mode().empty else np.nan),\n",
    "    inst_denuncia=('INST_DENUN_HECHO', lambda s: s.mode().iloc[0] if not s.mode().empty else np.nan),\n",
    "    total_vif=('HEC_ANO', 'count')\n",
    "    \n",
    ").reset_index()\n"
   ]
  },
  {
   "cell_type": "code",
   "execution_count": 160,
   "metadata": {},
   "outputs": [
    {
     "name": "stderr",
     "output_type": "stream",
     "text": [
      "C:\\Users\\ncast\\AppData\\Local\\Temp\\ipykernel_26088\\4264002683.py:14: DeprecationWarning: DataFrameGroupBy.apply operated on the grouping columns. This behavior is deprecated, and in a future version of pandas the grouping columns will be excluded from the operation. Either pass `include_groups=False` to exclude the groupings or explicitly select the grouping columns after groupby to silence this warning.\n",
      "  victima_cond = vif_grouped.apply(lambda g: obtener_ocupacion_dedica(g, 'VIC_TRABAJA', 'VIC_OCUP', 'VIC_DEDICA')).reset_index()\n",
      "C:\\Users\\ncast\\AppData\\Local\\Temp\\ipykernel_26088\\4264002683.py:15: DeprecationWarning: DataFrameGroupBy.apply operated on the grouping columns. This behavior is deprecated, and in a future version of pandas the grouping columns will be excluded from the operation. Either pass `include_groups=False` to exclude the groupings or explicitly select the grouping columns after groupby to silence this warning.\n",
      "  agresor_cond = vif_grouped.apply(lambda g: obtener_ocupacion_dedica(g, 'AGR_TRABAJA', 'AGR_OCUP', 'AGR_DEDICA')).reset_index()\n"
     ]
    }
   ],
   "source": [
    "cols_to_numeric = ['VIC_TRABAJA', 'VIC_OCUP', 'VIC_DEDICA', 'AGR_TRABAJA', 'AGR_OCUP', 'AGR_DEDICA']\n",
    "vif[cols_to_numeric] = vif[cols_to_numeric].apply(pd.to_numeric, errors='coerce')\n",
    "\n",
    "# Agrupar por departamento y año\n",
    "vif_grouped = vif.groupby(['DEPARTAMENTO', 'ANIO'])\n",
    "\n",
    "# Obtener VICTIMA_TRABAJA y AGR_TRABAJA como moda\n",
    "trabaja_modas = vif_grouped.agg({\n",
    "    'VIC_TRABAJA': lambda s: s.mode().iloc[0] if not s.mode().empty else np.nan,\n",
    "    'AGR_TRABAJA': lambda s: s.mode().iloc[0] if not s.mode().empty else np.nan\n",
    "}).reset_index()\n",
    "\n",
    "# Obtener ocupación/dedica condicionalmente\n",
    "victima_cond = vif_grouped.apply(lambda g: obtener_ocupacion_dedica(g, 'VIC_TRABAJA', 'VIC_OCUP', 'VIC_DEDICA')).reset_index()\n",
    "agresor_cond = vif_grouped.apply(lambda g: obtener_ocupacion_dedica(g, 'AGR_TRABAJA', 'AGR_OCUP', 'AGR_DEDICA')).reset_index()\n",
    "\n",
    "# Renombrar columnas para evitar conflictos\n",
    "victima_cond.columns = ['DEPARTAMENTO', 'ANIO', 'OCUPACION_VICTIMA', 'DEDICA_VICTIMA']\n",
    "agresor_cond.columns = ['DEPARTAMENTO', 'ANIO', 'OCUPACION_AGRESOR', 'DEDICA_AGRESOR']\n",
    "\n",
    "# Combinar todo con vif_agg\n",
    "vif_agg = vif_agg.merge(trabaja_modas, on=['DEPARTAMENTO', 'ANIO'], how='left')\n",
    "vif_agg = vif_agg.merge(victima_cond, on=['DEPARTAMENTO', 'ANIO'], how='left')\n",
    "vif_agg = vif_agg.merge(agresor_cond, on=['DEPARTAMENTO', 'ANIO'], how='left')"
   ]
  },
  {
   "cell_type": "markdown",
   "metadata": {},
   "source": [
    "#### Unir datasets y limpiar\n"
   ]
  },
  {
   "cell_type": "code",
   "execution_count": 161,
   "metadata": {},
   "outputs": [
    {
     "name": "stdout",
     "output_type": "stream",
     "text": [
      " Dataset combinado y limpio listo para análisis.\n"
     ]
    }
   ],
   "source": [
    "# Asegurar consistencia de tipos en claves para merge\n",
    "div_agg['ANIO'] = pd.to_numeric(div_agg['ANIO'], errors='coerce').astype('Int64')\n",
    "vif_agg['ANIO'] = pd.to_numeric(vif_agg['ANIO'], errors='coerce').astype('Int64')\n",
    "\n",
    "df = pd.merge(div_agg, vif_agg, on=['DEPARTAMENTO', 'ANIO'], how='outer')\n",
    "df.columns = df.columns.str.strip().str.upper()\n",
    "\n",
    "# Rellenar valores nulos\n",
    "df['TOTAL_DIVORCIOS'] = df['TOTAL_DIVORCIOS'].fillna(0).astype(int)\n",
    "df['TOTAL_VIF'] = df['TOTAL_VIF'].fillna(0).astype(int)\n",
    "\n",
    "# Rellenar proporciones nulas con 0\n",
    "proportion_cols = [col for col in df.columns if col.startswith('PCT_')]\n",
    "df[proportion_cols] = df[proportion_cols].fillna(0)\n",
    "\n",
    "# Filtrar filas útiles\n",
    "df = df[(df['TOTAL_DIVORCIOS'] > 0) | (df['TOTAL_VIF'] > 0)].reset_index(drop=True)\n",
    "\n",
    "# Filtrar años relevantes\n",
    "df = df[(df['ANIO'] >= 2009) & (df['ANIO'] <= 2018)]\n",
    "\n",
    "print(\" Dataset combinado y limpio listo para análisis.\")\n"
   ]
  },
  {
   "cell_type": "markdown",
   "metadata": {},
   "source": [
    "### Guardar dataset final\n"
   ]
  },
  {
   "cell_type": "code",
   "execution_count": 162,
   "metadata": {},
   "outputs": [
    {
     "name": "stdout",
     "output_type": "stream",
     "text": [
      " Dataset final limpio guardado como dataset_unificado_limpio.csv\n"
     ]
    }
   ],
   "source": [
    "df.to_csv(\"../CSV/FinalCSV/dataset_unificado_limpio.csv\", index=False, encoding='utf-8-sig')\n",
    "print(\" Dataset final limpio guardado como dataset_unificado_limpio.csv\")"
   ]
  }
 ],
 "metadata": {
  "kernelspec": {
   "display_name": "Python 3",
   "language": "python",
   "name": "python3"
  },
  "language_info": {
   "codemirror_mode": {
    "name": "ipython",
    "version": 3
   },
   "file_extension": ".py",
   "mimetype": "text/x-python",
   "name": "python",
   "nbconvert_exporter": "python",
   "pygments_lexer": "ipython3",
   "version": "3.10.2"
  }
 },
 "nbformat": 4,
 "nbformat_minor": 2
}
