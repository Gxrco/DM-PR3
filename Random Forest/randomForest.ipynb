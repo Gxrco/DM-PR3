{
 "cells": [
  {
   "cell_type": "markdown",
   "id": "5d00424b",
   "metadata": {},
   "source": [
    "# Random Forest"
   ]
  },
  {
   "cell_type": "markdown",
   "id": "2fa82a22",
   "metadata": {},
   "source": [
    "##### Importar librerías"
   ]
  },
  {
   "cell_type": "code",
   "execution_count": 79,
   "id": "786ed604",
   "metadata": {},
   "outputs": [],
   "source": [
    "import pandas as pd\n",
    "import numpy as np\n",
    "import matplotlib.pyplot as plt\n",
    "\n",
    "from sklearn.model_selection   import train_test_split, cross_val_score\n",
    "from sklearn.ensemble          import RandomForestClassifier\n",
    "from sklearn.metrics           import (\n",
    "    classification_report,\n",
    "    accuracy_score,\n",
    "    ConfusionMatrixDisplay\n",
    ")\n",
    "from sklearn.pipeline          import Pipeline\n",
    "from sklearn.compose           import ColumnTransformer\n",
    "from sklearn.impute            import SimpleImputer\n",
    "from sklearn.preprocessing     import OneHotEncoder, StandardScaler, FunctionTransformer\n",
    "from sklearn.model_selection   import learning_curve\n"
   ]
  },
  {
   "cell_type": "markdown",
   "id": "adde767e",
   "metadata": {},
   "source": [
    "##### Leer y limpiar datos"
   ]
  },
  {
   "cell_type": "code",
   "execution_count": 80,
   "id": "0719d3a9",
   "metadata": {},
   "outputs": [],
   "source": [
    "# 1) Leer y limpiar datos\n",
    "df = pd.read_csv(\n",
    "    \"../CSV/UnidoPorAñoCSV/vif_all_years.csv\",\n",
    "    na_values=[\"\", \" \"],\n",
    "    dtype=str  # para captar todo como string al inicio\n",
    ")"
   ]
  },
  {
   "cell_type": "markdown",
   "id": "972f4711",
   "metadata": {},
   "source": [
    "##### Reemplazar códigos “desconocido” por NaN\n"
   ]
  },
  {
   "cell_type": "code",
   "execution_count": 81,
   "id": "0d17f56c",
   "metadata": {},
   "outputs": [],
   "source": [
    "unknowns = ['99','9998','9999']\n",
    "df.replace(unknowns, np.nan, inplace=True)\n"
   ]
  },
  {
   "cell_type": "code",
   "execution_count": 82,
   "id": "0389e3bf",
   "metadata": {},
   "outputs": [
    {
     "name": "stderr",
     "output_type": "stream",
     "text": [
      "C:\\Users\\n8nug\\AppData\\Local\\Temp\\ipykernel_18152\\3559935407.py:28: FutureWarning: A value is trying to be set on a copy of a DataFrame or Series through chained assignment using an inplace method.\n",
      "The behavior will change in pandas 3.0. This inplace method will never work because the intermediate object on which we are setting values always behaves as a copy.\n",
      "\n",
      "For example, when doing 'df[col].method(value, inplace=True)', try using 'df.method({col: value}, inplace=True)' or df[col] = df[col].method(value) instead, to perform the operation inplace on the original object.\n",
      "\n",
      "\n",
      "  df[target].fillna('No Reportó', inplace=True)\n"
     ]
    },
    {
     "name": "stdout",
     "output_type": "stream",
     "text": [
      "INST_DONDE_DENUNCIO\n",
      "No Reportó            433611\n",
      "Casa de Justicia       26665\n",
      "Otro                   13861\n",
      "Municipalidad          13537\n",
      "PNC                     9584\n",
      "Ministerio Público       601\n",
      "Centro Integrado         295\n",
      "Comisaría                 80\n",
      "Name: count, dtype: int64\n"
     ]
    }
   ],
   "source": [
    "# 2) Limpiar target y reclasificar NaN → \"No Reportó\"\n",
    "target = 'INST_DONDE_DENUNCIO'\n",
    "\n",
    "# 2.2) Ahora convertir todo a string y normalizar sufijos “.0”\n",
    "df[target] = (\n",
    "    df[target]\n",
    "      .astype(str)\n",
    "      .str.strip()\n",
    "      .str.replace(r'\\.0$', '', regex=True)\n",
    ")\n",
    "\n",
    "# 2.3) Mapear a etiquetas legibles (incluyendo \"No Reportó\")\n",
    "mapping = {\n",
    "    '1': 'PNC',\n",
    "    '2': 'Ministerio Público',\n",
    "    '3': 'Municipalidad',\n",
    "    '4': 'Casa de Justicia',\n",
    "    '5': 'Comisaría',\n",
    "    '6': 'Centro Integrado',\n",
    "    '9': 'Otro',\n",
    "    'No Reportó': 'No Reportó'\n",
    "}\n",
    "\n",
    "df[target] = df[target].map(mapping)\n",
    "\n",
    "# 2.4) Cualquier valor que no estuviese en mapping (por si acaso)\n",
    "#      lo convertimos también en \"No Reportó\"\n",
    "df[target].fillna('No Reportó', inplace=True)\n",
    "\n",
    "# Verifica que ya no queden NaN\n",
    "print(df[target].value_counts(dropna=False))\n",
    "\n",
    "df = df[df[target] != \"No Reportó\"]\n"
   ]
  },
  {
   "cell_type": "markdown",
   "id": "ae9cd907",
   "metadata": {},
   "source": [
    "##### Convertir a numérico las edades"
   ]
  },
  {
   "cell_type": "code",
   "execution_count": 83,
   "id": "bbecdc9e",
   "metadata": {},
   "outputs": [],
   "source": [
    "df['VIC_EDAD'] = pd.to_numeric(df['VIC_EDAD'], errors='coerce')\n",
    "df['AGR_EDAD'] = pd.to_numeric(df['AGR_EDAD'], errors='coerce')"
   ]
  },
  {
   "cell_type": "markdown",
   "id": "6ed483a6",
   "metadata": {},
   "source": [
    "##### Seleccionar variables predictoras y respuesta"
   ]
  },
  {
   "cell_type": "code",
   "execution_count": 84,
   "id": "d720b447",
   "metadata": {},
   "outputs": [
    {
     "name": "stderr",
     "output_type": "stream",
     "text": [
      "C:\\Users\\n8nug\\AppData\\Local\\Temp\\ipykernel_18152\\2665265606.py:17: FutureWarning: A value is trying to be set on a copy of a DataFrame or Series through chained assignment using an inplace method.\n",
      "The behavior will change in pandas 3.0. This inplace method will never work because the intermediate object on which we are setting values always behaves as a copy.\n",
      "\n",
      "For example, when doing 'df[col].method(value, inplace=True)', try using 'df.method({col: value}, inplace=True)' or df[col] = df[col].method(value) instead, to perform the operation inplace on the original object.\n",
      "\n",
      "\n",
      "  df_vars[col].fillna('missing', inplace=True)\n"
     ]
    }
   ],
   "source": [
    "vars_ = [\n",
    "    'VIC_EDAD', 'VIC_ESCOLARIDAD',\n",
    "    'VIC_OCUP', 'VIC_DEDICA', 'VIC_TRABAJA',\n",
    "    'AGR_EDAD', 'AGR_ESCOLARIDAD',\n",
    "    'AGR_OCUP', 'AGR_DEDICA', 'AGR_TRABAJA',\n",
    "    'VIC_REL_AGR', 'HEC_TIPAGRE',\n",
    "    'DEPTO_MCPIO', 'HEC_DEPTOMCPIO'\n",
    "]\n",
    "target = 'INST_DONDE_DENUNCIO'\n",
    "\n",
    "df_vars = df[vars_].copy()\n",
    "for col in vars_:\n",
    "    if df_vars[col].dtype.kind in ('i','f'):\n",
    "        # la imputación la haremos en el pipeline con add_indicator\n",
    "        continue\n",
    "    else:\n",
    "        df_vars[col].fillna('missing', inplace=True)\n",
    "\n",
    "df_model = pd.concat([df_vars, df[target]], axis=1)"
   ]
  },
  {
   "cell_type": "markdown",
   "id": "91348189",
   "metadata": {},
   "source": [
    "##### Definir X e y"
   ]
  },
  {
   "cell_type": "code",
   "execution_count": 85,
   "id": "25291b12",
   "metadata": {},
   "outputs": [],
   "source": [
    "X = df_model[vars_]\n",
    "y = df_model[target]"
   ]
  },
  {
   "cell_type": "markdown",
   "id": "ea400106",
   "metadata": {},
   "source": [
    "##### Convertir categoricas a string"
   ]
  },
  {
   "cell_type": "code",
   "execution_count": 86,
   "id": "8c5165c1",
   "metadata": {},
   "outputs": [],
   "source": [
    "cat_cols = [\n",
    "    'VIC_ESCOLARIDAD','VIC_OCUP','VIC_DEDICA','VIC_TRABAJA',\n",
    "    'AGR_ESCOLARIDAD','AGR_OCUP','AGR_DEDICA','AGR_TRABAJA',\n",
    "    'VIC_REL_AGR','HEC_TIPAGRE','DEPTO_MCPIO','HEC_DEPTOMCPIO'\n",
    "]\n",
    "df_model[cat_cols] = df_model[cat_cols].astype(str)"
   ]
  },
  {
   "cell_type": "markdown",
   "id": "1b5a7d3a",
   "metadata": {},
   "source": [
    "##### Identificar numéricas y categóricas"
   ]
  },
  {
   "cell_type": "code",
   "execution_count": 87,
   "id": "1d8f52fc",
   "metadata": {},
   "outputs": [
    {
     "name": "stdout",
     "output_type": "stream",
     "text": [
      "['VIC_ESCOLARIDAD', 'VIC_OCUP', 'VIC_DEDICA', 'VIC_TRABAJA', 'AGR_ESCOLARIDAD', 'AGR_OCUP', 'AGR_DEDICA', 'AGR_TRABAJA', 'VIC_REL_AGR', 'HEC_TIPAGRE', 'DEPTO_MCPIO', 'HEC_DEPTOMCPIO']\n"
     ]
    }
   ],
   "source": [
    "num_cols = ['VIC_EDAD', 'AGR_EDAD']\n",
    "cat_cols = [c for c in vars_ if c not in num_cols]\n",
    "\n",
    "print(cat_cols)"
   ]
  },
  {
   "cell_type": "markdown",
   "id": "103f26f1",
   "metadata": {},
   "source": [
    "##### Construcción de pipelines de preprocesamiento"
   ]
  },
  {
   "cell_type": "code",
   "execution_count": 88,
   "id": "76759ab8",
   "metadata": {},
   "outputs": [],
   "source": [
    "num_pipe = Pipeline([\n",
    "    ('imputer', SimpleImputer(strategy='median')),\n",
    "    ('scaler',  StandardScaler())\n",
    "])\n",
    "\n",
    "cat_pipe = Pipeline([\n",
    "    # 5.1) Imputar con la categoría más frecuente\n",
    "    ('imputer', SimpleImputer(strategy='most_frequent', fill_value='missing')),\n",
    "    # 5.2) Forzar a string (ahora todos son uniformes)\n",
    "    ('to_str',   FunctionTransformer(lambda X: X.astype(str))),\n",
    "    # 5.3) One-hot encode\n",
    "    ('ohe',      OneHotEncoder(handle_unknown='ignore'))\n",
    "])\n",
    "\n",
    "preprocessor = ColumnTransformer([\n",
    "    ('num', num_pipe, num_cols),\n",
    "    ('cat', cat_pipe, cat_cols)\n",
    "])"
   ]
  },
  {
   "cell_type": "markdown",
   "id": "8d66f1bb",
   "metadata": {},
   "source": [
    "##### Pipeline completo con Random Forest"
   ]
  },
  {
   "cell_type": "code",
   "execution_count": 89,
   "id": "90627db8",
   "metadata": {},
   "outputs": [],
   "source": [
    "rf_pipeline = Pipeline([\n",
    "    ('prep', preprocessor),\n",
    "    ('rf',   RandomForestClassifier(\n",
    "                 n_estimators=100,\n",
    "                 random_state=42,\n",
    "             ))\n",
    "])"
   ]
  },
  {
   "cell_type": "markdown",
   "id": "20341945",
   "metadata": {},
   "source": [
    "##### Dividir datos en entrenamiento y prueba (estratificado)"
   ]
  },
  {
   "cell_type": "code",
   "execution_count": 90,
   "id": "c6e94aad",
   "metadata": {},
   "outputs": [],
   "source": [
    "X_train, X_test, y_train, y_test = train_test_split(\n",
    "    X, y,\n",
    "    test_size=0.3,\n",
    "    stratify=y,\n",
    "    random_state=42\n",
    ")"
   ]
  },
  {
   "cell_type": "markdown",
   "id": "1697a4eb",
   "metadata": {},
   "source": [
    "##### Evaluar diferentes profundidades de árbol"
   ]
  },
  {
   "cell_type": "code",
   "execution_count": 98,
   "id": "552e69b1",
   "metadata": {},
   "outputs": [
    {
     "name": "stdout",
     "output_type": "stream",
     "text": [
      "\n",
      "--- max_depth = 5 ---\n",
      "CV accuracy: 0.440 ± 0.004\n",
      "Test accuracy: 0.438\n",
      "\n",
      "--- max_depth = 10 ---\n",
      "CV accuracy: 0.472 ± 0.003\n",
      "Test accuracy: 0.471\n",
      "\n",
      "--- max_depth = 15 ---\n",
      "CV accuracy: 0.492 ± 0.003\n",
      "Test accuracy: 0.494\n",
      "\n",
      "--- max_depth = 16 ---\n",
      "CV accuracy: 0.496 ± 0.002\n",
      "Test accuracy: 0.495\n",
      "\n",
      "--- max_depth = 17 ---\n",
      "CV accuracy: 0.499 ± 0.002\n",
      "Test accuracy: 0.501\n",
      "\n",
      "--- max_depth = 18 ---\n",
      "CV accuracy: 0.503 ± 0.002\n",
      "Test accuracy: 0.504\n",
      "\n",
      "--- max_depth = 19 ---\n",
      "CV accuracy: 0.504 ± 0.003\n",
      "Test accuracy: 0.509\n"
     ]
    }
   ],
   "source": [
    "depths  = [5, 10, 15, 16, 17, 18, 19]\n",
    "results = []\n",
    "\n",
    "for d in depths:\n",
    "    print(f\"\\n--- max_depth = {d} ---\")\n",
    "    rf_pipeline.set_params(rf__max_depth=d)\n",
    "    \n",
    "    # Validación cruzada\n",
    "    cv_scores = cross_val_score(\n",
    "        rf_pipeline, X_train, y_train,\n",
    "        cv=5, scoring=\"accuracy\", n_jobs=-1\n",
    "    )\n",
    "    print(f\"CV accuracy: {cv_scores.mean():.3f} ± {cv_scores.std():.3f}\")\n",
    "    \n",
    "    # Entrenar y evaluar en test\n",
    "    rf_pipeline.fit(X_train, y_train)\n",
    "    y_pred = rf_pipeline.predict(X_test)\n",
    "    acc_test = accuracy_score(y_test, y_pred)\n",
    "    print(f\"Test accuracy: {acc_test:.3f}\")\n",
    "    \n",
    "    results.append({\n",
    "        'max_depth': d,\n",
    "        'cv_mean':   cv_scores.mean(),\n",
    "        'cv_std':    cv_scores.std(),\n",
    "        'test_acc':  acc_test\n",
    "    })"
   ]
  },
  {
   "cell_type": "markdown",
   "id": "9381c8d4",
   "metadata": {},
   "source": [
    "##### Comparar resultados en un DataFrame"
   ]
  },
  {
   "cell_type": "code",
   "execution_count": 99,
   "id": "cbb3c8c3",
   "metadata": {},
   "outputs": [
    {
     "name": "stdout",
     "output_type": "stream",
     "text": [
      "\n",
      "Comparación de profundidades:\n",
      "   max_depth   cv_mean    cv_std  test_acc\n",
      "0          5  0.440136  0.003522  0.437664\n",
      "1         10  0.472500  0.003015  0.470573\n",
      "2         15  0.491975  0.002516  0.494197\n",
      "3         16  0.496330  0.001676  0.495487\n",
      "4         17  0.499005  0.001999  0.501470\n",
      "5         18  0.502962  0.001555  0.503946\n",
      "6         19  0.504112  0.002889  0.508949\n"
     ]
    }
   ],
   "source": [
    "df_res = pd.DataFrame(results)\n",
    "print(\"\\nComparación de profundidades:\")\n",
    "print(df_res)"
   ]
  },
  {
   "cell_type": "markdown",
   "id": "1240cac1",
   "metadata": {},
   "source": [
    "##### Matriz de confusión y reporte del mejor modelo"
   ]
  },
  {
   "cell_type": "code",
   "execution_count": 100,
   "id": "fd036b6c",
   "metadata": {},
   "outputs": [
    {
     "name": "stdout",
     "output_type": "stream",
     "text": [
      "\n",
      ">> Mejor max_depth = 19 <<\n"
     ]
    }
   ],
   "source": [
    "best = max(results, key=lambda r: r['test_acc'])\n",
    "print(f\"\\n>> Mejor max_depth = {best['max_depth']} <<\")"
   ]
  },
  {
   "cell_type": "markdown",
   "id": "e43b29ae",
   "metadata": {},
   "source": [
    "##### Reentrenar con el mejor depth"
   ]
  },
  {
   "cell_type": "code",
   "execution_count": 101,
   "id": "07563f34",
   "metadata": {},
   "outputs": [],
   "source": [
    "rf_pipeline.set_params(rf__max_depth=best['max_depth'])\n",
    "rf_pipeline.fit(X_train, y_train)\n",
    "y_pred = rf_pipeline.predict(X_test)"
   ]
  },
  {
   "cell_type": "markdown",
   "id": "0fd93575",
   "metadata": {},
   "source": [
    "##### Matriz de confusión"
   ]
  },
  {
   "cell_type": "code",
   "execution_count": 102,
   "id": "736971d9",
   "metadata": {},
   "outputs": [
    {
     "data": {
      "text/plain": [
       "<Figure size 1600x1200 with 0 Axes>"
      ]
     },
     "metadata": {},
     "output_type": "display_data"
    },
    {
     "data": {
      "image/png": "[encoded data removed]",
      "text/plain": [
       "<Figure size 640x480 with 2 Axes>"
      ]
     },
     "metadata": {},
     "output_type": "display_data"
    }
   ],
   "source": [
    "plt.figure(figsize=(16, 12))\n",
    "disp = ConfusionMatrixDisplay.from_predictions(\n",
    "    y_test, y_pred,\n",
    "    display_labels=rf_pipeline.named_steps['rf'].classes_,\n",
    "    cmap=plt.cm.Blues,\n",
    "    normalize=None\n",
    ")\n",
    "plt.title(f'Matriz de Confusión (max_depth={best[\"max_depth\"]})')\n",
    "plt.show()"
   ]
  },
  {
   "cell_type": "markdown",
   "id": "89aa3e78",
   "metadata": {},
   "source": [
    "##### Reporte de clasificación"
   ]
  },
  {
   "cell_type": "code",
   "execution_count": 96,
   "id": "38b6008b",
   "metadata": {},
   "outputs": [
    {
     "name": "stdout",
     "output_type": "stream",
     "text": [
      "                    precision    recall  f1-score   support\n",
      "\n",
      "  Casa de Justicia       0.49      0.92      0.64      8000\n",
      "  Centro Integrado       0.00      0.00      0.00        89\n",
      "         Comisaría       0.00      0.00      0.00        24\n",
      "Ministerio Público       0.00      0.00      0.00       180\n",
      "     Municipalidad       0.77      0.22      0.34      4061\n",
      "              Otro       0.59      0.41      0.49      4158\n",
      "               PNC       0.60      0.09      0.15      2875\n",
      "\n",
      "          accuracy                           0.53     19387\n",
      "         macro avg       0.35      0.23      0.23     19387\n",
      "      weighted avg       0.58      0.53      0.46     19387\n",
      "\n"
     ]
    },
    {
     "name": "stderr",
     "output_type": "stream",
     "text": [
      "c:\\Users\\n8nug\\Documents\\Uni\\2025 - 1er Semestre\\Minería de Datos\\DM-PR3\\venv\\lib\\site-packages\\sklearn\\metrics\\_classification.py:1565: UndefinedMetricWarning: Precision is ill-defined and being set to 0.0 in labels with no predicted samples. Use `zero_division` parameter to control this behavior.\n",
      "  _warn_prf(average, modifier, f\"{metric.capitalize()} is\", len(result))\n",
      "c:\\Users\\n8nug\\Documents\\Uni\\2025 - 1er Semestre\\Minería de Datos\\DM-PR3\\venv\\lib\\site-packages\\sklearn\\metrics\\_classification.py:1565: UndefinedMetricWarning: Precision is ill-defined and being set to 0.0 in labels with no predicted samples. Use `zero_division` parameter to control this behavior.\n",
      "  _warn_prf(average, modifier, f\"{metric.capitalize()} is\", len(result))\n",
      "c:\\Users\\n8nug\\Documents\\Uni\\2025 - 1er Semestre\\Minería de Datos\\DM-PR3\\venv\\lib\\site-packages\\sklearn\\metrics\\_classification.py:1565: UndefinedMetricWarning: Precision is ill-defined and being set to 0.0 in labels with no predicted samples. Use `zero_division` parameter to control this behavior.\n",
      "  _warn_prf(average, modifier, f\"{metric.capitalize()} is\", len(result))\n"
     ]
    }
   ],
   "source": [
    "print(classification_report(y_test, y_pred))\n"
   ]
  },
  {
   "cell_type": "code",
   "execution_count": 103,
   "id": "dd21c7ab",
   "metadata": {},
   "outputs": [
    {
     "data": {
      "image/png": "[encoded data removed]",
      "text/plain": [
       "<Figure size 800x500 with 1 Axes>"
      ]
     },
     "metadata": {},
     "output_type": "display_data"
    }
   ],
   "source": [
    "\n",
    "train_sizes, train_scores, val_scores = learning_curve(\n",
    "    rf_pipeline,\n",
    "    X_train, y_train,\n",
    "    cv=3,\n",
    "    scoring=\"accuracy\",\n",
    "    train_sizes=np.linspace(0.1, 1.0, 5),\n",
    "    n_jobs=-1\n",
    ")\n",
    "\n",
    "train_mean = train_scores.mean(axis=1)\n",
    "val_mean   = val_scores.mean(axis=1)\n",
    "\n",
    "plt.figure(figsize=(8, 5))\n",
    "plt.plot(train_sizes, train_mean, label=\"Train score\")\n",
    "plt.plot(train_sizes, val_mean, label=\"Validation score\")\n",
    "plt.xlabel(\"Tamaño de entrenamiento\")\n",
    "plt.ylabel(\"Accuracy\")\n",
    "plt.title(\"Learning Curve\")\n",
    "plt.legend()\n",
    "plt.show()"
   ]
  }
 ],
 "metadata": {
  "kernelspec": {
   "display_name": "venv",
   "language": "python",
   "name": "python3"
  },
  "language_info": {
   "codemirror_mode": {
    "name": "ipython",
    "version": 3
   },
   "file_extension": ".py",
   "mimetype": "text/x-python",
   "name": "python",
   "nbconvert_exporter": "python",
   "pygments_lexer": "ipython3",
   "version": "3.10.2"
  }
 },
 "nbformat": 4,
 "nbformat_minor": 5
}
