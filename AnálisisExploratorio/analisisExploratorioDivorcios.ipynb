{
 "cells": [
  {
   "cell_type": "markdown",
   "metadata": {},
   "source": [
    "# Análisis Exploratorio (Divorcios)"
   ]
  },
  {
   "cell_type": "code",
   "execution_count": 1,
   "metadata": {},
   "outputs": [],
   "source": [
    "import numpy as np\n",
    "import pandas as pd\n",
    "import matplotlib.pyplot as plt\n",
    "import scipy.stats as stats\n",
    "import seaborn as sns"
   ]
  },
  {
   "cell_type": "markdown",
   "metadata": {},
   "source": [
    "#### Leemos los datos del CSV"
   ]
  },
  {
   "cell_type": "code",
   "execution_count": 2,
   "metadata": {},
   "outputs": [],
   "source": [
    "# Configurar pandas para que muestre todas las columnas\n",
    "pd.set_option('display.max_columns', None)\n",
    "\n",
    "#Configurar pandas para que muestre todas las filas\n",
    "pd.set_option('display.max_rows', None)"
   ]
  },
  {
   "cell_type": "code",
   "execution_count": 3,
   "metadata": {},
   "outputs": [],
   "source": [
    "data = pd.read_csv('Divorcios.csv')"
   ]
  },
  {
   "cell_type": "markdown",
   "metadata": {},
   "source": [
    "<small>\n",
    "\n",
    "Haremos una exploración rápida de los datos, para ello estaremos trabajando un resumen del conjunto de datos.\n",
    "\n",
    "Primero, separaremos qué variables con cuantitativas y cuáles son cualitativas.\n",
    "\n",
    "</small>"
   ]
  },
  {
   "cell_type": "code",
   "execution_count": 17,
   "metadata": {},
   "outputs": [],
   "source": [
    "# Lista de variables cuantitativas (numéricas)\n",
    "quantitative_columns = [\n",
    "    \"AÑOREG\",  # Año de registro\n",
    "    \"DIAOCU\",  # Día de ocurrencia\n",
    "    \"MESOCU\",  # Mes de ocurrencia\n",
    "    \"EDADHOM\",  # Edad del hombre\n",
    "    \"EDADMUJ\"   # Edad de la mujer\n",
    "]\n",
    "\n",
    "# Lista de variables cualitativas (categóricas)\n",
    "cualitative_columns = [\n",
    "    \"DEPREG\",  # Departamento de registro\n",
    "    \"MUPREG\",  # Municipio de registro\n",
    "    \"MESREG\",  # Mes de registro\n",
    "    \"DEPOCU\",  # Departamento de ocurrencia\n",
    "    \"MUPOCU\",  # Municipio de ocurrencia\n",
    "    \"PUEHOM\",  # Pueblo de pertenencia del hombre\n",
    "    \"PUEMUJ\",  # Pueblo de pertenencia de la mujer\n",
    "    \"NACHOM\",  # Nacionalidad del hombre\n",
    "    \"NACMUJ\",  # Nacionalidad de la mujer\n",
    "    \"ESCHOM\",  # Escolaridad del hombre\n",
    "    \"ESCMUJ\",  # Escolaridad de la mujer\n",
    "    \"CIUOHOM\",  # Ocupación del hombre\n",
    "    \"CIUOMUJ\"   # Ocupación de la mujer\n",
    "]"
   ]
  },
  {
   "cell_type": "markdown",
   "metadata": {},
   "source": [
    "<small>Usamos `data.describe()` en Python para obtener un resumen estadístico rápido de los datos en un DataFrame de pandas. Este método proporciona información esencial como la media, la desviación estándar, los valores mínimo y máximo, y los percentiles (25%, 50%, 75%) para cada columna numérica. Esto nos ayuda a entender mejor la distribución y las características generales de los datos, identificar posibles valores atípicos y guiar el análisis exploratorio de datos.</small>\n"
   ]
  },
  {
   "cell_type": "code",
   "execution_count": 12,
   "metadata": {},
   "outputs": [
    {
     "data": {
      "application/vnd.microsoft.datawrangler.viewer.v0+json": {
       "columns": [
        {
         "name": "index",
         "rawType": "object",
         "type": "string"
        },
        {
         "name": "AÑOREG",
         "rawType": "float64",
         "type": "float"
        },
        {
         "name": "DIAOCU",
         "rawType": "float64",
         "type": "float"
        },
        {
         "name": "MESOCU",
         "rawType": "float64",
         "type": "float"
        },
        {
         "name": "EDADHOM",
         "rawType": "float64",
         "type": "float"
        },
        {
         "name": "EDADMUJ",
         "rawType": "float64",
         "type": "float"
        }
       ],
       "conversionMethod": "pd.DataFrame",
       "ref": "645443f0-3694-4511-873b-6c8de8a71124",
       "rows": [
        [
         "count",
         "5575.0",
         "5575.0",
         "5575.0",
         "5575.0",
         "5575.0"
        ],
        [
         "mean",
         "2014.2417937219732",
         "15.610044843049327",
         "6.269417040358745",
         "608.6843049327355",
         "599.6389237668161"
        ],
        [
         "std",
         "0.42820836996202916",
         "8.750767432528239",
         "3.3200669518870805",
         "473.1591660400642",
         "476.2790650290977"
        ],
        [
         "min",
         "2014.0",
         "1.0",
         "1.0",
         "17.0",
         "16.0"
        ],
        [
         "25%",
         "2014.0",
         "8.0",
         "3.0",
         "36.0",
         "33.0"
        ],
        [
         "50%",
         "2014.0",
         "15.0",
         "6.0",
         "999.0",
         "999.0"
        ],
        [
         "75%",
         "2014.0",
         "23.0",
         "9.0",
         "999.0",
         "999.0"
        ],
        [
         "max",
         "2015.0",
         "31.0",
         "12.0",
         "999.0",
         "999.0"
        ]
       ],
       "shape": {
        "columns": 5,
        "rows": 8
       }
      },
      "text/html": [
       "<div>\n",
       "<style scoped>\n",
       "    .dataframe tbody tr th:only-of-type {\n",
       "        vertical-align: middle;\n",
       "    }\n",
       "\n",
       "    .dataframe tbody tr th {\n",
       "        vertical-align: top;\n",
       "    }\n",
       "\n",
       "    .dataframe thead th {\n",
       "        text-align: right;\n",
       "    }\n",
       "</style>\n",
       "<table border=\"1\" class=\"dataframe\">\n",
       "  <thead>\n",
       "    <tr style=\"text-align: right;\">\n",
       "      <th></th>\n",
       "      <th>AÑOREG</th>\n",
       "      <th>DIAOCU</th>\n",
       "      <th>MESOCU</th>\n",
       "      <th>EDADHOM</th>\n",
       "      <th>EDADMUJ</th>\n",
       "    </tr>\n",
       "  </thead>\n",
       "  <tbody>\n",
       "    <tr>\n",
       "      <th>count</th>\n",
       "      <td>5575.000000</td>\n",
       "      <td>5575.000000</td>\n",
       "      <td>5575.000000</td>\n",
       "      <td>5575.000000</td>\n",
       "      <td>5575.000000</td>\n",
       "    </tr>\n",
       "    <tr>\n",
       "      <th>mean</th>\n",
       "      <td>2014.241794</td>\n",
       "      <td>15.610045</td>\n",
       "      <td>6.269417</td>\n",
       "      <td>608.684305</td>\n",
       "      <td>599.638924</td>\n",
       "    </tr>\n",
       "    <tr>\n",
       "      <th>std</th>\n",
       "      <td>0.428208</td>\n",
       "      <td>8.750767</td>\n",
       "      <td>3.320067</td>\n",
       "      <td>473.159166</td>\n",
       "      <td>476.279065</td>\n",
       "    </tr>\n",
       "    <tr>\n",
       "      <th>min</th>\n",
       "      <td>2014.000000</td>\n",
       "      <td>1.000000</td>\n",
       "      <td>1.000000</td>\n",
       "      <td>17.000000</td>\n",
       "      <td>16.000000</td>\n",
       "    </tr>\n",
       "    <tr>\n",
       "      <th>25%</th>\n",
       "      <td>2014.000000</td>\n",
       "      <td>8.000000</td>\n",
       "      <td>3.000000</td>\n",
       "      <td>36.000000</td>\n",
       "      <td>33.000000</td>\n",
       "    </tr>\n",
       "    <tr>\n",
       "      <th>50%</th>\n",
       "      <td>2014.000000</td>\n",
       "      <td>15.000000</td>\n",
       "      <td>6.000000</td>\n",
       "      <td>999.000000</td>\n",
       "      <td>999.000000</td>\n",
       "    </tr>\n",
       "    <tr>\n",
       "      <th>75%</th>\n",
       "      <td>2014.000000</td>\n",
       "      <td>23.000000</td>\n",
       "      <td>9.000000</td>\n",
       "      <td>999.000000</td>\n",
       "      <td>999.000000</td>\n",
       "    </tr>\n",
       "    <tr>\n",
       "      <th>max</th>\n",
       "      <td>2015.000000</td>\n",
       "      <td>31.000000</td>\n",
       "      <td>12.000000</td>\n",
       "      <td>999.000000</td>\n",
       "      <td>999.000000</td>\n",
       "    </tr>\n",
       "  </tbody>\n",
       "</table>\n",
       "</div>"
      ],
      "text/plain": [
       "            AÑOREG       DIAOCU       MESOCU      EDADHOM      EDADMUJ\n",
       "count  5575.000000  5575.000000  5575.000000  5575.000000  5575.000000\n",
       "mean   2014.241794    15.610045     6.269417   608.684305   599.638924\n",
       "std       0.428208     8.750767     3.320067   473.159166   476.279065\n",
       "min    2014.000000     1.000000     1.000000    17.000000    16.000000\n",
       "25%    2014.000000     8.000000     3.000000    36.000000    33.000000\n",
       "50%    2014.000000    15.000000     6.000000   999.000000   999.000000\n",
       "75%    2014.000000    23.000000     9.000000   999.000000   999.000000\n",
       "max    2015.000000    31.000000    12.000000   999.000000   999.000000"
      ]
     },
     "execution_count": 12,
     "metadata": {},
     "output_type": "execute_result"
    }
   ],
   "source": [
    "data[quantitative_columns].describe()"
   ]
  },
  {
   "cell_type": "markdown",
   "metadata": {},
   "source": [
    "<small>\n",
    "El método `pd.info()` en pandas se utiliza para obtener un resumen conciso de un DataFrame. Proporciona información sobre:\n",
    "\n",
    "- El número de filas y columnas.\n",
    "- Los nombres de las columnas\n",
    "- El tipo de datos de cada columna.\n",
    "- El número de valores no nulos en cada columna.\n",
    "\n",
    "Esto es útil para entender rápidamente la estructura y las características básicas del conjunto de datos antes de realizar un análisis más profundo.\n",
    "</small>\n"
   ]
  },
  {
   "cell_type": "code",
   "execution_count": 4,
   "metadata": {},
   "outputs": [
    {
     "name": "stdout",
     "output_type": "stream",
     "text": [
      "<class 'pandas.core.frame.DataFrame'>\n",
      "RangeIndex: 5575 entries, 0 to 5574\n",
      "Data columns (total 18 columns):\n",
      " #   Column   Non-Null Count  Dtype \n",
      "---  ------   --------------  ----- \n",
      " 0   DEPREG   5575 non-null   int64 \n",
      " 1   MUPREG   5575 non-null   int64 \n",
      " 2   MESREG   5575 non-null   int64 \n",
      " 3   AÑOREG   5575 non-null   int64 \n",
      " 4   DIAOCU   5575 non-null   int64 \n",
      " 5   MESOCU   5575 non-null   int64 \n",
      " 6   DEPOCU   5575 non-null   int64 \n",
      " 7   MUPOCU   5575 non-null   int64 \n",
      " 8   EDADHOM  5575 non-null   int64 \n",
      " 9   EDADMUJ  5575 non-null   int64 \n",
      " 10  PUEHOM   5575 non-null   int64 \n",
      " 11  PUEMUJ   5575 non-null   int64 \n",
      " 12  NACHOM   5575 non-null   int64 \n",
      " 13  NACMUJ   5575 non-null   int64 \n",
      " 14  ESCHOM   5575 non-null   int64 \n",
      " 15  ESCMUJ   5575 non-null   int64 \n",
      " 16  CIUOHOM  5575 non-null   object\n",
      " 17  CIUOMUJ  5575 non-null   object\n",
      "dtypes: int64(16), object(2)\n",
      "memory usage: 784.1+ KB\n",
      "None\n"
     ]
    }
   ],
   "source": [
    "print(data.info())"
   ]
  },
  {
   "cell_type": "markdown",
   "metadata": {},
   "source": [
    "<small>`isnull().sum()` nos sirve para saber la suma de cuántos valores son nulos para cada columna de nuestro dataset.</small>"
   ]
  },
  {
   "cell_type": "code",
   "execution_count": 6,
   "metadata": {},
   "outputs": [
    {
     "name": "stdout",
     "output_type": "stream",
     "text": [
      "DEPREG     0\n",
      "MUPREG     0\n",
      "MESREG     0\n",
      "AÑOREG     0\n",
      "DIAOCU     0\n",
      "MESOCU     0\n",
      "DEPOCU     0\n",
      "MUPOCU     0\n",
      "EDADHOM    0\n",
      "EDADMUJ    0\n",
      "PUEHOM     0\n",
      "PUEMUJ     0\n",
      "NACHOM     0\n",
      "NACMUJ     0\n",
      "ESCHOM     0\n",
      "ESCMUJ     0\n",
      "CIUOHOM    0\n",
      "CIUOMUJ    0\n",
      "dtype: int64\n"
     ]
    }
   ],
   "source": [
    "print(data.isnull().sum())"
   ]
  },
  {
   "cell_type": "markdown",
   "metadata": {},
   "source": [
    "<small>Ahora que ya sabemos cuántos datos faltan, sería mucho mejor saber cuánto porcentaje de ellos falta:</small>\n"
   ]
  },
  {
   "cell_type": "code",
   "execution_count": 20,
   "metadata": {},
   "outputs": [
    {
     "name": "stdout",
     "output_type": "stream",
     "text": [
      "DEPREG     0.0\n",
      "MUPREG     0.0\n",
      "MESREG     0.0\n",
      "AÑOREG     0.0\n",
      "DIAOCU     0.0\n",
      "MESOCU     0.0\n",
      "DEPOCU     0.0\n",
      "MUPOCU     0.0\n",
      "EDADHOM    0.0\n",
      "EDADMUJ    0.0\n",
      "PUEHOM     0.0\n",
      "PUEMUJ     0.0\n",
      "NACHOM     0.0\n",
      "NACMUJ     0.0\n",
      "ESCHOM     0.0\n",
      "ESCMUJ     0.0\n",
      "CIUOHOM    0.0\n",
      "CIUOMUJ    0.0\n",
      "dtype: float64\n"
     ]
    }
   ],
   "source": [
    "# Porcentaje de datos faltantes por columna\n",
    "missing_data = (data.isnull().sum() / len(data)) * 100\n",
    "print(missing_data)"
   ]
  },
  {
   "cell_type": "markdown",
   "metadata": {},
   "source": [
    "#### ¿Cuál es el propósito de hacer histogramas?\n",
    "\n",
    "<small> Los histogramas son útiles para visualizar la distribución de datos numéricos. Permiten identificar rápidamente la forma de la distribución (normal, sesgada, bimodal, etc.), la presencia de valores atípicos y cómo están agrupados los valores. Este código genera histogramas de todas las variables numéricas en el conjunto de datos, ajustando el tamaño de la figura para una visualización clara.</small>\n"
   ]
  },
  {
   "cell_type": "code",
   "execution_count": null,
   "metadata": {},
   "outputs": [
    {
     "data": {
      "image/png": "[encoded data removed]",
      "text/plain": [
       "<Figure size 1000x1000 with 6 Axes>"
      ]
     },
     "metadata": {},
     "output_type": "display_data"
    }
   ],
   "source": [
    "plot_columns = [col for col in quantitative_columns if col in data.columns]\n",
    "\n",
    "data[plot_columns].hist(figsize=(10, 10), bins=20)\n",
    "plt.tight_layout()\n",
    "plt.show()"
   ]
  },
  {
   "cell_type": "markdown",
   "metadata": {},
   "source": [
    "#### ¿Cuál es el propósito de hacer box plots?\n",
    "\n",
    "<small>Los gráficos de caja muestran la distribución de datos numéricos y son especialmente buenos para identificar valores atípicos y entender la dispersión de los datos (mediante cuartiles y medianas). Este código crea un gráfico de caja para cada variable numérica, organizándolos en una matriz de gráficos para facilitar la comparación.</small>\n"
   ]
  },
  {
   "cell_type": "code",
   "execution_count": 16,
   "metadata": {},
   "outputs": [
    {
     "data": {
      "image/png": "[encoded data removed]",
      "text/plain": [
       "<Figure size 2000x2000 with 30 Axes>"
      ]
     },
     "metadata": {},
     "output_type": "display_data"
    }
   ],
   "source": [
    "# Generar los box plots\n",
    "plot_columns = [col for col in quantitative_columns if col in data.columns]\n",
    "data[plot_columns].plot(kind='box', subplots=True, layout=(6, 5), figsize=(20, 20))\n",
    "plt.tight_layout()  # Ajusta el layout para evitar que los gráficos se sobrepongan\n",
    "plt.show()"
   ]
  },
  {
   "cell_type": "markdown",
   "metadata": {},
   "source": [
    "### Pruebas de Normalidad"
   ]
  },
  {
   "cell_type": "code",
   "execution_count": 19,
   "metadata": {},
   "outputs": [
    {
     "name": "stdout",
     "output_type": "stream",
     "text": [
      "--- AÑOREG ---\n"
     ]
    },
    {
     "data": {
      "image/png": "[encoded data removed]",
      "text/plain": [
       "<Figure size 600x400 with 1 Axes>"
      ]
     },
     "metadata": {},
     "output_type": "display_data"
    },
    {
     "name": "stdout",
     "output_type": "stream",
     "text": [
      "Kolmogorov-Smirnov Test for AÑOREG:\n",
      "Statistic: 0.4720550130355011, p-value: 0.0 (La distribución no es normal)\n",
      "\n",
      "\n",
      "--- DIAOCU ---\n"
     ]
    },
    {
     "data": {
      "image/png": "[encoded data removed]",
      "text/plain": [
       "<Figure size 600x400 with 1 Axes>"
      ]
     },
     "metadata": {},
     "output_type": "display_data"
    },
    {
     "name": "stdout",
     "output_type": "stream",
     "text": [
      "Kolmogorov-Smirnov Test for DIAOCU:\n",
      "Statistic: 0.08097250021571839, p-value: 3.0414254456649596e-32 (La distribución no es normal)\n",
      "\n",
      "\n",
      "--- MESOCU ---\n"
     ]
    },
    {
     "data": {
      "image/png": "[encoded data removed]",
      "text/plain": [
       "<Figure size 600x400 with 1 Axes>"
      ]
     },
     "metadata": {},
     "output_type": "display_data"
    },
    {
     "name": "stdout",
     "output_type": "stream",
     "text": [
      "Kolmogorov-Smirnov Test for MESOCU:\n",
      "Statistic: 0.10210658400402611, p-value: 4.6802712400676476e-51 (La distribución no es normal)\n",
      "\n",
      "\n",
      "--- EDADHOM ---\n"
     ]
    },
    {
     "data": {
      "image/png": "[encoded data removed]",
      "text/plain": [
       "<Figure size 600x400 with 1 Axes>"
      ]
     },
     "metadata": {},
     "output_type": "display_data"
    },
    {
     "name": "stdout",
     "output_type": "stream",
     "text": [
      "Kolmogorov-Smirnov Test for EDADHOM:\n",
      "Statistic: 0.390267414600556, p-value: 0.0 (La distribución no es normal)\n",
      "\n",
      "\n",
      "--- EDADMUJ ---\n"
     ]
    },
    {
     "data": {
      "image/png": "[encoded data removed]",
      "text/plain": [
       "<Figure size 600x400 with 1 Axes>"
      ]
     },
     "metadata": {},
     "output_type": "display_data"
    },
    {
     "name": "stdout",
     "output_type": "stream",
     "text": [
      "Kolmogorov-Smirnov Test for EDADMUJ:\n",
      "Statistic: 0.3862108645618924, p-value: 0.0 (La distribución no es normal)\n",
      "\n",
      "\n"
     ]
    }
   ],
   "source": [
    "normality_plot_columns = [col for col in plot_columns if col in data.columns]\n",
    "\n",
    "# Realizar pruebas de normalidad y graficar QQ plots\n",
    "results = []\n",
    "for column in normality_plot_columns:\n",
    "    print(f\"--- {column} ---\")\n",
    "    # QQ Plot\n",
    "    fig = plt.figure(figsize=(6, 4))\n",
    "    res = stats.probplot(data[column].dropna(), plot=plt)\n",
    "    plt.title(f\"Q-Q plot for {column}\")\n",
    "    plt.show()\n",
    "\n",
    "    # Kolmogorov-Smirnov test for normality\n",
    "    normed_data = (data[column].dropna() - data[column].mean()) / data[column].std()\n",
    "    ks_test = stats.kstest(normed_data, 'norm')\n",
    "    normality_text = \"La distribución es normal\" if ks_test.pvalue > 0.05 else \"La distribución no es normal\"\n",
    "    print(f\"Kolmogorov-Smirnov Test for {column}:\\nStatistic: {ks_test.statistic}, p-value: {ks_test.pvalue} ({normality_text})\\n\\n\")\n",
    "\n",
    "    results.append((column, ks_test.statistic, ks_test.pvalue, normality_text))\n"
   ]
  },
  {
   "cell_type": "markdown",
   "metadata": {},
   "source": [
    "### Tabla de Frecuencias de Variables Cualitativas"
   ]
  },
  {
   "cell_type": "markdown",
   "metadata": {},
   "source": [
    "<small> En este apartado, se muestran las tablas de frecuencia para diversas variables cualitativas dentro del _dataset_. Estas tablas muestran la cantidad de veces que cada valor único aparece en el conjunto de datos, proporcionando una visión clara de la distribución y prevalencia de las características observadas. Este análisis ayuda a identificar tendencias, valores atípicos y posibles inconsistencias en los datos."
   ]
  },
  {
   "cell_type": "code",
   "execution_count": 18,
   "metadata": {},
   "outputs": [
    {
     "name": "stdout",
     "output_type": "stream",
     "text": [
      "Tabla de frecuencias para la variable: DEPREG\n"
     ]
    },
    {
     "data": {
      "application/vnd.microsoft.datawrangler.viewer.v0+json": {
       "columns": [
        {
         "name": "index",
         "rawType": "int64",
         "type": "integer"
        },
        {
         "name": "DEPREG",
         "rawType": "int64",
         "type": "integer"
        },
        {
         "name": "count",
         "rawType": "int64",
         "type": "integer"
        }
       ],
       "conversionMethod": "pd.DataFrame",
       "ref": "254f80c8-20f1-4534-8e90-f1aa250ea056",
       "rows": [
        [
         "0",
         "1",
         "2180"
        ],
        [
         "1",
         "9",
         "350"
        ],
        [
         "2",
         "22",
         "321"
        ],
        [
         "3",
         "5",
         "273"
        ],
        [
         "4",
         "12",
         "192"
        ],
        [
         "5",
         "10",
         "187"
        ],
        [
         "6",
         "13",
         "164"
        ],
        [
         "7",
         "14",
         "158"
        ],
        [
         "8",
         "18",
         "153"
        ],
        [
         "9",
         "11",
         "152"
        ],
        [
         "10",
         "19",
         "151"
        ],
        [
         "11",
         "20",
         "147"
        ],
        [
         "12",
         "16",
         "139"
        ],
        [
         "13",
         "4",
         "137"
        ],
        [
         "14",
         "17",
         "129"
        ],
        [
         "15",
         "21",
         "127"
        ],
        [
         "16",
         "6",
         "124"
        ],
        [
         "17",
         "3",
         "122"
        ],
        [
         "18",
         "2",
         "109"
        ],
        [
         "19",
         "15",
         "101"
        ],
        [
         "20",
         "8",
         "98"
        ],
        [
         "21",
         "7",
         "61"
        ]
       ],
       "shape": {
        "columns": 2,
        "rows": 22
       }
      },
      "text/html": [
       "<div>\n",
       "<style scoped>\n",
       "    .dataframe tbody tr th:only-of-type {\n",
       "        vertical-align: middle;\n",
       "    }\n",
       "\n",
       "    .dataframe tbody tr th {\n",
       "        vertical-align: top;\n",
       "    }\n",
       "\n",
       "    .dataframe thead th {\n",
       "        text-align: right;\n",
       "    }\n",
       "</style>\n",
       "<table border=\"1\" class=\"dataframe\">\n",
       "  <thead>\n",
       "    <tr style=\"text-align: right;\">\n",
       "      <th></th>\n",
       "      <th>DEPREG</th>\n",
       "      <th>count</th>\n",
       "    </tr>\n",
       "  </thead>\n",
       "  <tbody>\n",
       "    <tr>\n",
       "      <th>0</th>\n",
       "      <td>1</td>\n",
       "      <td>2180</td>\n",
       "    </tr>\n",
       "    <tr>\n",
       "      <th>1</th>\n",
       "      <td>9</td>\n",
       "      <td>350</td>\n",
       "    </tr>\n",
       "    <tr>\n",
       "      <th>2</th>\n",
       "      <td>22</td>\n",
       "      <td>321</td>\n",
       "    </tr>\n",
       "    <tr>\n",
       "      <th>3</th>\n",
       "      <td>5</td>\n",
       "      <td>273</td>\n",
       "    </tr>\n",
       "    <tr>\n",
       "      <th>4</th>\n",
       "      <td>12</td>\n",
       "      <td>192</td>\n",
       "    </tr>\n",
       "    <tr>\n",
       "      <th>5</th>\n",
       "      <td>10</td>\n",
       "      <td>187</td>\n",
       "    </tr>\n",
       "    <tr>\n",
       "      <th>6</th>\n",
       "      <td>13</td>\n",
       "      <td>164</td>\n",
       "    </tr>\n",
       "    <tr>\n",
       "      <th>7</th>\n",
       "      <td>14</td>\n",
       "      <td>158</td>\n",
       "    </tr>\n",
       "    <tr>\n",
       "      <th>8</th>\n",
       "      <td>18</td>\n",
       "      <td>153</td>\n",
       "    </tr>\n",
       "    <tr>\n",
       "      <th>9</th>\n",
       "      <td>11</td>\n",
       "      <td>152</td>\n",
       "    </tr>\n",
       "    <tr>\n",
       "      <th>10</th>\n",
       "      <td>19</td>\n",
       "      <td>151</td>\n",
       "    </tr>\n",
       "    <tr>\n",
       "      <th>11</th>\n",
       "      <td>20</td>\n",
       "      <td>147</td>\n",
       "    </tr>\n",
       "    <tr>\n",
       "      <th>12</th>\n",
       "      <td>16</td>\n",
       "      <td>139</td>\n",
       "    </tr>\n",
       "    <tr>\n",
       "      <th>13</th>\n",
       "      <td>4</td>\n",
       "      <td>137</td>\n",
       "    </tr>\n",
       "    <tr>\n",
       "      <th>14</th>\n",
       "      <td>17</td>\n",
       "      <td>129</td>\n",
       "    </tr>\n",
       "    <tr>\n",
       "      <th>15</th>\n",
       "      <td>21</td>\n",
       "      <td>127</td>\n",
       "    </tr>\n",
       "    <tr>\n",
       "      <th>16</th>\n",
       "      <td>6</td>\n",
       "      <td>124</td>\n",
       "    </tr>\n",
       "    <tr>\n",
       "      <th>17</th>\n",
       "      <td>3</td>\n",
       "      <td>122</td>\n",
       "    </tr>\n",
       "    <tr>\n",
       "      <th>18</th>\n",
       "      <td>2</td>\n",
       "      <td>109</td>\n",
       "    </tr>\n",
       "    <tr>\n",
       "      <th>19</th>\n",
       "      <td>15</td>\n",
       "      <td>101</td>\n",
       "    </tr>\n",
       "    <tr>\n",
       "      <th>20</th>\n",
       "      <td>8</td>\n",
       "      <td>98</td>\n",
       "    </tr>\n",
       "    <tr>\n",
       "      <th>21</th>\n",
       "      <td>7</td>\n",
       "      <td>61</td>\n",
       "    </tr>\n",
       "  </tbody>\n",
       "</table>\n",
       "</div>"
      ],
      "text/plain": [
       "    DEPREG  count\n",
       "0        1   2180\n",
       "1        9    350\n",
       "2       22    321\n",
       "3        5    273\n",
       "4       12    192\n",
       "5       10    187\n",
       "6       13    164\n",
       "7       14    158\n",
       "8       18    153\n",
       "9       11    152\n",
       "10      19    151\n",
       "11      20    147\n",
       "12      16    139\n",
       "13       4    137\n",
       "14      17    129\n",
       "15      21    127\n",
       "16       6    124\n",
       "17       3    122\n",
       "18       2    109\n",
       "19      15    101\n",
       "20       8     98\n",
       "21       7     61"
      ]
     },
     "metadata": {},
     "output_type": "display_data"
    },
    {
     "name": "stdout",
     "output_type": "stream",
     "text": [
      "\n",
      "\n",
      "Tabla de frecuencias para la variable: MUPREG\n"
     ]
    },
    {
     "data": {
      "application/vnd.microsoft.datawrangler.viewer.v0+json": {
       "columns": [
        {
         "name": "index",
         "rawType": "int64",
         "type": "integer"
        },
        {
         "name": "MUPREG",
         "rawType": "int64",
         "type": "integer"
        },
        {
         "name": "count",
         "rawType": "int64",
         "type": "integer"
        }
       ],
       "conversionMethod": "pd.DataFrame",
       "ref": "5e745f4d-9bb6-43c5-9bf7-550906ed5fdd",
       "rows": [
        [
         "0",
         "101",
         "1774"
        ],
        [
         "1",
         "901",
         "134"
        ],
        [
         "2",
         "115",
         "119"
        ],
        [
         "3",
         "2101",
         "107"
        ],
        [
         "4",
         "1001",
         "99"
        ],
        [
         "5",
         "1101",
         "91"
        ],
        [
         "6",
         "1301",
         "90"
        ],
        [
         "7",
         "2201",
         "87"
        ],
        [
         "8",
         "1801",
         "83"
        ],
        [
         "9",
         "1601",
         "81"
        ],
        [
         "10",
         "501",
         "81"
        ],
        [
         "11",
         "920",
         "81"
        ],
        [
         "12",
         "1901",
         "77"
        ],
        [
         "13",
         "114",
         "65"
        ],
        [
         "14",
         "2001",
         "58"
        ],
        [
         "15",
         "201",
         "57"
        ],
        [
         "16",
         "401",
         "55"
        ],
        [
         "17",
         "502",
         "51"
        ],
        [
         "18",
         "108",
         "50"
        ],
        [
         "19",
         "301",
         "46"
        ],
        [
         "20",
         "2205",
         "45"
        ],
        [
         "21",
         "701",
         "43"
        ],
        [
         "22",
         "801",
         "42"
        ],
        [
         "23",
         "1401",
         "41"
        ],
        [
         "24",
         "1804",
         "41"
        ],
        [
         "25",
         "116",
         "40"
        ],
        [
         "26",
         "506",
         "38"
        ],
        [
         "27",
         "2202",
         "36"
        ],
        [
         "28",
         "1215",
         "34"
        ],
        [
         "29",
         "2203",
         "34"
        ]
       ],
       "shape": {
        "columns": 2,
        "rows": 30
       }
      },
      "text/html": [
       "<div>\n",
       "<style scoped>\n",
       "    .dataframe tbody tr th:only-of-type {\n",
       "        vertical-align: middle;\n",
       "    }\n",
       "\n",
       "    .dataframe tbody tr th {\n",
       "        vertical-align: top;\n",
       "    }\n",
       "\n",
       "    .dataframe thead th {\n",
       "        text-align: right;\n",
       "    }\n",
       "</style>\n",
       "<table border=\"1\" class=\"dataframe\">\n",
       "  <thead>\n",
       "    <tr style=\"text-align: right;\">\n",
       "      <th></th>\n",
       "      <th>MUPREG</th>\n",
       "      <th>count</th>\n",
       "    </tr>\n",
       "  </thead>\n",
       "  <tbody>\n",
       "    <tr>\n",
       "      <th>0</th>\n",
       "      <td>101</td>\n",
       "      <td>1774</td>\n",
       "    </tr>\n",
       "    <tr>\n",
       "      <th>1</th>\n",
       "      <td>901</td>\n",
       "      <td>134</td>\n",
       "    </tr>\n",
       "    <tr>\n",
       "      <th>2</th>\n",
       "      <td>115</td>\n",
       "      <td>119</td>\n",
       "    </tr>\n",
       "    <tr>\n",
       "      <th>3</th>\n",
       "      <td>2101</td>\n",
       "      <td>107</td>\n",
       "    </tr>\n",
       "    <tr>\n",
       "      <th>4</th>\n",
       "      <td>1001</td>\n",
       "      <td>99</td>\n",
       "    </tr>\n",
       "    <tr>\n",
       "      <th>5</th>\n",
       "      <td>1101</td>\n",
       "      <td>91</td>\n",
       "    </tr>\n",
       "    <tr>\n",
       "      <th>6</th>\n",
       "      <td>1301</td>\n",
       "      <td>90</td>\n",
       "    </tr>\n",
       "    <tr>\n",
       "      <th>7</th>\n",
       "      <td>2201</td>\n",
       "      <td>87</td>\n",
       "    </tr>\n",
       "    <tr>\n",
       "      <th>8</th>\n",
       "      <td>1801</td>\n",
       "      <td>83</td>\n",
       "    </tr>\n",
       "    <tr>\n",
       "      <th>9</th>\n",
       "      <td>1601</td>\n",
       "      <td>81</td>\n",
       "    </tr>\n",
       "    <tr>\n",
       "      <th>10</th>\n",
       "      <td>501</td>\n",
       "      <td>81</td>\n",
       "    </tr>\n",
       "    <tr>\n",
       "      <th>11</th>\n",
       "      <td>920</td>\n",
       "      <td>81</td>\n",
       "    </tr>\n",
       "    <tr>\n",
       "      <th>12</th>\n",
       "      <td>1901</td>\n",
       "      <td>77</td>\n",
       "    </tr>\n",
       "    <tr>\n",
       "      <th>13</th>\n",
       "      <td>114</td>\n",
       "      <td>65</td>\n",
       "    </tr>\n",
       "    <tr>\n",
       "      <th>14</th>\n",
       "      <td>2001</td>\n",
       "      <td>58</td>\n",
       "    </tr>\n",
       "    <tr>\n",
       "      <th>15</th>\n",
       "      <td>201</td>\n",
       "      <td>57</td>\n",
       "    </tr>\n",
       "    <tr>\n",
       "      <th>16</th>\n",
       "      <td>401</td>\n",
       "      <td>55</td>\n",
       "    </tr>\n",
       "    <tr>\n",
       "      <th>17</th>\n",
       "      <td>502</td>\n",
       "      <td>51</td>\n",
       "    </tr>\n",
       "    <tr>\n",
       "      <th>18</th>\n",
       "      <td>108</td>\n",
       "      <td>50</td>\n",
       "    </tr>\n",
       "    <tr>\n",
       "      <th>19</th>\n",
       "      <td>301</td>\n",
       "      <td>46</td>\n",
       "    </tr>\n",
       "    <tr>\n",
       "      <th>20</th>\n",
       "      <td>2205</td>\n",
       "      <td>45</td>\n",
       "    </tr>\n",
       "    <tr>\n",
       "      <th>21</th>\n",
       "      <td>701</td>\n",
       "      <td>43</td>\n",
       "    </tr>\n",
       "    <tr>\n",
       "      <th>22</th>\n",
       "      <td>801</td>\n",
       "      <td>42</td>\n",
       "    </tr>\n",
       "    <tr>\n",
       "      <th>23</th>\n",
       "      <td>1401</td>\n",
       "      <td>41</td>\n",
       "    </tr>\n",
       "    <tr>\n",
       "      <th>24</th>\n",
       "      <td>1804</td>\n",
       "      <td>41</td>\n",
       "    </tr>\n",
       "    <tr>\n",
       "      <th>25</th>\n",
       "      <td>116</td>\n",
       "      <td>40</td>\n",
       "    </tr>\n",
       "    <tr>\n",
       "      <th>26</th>\n",
       "      <td>506</td>\n",
       "      <td>38</td>\n",
       "    </tr>\n",
       "    <tr>\n",
       "      <th>27</th>\n",
       "      <td>2202</td>\n",
       "      <td>36</td>\n",
       "    </tr>\n",
       "    <tr>\n",
       "      <th>28</th>\n",
       "      <td>1215</td>\n",
       "      <td>34</td>\n",
       "    </tr>\n",
       "    <tr>\n",
       "      <th>29</th>\n",
       "      <td>2203</td>\n",
       "      <td>34</td>\n",
       "    </tr>\n",
       "  </tbody>\n",
       "</table>\n",
       "</div>"
      ],
      "text/plain": [
       "    MUPREG  count\n",
       "0      101   1774\n",
       "1      901    134\n",
       "2      115    119\n",
       "3     2101    107\n",
       "4     1001     99\n",
       "5     1101     91\n",
       "6     1301     90\n",
       "7     2201     87\n",
       "8     1801     83\n",
       "9     1601     81\n",
       "10     501     81\n",
       "11     920     81\n",
       "12    1901     77\n",
       "13     114     65\n",
       "14    2001     58\n",
       "15     201     57\n",
       "16     401     55\n",
       "17     502     51\n",
       "18     108     50\n",
       "19     301     46\n",
       "20    2205     45\n",
       "21     701     43\n",
       "22     801     42\n",
       "23    1401     41\n",
       "24    1804     41\n",
       "25     116     40\n",
       "26     506     38\n",
       "27    2202     36\n",
       "28    1215     34\n",
       "29    2203     34"
      ]
     },
     "metadata": {},
     "output_type": "display_data"
    },
    {
     "name": "stdout",
     "output_type": "stream",
     "text": [
      "\n",
      "\n",
      "Tabla de frecuencias para la variable: MESREG\n"
     ]
    },
    {
     "data": {
      "application/vnd.microsoft.datawrangler.viewer.v0+json": {
       "columns": [
        {
         "name": "index",
         "rawType": "int64",
         "type": "integer"
        },
        {
         "name": "MESREG",
         "rawType": "int64",
         "type": "integer"
        },
        {
         "name": "count",
         "rawType": "int64",
         "type": "integer"
        }
       ],
       "conversionMethod": "pd.DataFrame",
       "ref": "7310397d-fe6a-49d7-9619-f67262c5aa86",
       "rows": [
        [
         "0",
         "3",
         "553"
        ],
        [
         "1",
         "6",
         "546"
        ],
        [
         "2",
         "5",
         "511"
        ],
        [
         "3",
         "7",
         "490"
        ],
        [
         "4",
         "11",
         "486"
        ],
        [
         "5",
         "2",
         "476"
        ],
        [
         "6",
         "10",
         "475"
        ],
        [
         "7",
         "4",
         "429"
        ],
        [
         "8",
         "9",
         "420"
        ],
        [
         "9",
         "8",
         "418"
        ],
        [
         "10",
         "1",
         "396"
        ],
        [
         "11",
         "12",
         "375"
        ]
       ],
       "shape": {
        "columns": 2,
        "rows": 12
       }
      },
      "text/html": [
       "<div>\n",
       "<style scoped>\n",
       "    .dataframe tbody tr th:only-of-type {\n",
       "        vertical-align: middle;\n",
       "    }\n",
       "\n",
       "    .dataframe tbody tr th {\n",
       "        vertical-align: top;\n",
       "    }\n",
       "\n",
       "    .dataframe thead th {\n",
       "        text-align: right;\n",
       "    }\n",
       "</style>\n",
       "<table border=\"1\" class=\"dataframe\">\n",
       "  <thead>\n",
       "    <tr style=\"text-align: right;\">\n",
       "      <th></th>\n",
       "      <th>MESREG</th>\n",
       "      <th>count</th>\n",
       "    </tr>\n",
       "  </thead>\n",
       "  <tbody>\n",
       "    <tr>\n",
       "      <th>0</th>\n",
       "      <td>3</td>\n",
       "      <td>553</td>\n",
       "    </tr>\n",
       "    <tr>\n",
       "      <th>1</th>\n",
       "      <td>6</td>\n",
       "      <td>546</td>\n",
       "    </tr>\n",
       "    <tr>\n",
       "      <th>2</th>\n",
       "      <td>5</td>\n",
       "      <td>511</td>\n",
       "    </tr>\n",
       "    <tr>\n",
       "      <th>3</th>\n",
       "      <td>7</td>\n",
       "      <td>490</td>\n",
       "    </tr>\n",
       "    <tr>\n",
       "      <th>4</th>\n",
       "      <td>11</td>\n",
       "      <td>486</td>\n",
       "    </tr>\n",
       "    <tr>\n",
       "      <th>5</th>\n",
       "      <td>2</td>\n",
       "      <td>476</td>\n",
       "    </tr>\n",
       "    <tr>\n",
       "      <th>6</th>\n",
       "      <td>10</td>\n",
       "      <td>475</td>\n",
       "    </tr>\n",
       "    <tr>\n",
       "      <th>7</th>\n",
       "      <td>4</td>\n",
       "      <td>429</td>\n",
       "    </tr>\n",
       "    <tr>\n",
       "      <th>8</th>\n",
       "      <td>9</td>\n",
       "      <td>420</td>\n",
       "    </tr>\n",
       "    <tr>\n",
       "      <th>9</th>\n",
       "      <td>8</td>\n",
       "      <td>418</td>\n",
       "    </tr>\n",
       "    <tr>\n",
       "      <th>10</th>\n",
       "      <td>1</td>\n",
       "      <td>396</td>\n",
       "    </tr>\n",
       "    <tr>\n",
       "      <th>11</th>\n",
       "      <td>12</td>\n",
       "      <td>375</td>\n",
       "    </tr>\n",
       "  </tbody>\n",
       "</table>\n",
       "</div>"
      ],
      "text/plain": [
       "    MESREG  count\n",
       "0        3    553\n",
       "1        6    546\n",
       "2        5    511\n",
       "3        7    490\n",
       "4       11    486\n",
       "5        2    476\n",
       "6       10    475\n",
       "7        4    429\n",
       "8        9    420\n",
       "9        8    418\n",
       "10       1    396\n",
       "11      12    375"
      ]
     },
     "metadata": {},
     "output_type": "display_data"
    },
    {
     "name": "stdout",
     "output_type": "stream",
     "text": [
      "\n",
      "\n",
      "Tabla de frecuencias para la variable: DEPOCU\n"
     ]
    },
    {
     "data": {
      "application/vnd.microsoft.datawrangler.viewer.v0+json": {
       "columns": [
        {
         "name": "index",
         "rawType": "int64",
         "type": "integer"
        },
        {
         "name": "DEPOCU",
         "rawType": "int64",
         "type": "integer"
        },
        {
         "name": "count",
         "rawType": "int64",
         "type": "integer"
        }
       ],
       "conversionMethod": "pd.DataFrame",
       "ref": "7f3fa6c1-31b9-4e44-829a-aee1f5ffaf44",
       "rows": [
        [
         "0",
         "1",
         "2044"
        ],
        [
         "1",
         "9",
         "370"
        ],
        [
         "2",
         "22",
         "344"
        ],
        [
         "3",
         "5",
         "291"
        ],
        [
         "4",
         "12",
         "212"
        ],
        [
         "5",
         "10",
         "206"
        ],
        [
         "6",
         "13",
         "170"
        ],
        [
         "7",
         "18",
         "163"
        ],
        [
         "8",
         "20",
         "162"
        ],
        [
         "9",
         "14",
         "161"
        ],
        [
         "10",
         "19",
         "147"
        ],
        [
         "11",
         "16",
         "140"
        ],
        [
         "12",
         "3",
         "138"
        ],
        [
         "13",
         "11",
         "137"
        ],
        [
         "14",
         "6",
         "135"
        ],
        [
         "15",
         "17",
         "125"
        ],
        [
         "16",
         "4",
         "124"
        ],
        [
         "17",
         "15",
         "121"
        ],
        [
         "18",
         "21",
         "114"
        ],
        [
         "19",
         "2",
         "114"
        ],
        [
         "20",
         "8",
         "100"
        ],
        [
         "21",
         "7",
         "57"
        ]
       ],
       "shape": {
        "columns": 2,
        "rows": 22
       }
      },
      "text/html": [
       "<div>\n",
       "<style scoped>\n",
       "    .dataframe tbody tr th:only-of-type {\n",
       "        vertical-align: middle;\n",
       "    }\n",
       "\n",
       "    .dataframe tbody tr th {\n",
       "        vertical-align: top;\n",
       "    }\n",
       "\n",
       "    .dataframe thead th {\n",
       "        text-align: right;\n",
       "    }\n",
       "</style>\n",
       "<table border=\"1\" class=\"dataframe\">\n",
       "  <thead>\n",
       "    <tr style=\"text-align: right;\">\n",
       "      <th></th>\n",
       "      <th>DEPOCU</th>\n",
       "      <th>count</th>\n",
       "    </tr>\n",
       "  </thead>\n",
       "  <tbody>\n",
       "    <tr>\n",
       "      <th>0</th>\n",
       "      <td>1</td>\n",
       "      <td>2044</td>\n",
       "    </tr>\n",
       "    <tr>\n",
       "      <th>1</th>\n",
       "      <td>9</td>\n",
       "      <td>370</td>\n",
       "    </tr>\n",
       "    <tr>\n",
       "      <th>2</th>\n",
       "      <td>22</td>\n",
       "      <td>344</td>\n",
       "    </tr>\n",
       "    <tr>\n",
       "      <th>3</th>\n",
       "      <td>5</td>\n",
       "      <td>291</td>\n",
       "    </tr>\n",
       "    <tr>\n",
       "      <th>4</th>\n",
       "      <td>12</td>\n",
       "      <td>212</td>\n",
       "    </tr>\n",
       "    <tr>\n",
       "      <th>5</th>\n",
       "      <td>10</td>\n",
       "      <td>206</td>\n",
       "    </tr>\n",
       "    <tr>\n",
       "      <th>6</th>\n",
       "      <td>13</td>\n",
       "      <td>170</td>\n",
       "    </tr>\n",
       "    <tr>\n",
       "      <th>7</th>\n",
       "      <td>18</td>\n",
       "      <td>163</td>\n",
       "    </tr>\n",
       "    <tr>\n",
       "      <th>8</th>\n",
       "      <td>20</td>\n",
       "      <td>162</td>\n",
       "    </tr>\n",
       "    <tr>\n",
       "      <th>9</th>\n",
       "      <td>14</td>\n",
       "      <td>161</td>\n",
       "    </tr>\n",
       "    <tr>\n",
       "      <th>10</th>\n",
       "      <td>19</td>\n",
       "      <td>147</td>\n",
       "    </tr>\n",
       "    <tr>\n",
       "      <th>11</th>\n",
       "      <td>16</td>\n",
       "      <td>140</td>\n",
       "    </tr>\n",
       "    <tr>\n",
       "      <th>12</th>\n",
       "      <td>3</td>\n",
       "      <td>138</td>\n",
       "    </tr>\n",
       "    <tr>\n",
       "      <th>13</th>\n",
       "      <td>11</td>\n",
       "      <td>137</td>\n",
       "    </tr>\n",
       "    <tr>\n",
       "      <th>14</th>\n",
       "      <td>6</td>\n",
       "      <td>135</td>\n",
       "    </tr>\n",
       "    <tr>\n",
       "      <th>15</th>\n",
       "      <td>17</td>\n",
       "      <td>125</td>\n",
       "    </tr>\n",
       "    <tr>\n",
       "      <th>16</th>\n",
       "      <td>4</td>\n",
       "      <td>124</td>\n",
       "    </tr>\n",
       "    <tr>\n",
       "      <th>17</th>\n",
       "      <td>15</td>\n",
       "      <td>121</td>\n",
       "    </tr>\n",
       "    <tr>\n",
       "      <th>18</th>\n",
       "      <td>21</td>\n",
       "      <td>114</td>\n",
       "    </tr>\n",
       "    <tr>\n",
       "      <th>19</th>\n",
       "      <td>2</td>\n",
       "      <td>114</td>\n",
       "    </tr>\n",
       "    <tr>\n",
       "      <th>20</th>\n",
       "      <td>8</td>\n",
       "      <td>100</td>\n",
       "    </tr>\n",
       "    <tr>\n",
       "      <th>21</th>\n",
       "      <td>7</td>\n",
       "      <td>57</td>\n",
       "    </tr>\n",
       "  </tbody>\n",
       "</table>\n",
       "</div>"
      ],
      "text/plain": [
       "    DEPOCU  count\n",
       "0        1   2044\n",
       "1        9    370\n",
       "2       22    344\n",
       "3        5    291\n",
       "4       12    212\n",
       "5       10    206\n",
       "6       13    170\n",
       "7       18    163\n",
       "8       20    162\n",
       "9       14    161\n",
       "10      19    147\n",
       "11      16    140\n",
       "12       3    138\n",
       "13      11    137\n",
       "14       6    135\n",
       "15      17    125\n",
       "16       4    124\n",
       "17      15    121\n",
       "18      21    114\n",
       "19       2    114\n",
       "20       8    100\n",
       "21       7     57"
      ]
     },
     "metadata": {},
     "output_type": "display_data"
    },
    {
     "name": "stdout",
     "output_type": "stream",
     "text": [
      "\n",
      "\n",
      "Tabla de frecuencias para la variable: MUPOCU\n"
     ]
    },
    {
     "data": {
      "application/vnd.microsoft.datawrangler.viewer.v0+json": {
       "columns": [
        {
         "name": "index",
         "rawType": "int64",
         "type": "integer"
        },
        {
         "name": "MUPOCU",
         "rawType": "int64",
         "type": "integer"
        },
        {
         "name": "count",
         "rawType": "int64",
         "type": "integer"
        }
       ],
       "conversionMethod": "pd.DataFrame",
       "ref": "e5fc1e0c-cd3e-441e-8ff7-c2e7531d90c8",
       "rows": [
        [
         "0",
         "101",
         "1344"
        ],
        [
         "1",
         "108",
         "209"
        ],
        [
         "2",
         "115",
         "157"
        ],
        [
         "3",
         "901",
         "150"
        ],
        [
         "4",
         "501",
         "104"
        ],
        [
         "5",
         "2201",
         "99"
        ],
        [
         "6",
         "920",
         "91"
        ],
        [
         "7",
         "1801",
         "83"
        ],
        [
         "8",
         "1301",
         "79"
        ],
        [
         "9",
         "1901",
         "70"
        ],
        [
         "10",
         "1001",
         "67"
        ],
        [
         "11",
         "1101",
         "66"
        ],
        [
         "12",
         "2101",
         "65"
        ],
        [
         "13",
         "2001",
         "65"
        ],
        [
         "14",
         "1601",
         "59"
        ],
        [
         "15",
         "301",
         "54"
        ],
        [
         "16",
         "114",
         "51"
        ],
        [
         "17",
         "116",
         "51"
        ],
        [
         "18",
         "401",
         "50"
        ],
        [
         "19",
         "1804",
         "48"
        ],
        [
         "20",
         "2205",
         "47"
        ],
        [
         "21",
         "102",
         "46"
        ],
        [
         "22",
         "502",
         "46"
        ],
        [
         "23",
         "506",
         "42"
        ],
        [
         "24",
         "801",
         "39"
        ],
        [
         "25",
         "1401",
         "36"
        ],
        [
         "26",
         "106",
         "35"
        ],
        [
         "27",
         "1215",
         "34"
        ],
        [
         "28",
         "1412",
         "33"
        ],
        [
         "29",
         "2203",
         "32"
        ]
       ],
       "shape": {
        "columns": 2,
        "rows": 30
       }
      },
      "text/html": [
       "<div>\n",
       "<style scoped>\n",
       "    .dataframe tbody tr th:only-of-type {\n",
       "        vertical-align: middle;\n",
       "    }\n",
       "\n",
       "    .dataframe tbody tr th {\n",
       "        vertical-align: top;\n",
       "    }\n",
       "\n",
       "    .dataframe thead th {\n",
       "        text-align: right;\n",
       "    }\n",
       "</style>\n",
       "<table border=\"1\" class=\"dataframe\">\n",
       "  <thead>\n",
       "    <tr style=\"text-align: right;\">\n",
       "      <th></th>\n",
       "      <th>MUPOCU</th>\n",
       "      <th>count</th>\n",
       "    </tr>\n",
       "  </thead>\n",
       "  <tbody>\n",
       "    <tr>\n",
       "      <th>0</th>\n",
       "      <td>101</td>\n",
       "      <td>1344</td>\n",
       "    </tr>\n",
       "    <tr>\n",
       "      <th>1</th>\n",
       "      <td>108</td>\n",
       "      <td>209</td>\n",
       "    </tr>\n",
       "    <tr>\n",
       "      <th>2</th>\n",
       "      <td>115</td>\n",
       "      <td>157</td>\n",
       "    </tr>\n",
       "    <tr>\n",
       "      <th>3</th>\n",
       "      <td>901</td>\n",
       "      <td>150</td>\n",
       "    </tr>\n",
       "    <tr>\n",
       "      <th>4</th>\n",
       "      <td>501</td>\n",
       "      <td>104</td>\n",
       "    </tr>\n",
       "    <tr>\n",
       "      <th>5</th>\n",
       "      <td>2201</td>\n",
       "      <td>99</td>\n",
       "    </tr>\n",
       "    <tr>\n",
       "      <th>6</th>\n",
       "      <td>920</td>\n",
       "      <td>91</td>\n",
       "    </tr>\n",
       "    <tr>\n",
       "      <th>7</th>\n",
       "      <td>1801</td>\n",
       "      <td>83</td>\n",
       "    </tr>\n",
       "    <tr>\n",
       "      <th>8</th>\n",
       "      <td>1301</td>\n",
       "      <td>79</td>\n",
       "    </tr>\n",
       "    <tr>\n",
       "      <th>9</th>\n",
       "      <td>1901</td>\n",
       "      <td>70</td>\n",
       "    </tr>\n",
       "    <tr>\n",
       "      <th>10</th>\n",
       "      <td>1001</td>\n",
       "      <td>67</td>\n",
       "    </tr>\n",
       "    <tr>\n",
       "      <th>11</th>\n",
       "      <td>1101</td>\n",
       "      <td>66</td>\n",
       "    </tr>\n",
       "    <tr>\n",
       "      <th>12</th>\n",
       "      <td>2101</td>\n",
       "      <td>65</td>\n",
       "    </tr>\n",
       "    <tr>\n",
       "      <th>13</th>\n",
       "      <td>2001</td>\n",
       "      <td>65</td>\n",
       "    </tr>\n",
       "    <tr>\n",
       "      <th>14</th>\n",
       "      <td>1601</td>\n",
       "      <td>59</td>\n",
       "    </tr>\n",
       "    <tr>\n",
       "      <th>15</th>\n",
       "      <td>301</td>\n",
       "      <td>54</td>\n",
       "    </tr>\n",
       "    <tr>\n",
       "      <th>16</th>\n",
       "      <td>114</td>\n",
       "      <td>51</td>\n",
       "    </tr>\n",
       "    <tr>\n",
       "      <th>17</th>\n",
       "      <td>116</td>\n",
       "      <td>51</td>\n",
       "    </tr>\n",
       "    <tr>\n",
       "      <th>18</th>\n",
       "      <td>401</td>\n",
       "      <td>50</td>\n",
       "    </tr>\n",
       "    <tr>\n",
       "      <th>19</th>\n",
       "      <td>1804</td>\n",
       "      <td>48</td>\n",
       "    </tr>\n",
       "    <tr>\n",
       "      <th>20</th>\n",
       "      <td>2205</td>\n",
       "      <td>47</td>\n",
       "    </tr>\n",
       "    <tr>\n",
       "      <th>21</th>\n",
       "      <td>102</td>\n",
       "      <td>46</td>\n",
       "    </tr>\n",
       "    <tr>\n",
       "      <th>22</th>\n",
       "      <td>502</td>\n",
       "      <td>46</td>\n",
       "    </tr>\n",
       "    <tr>\n",
       "      <th>23</th>\n",
       "      <td>506</td>\n",
       "      <td>42</td>\n",
       "    </tr>\n",
       "    <tr>\n",
       "      <th>24</th>\n",
       "      <td>801</td>\n",
       "      <td>39</td>\n",
       "    </tr>\n",
       "    <tr>\n",
       "      <th>25</th>\n",
       "      <td>1401</td>\n",
       "      <td>36</td>\n",
       "    </tr>\n",
       "    <tr>\n",
       "      <th>26</th>\n",
       "      <td>106</td>\n",
       "      <td>35</td>\n",
       "    </tr>\n",
       "    <tr>\n",
       "      <th>27</th>\n",
       "      <td>1215</td>\n",
       "      <td>34</td>\n",
       "    </tr>\n",
       "    <tr>\n",
       "      <th>28</th>\n",
       "      <td>1412</td>\n",
       "      <td>33</td>\n",
       "    </tr>\n",
       "    <tr>\n",
       "      <th>29</th>\n",
       "      <td>2203</td>\n",
       "      <td>32</td>\n",
       "    </tr>\n",
       "  </tbody>\n",
       "</table>\n",
       "</div>"
      ],
      "text/plain": [
       "    MUPOCU  count\n",
       "0      101   1344\n",
       "1      108    209\n",
       "2      115    157\n",
       "3      901    150\n",
       "4      501    104\n",
       "5     2201     99\n",
       "6      920     91\n",
       "7     1801     83\n",
       "8     1301     79\n",
       "9     1901     70\n",
       "10    1001     67\n",
       "11    1101     66\n",
       "12    2101     65\n",
       "13    2001     65\n",
       "14    1601     59\n",
       "15     301     54\n",
       "16     114     51\n",
       "17     116     51\n",
       "18     401     50\n",
       "19    1804     48\n",
       "20    2205     47\n",
       "21     102     46\n",
       "22     502     46\n",
       "23     506     42\n",
       "24     801     39\n",
       "25    1401     36\n",
       "26     106     35\n",
       "27    1215     34\n",
       "28    1412     33\n",
       "29    2203     32"
      ]
     },
     "metadata": {},
     "output_type": "display_data"
    },
    {
     "name": "stdout",
     "output_type": "stream",
     "text": [
      "\n",
      "\n",
      "Tabla de frecuencias para la variable: PUEHOM\n"
     ]
    },
    {
     "data": {
      "application/vnd.microsoft.datawrangler.viewer.v0+json": {
       "columns": [
        {
         "name": "index",
         "rawType": "int64",
         "type": "integer"
        },
        {
         "name": "PUEHOM",
         "rawType": "int64",
         "type": "integer"
        },
        {
         "name": "count",
         "rawType": "int64",
         "type": "integer"
        }
       ],
       "conversionMethod": "pd.DataFrame",
       "ref": "edad470f-9ba0-4892-bb63-30a2ea8ff634",
       "rows": [
        [
         "0",
         "9",
         "3528"
        ],
        [
         "1",
         "4",
         "1702"
        ],
        [
         "2",
         "1",
         "327"
        ],
        [
         "3",
         "5",
         "16"
        ],
        [
         "4",
         "2",
         "2"
        ]
       ],
       "shape": {
        "columns": 2,
        "rows": 5
       }
      },
      "text/html": [
       "<div>\n",
       "<style scoped>\n",
       "    .dataframe tbody tr th:only-of-type {\n",
       "        vertical-align: middle;\n",
       "    }\n",
       "\n",
       "    .dataframe tbody tr th {\n",
       "        vertical-align: top;\n",
       "    }\n",
       "\n",
       "    .dataframe thead th {\n",
       "        text-align: right;\n",
       "    }\n",
       "</style>\n",
       "<table border=\"1\" class=\"dataframe\">\n",
       "  <thead>\n",
       "    <tr style=\"text-align: right;\">\n",
       "      <th></th>\n",
       "      <th>PUEHOM</th>\n",
       "      <th>count</th>\n",
       "    </tr>\n",
       "  </thead>\n",
       "  <tbody>\n",
       "    <tr>\n",
       "      <th>0</th>\n",
       "      <td>9</td>\n",
       "      <td>3528</td>\n",
       "    </tr>\n",
       "    <tr>\n",
       "      <th>1</th>\n",
       "      <td>4</td>\n",
       "      <td>1702</td>\n",
       "    </tr>\n",
       "    <tr>\n",
       "      <th>2</th>\n",
       "      <td>1</td>\n",
       "      <td>327</td>\n",
       "    </tr>\n",
       "    <tr>\n",
       "      <th>3</th>\n",
       "      <td>5</td>\n",
       "      <td>16</td>\n",
       "    </tr>\n",
       "    <tr>\n",
       "      <th>4</th>\n",
       "      <td>2</td>\n",
       "      <td>2</td>\n",
       "    </tr>\n",
       "  </tbody>\n",
       "</table>\n",
       "</div>"
      ],
      "text/plain": [
       "   PUEHOM  count\n",
       "0       9   3528\n",
       "1       4   1702\n",
       "2       1    327\n",
       "3       5     16\n",
       "4       2      2"
      ]
     },
     "metadata": {},
     "output_type": "display_data"
    },
    {
     "name": "stdout",
     "output_type": "stream",
     "text": [
      "\n",
      "\n",
      "Tabla de frecuencias para la variable: PUEMUJ\n"
     ]
    },
    {
     "data": {
      "application/vnd.microsoft.datawrangler.viewer.v0+json": {
       "columns": [
        {
         "name": "index",
         "rawType": "int64",
         "type": "integer"
        },
        {
         "name": "PUEMUJ",
         "rawType": "int64",
         "type": "integer"
        },
        {
         "name": "count",
         "rawType": "int64",
         "type": "integer"
        }
       ],
       "conversionMethod": "pd.DataFrame",
       "ref": "e341ce33-ab7a-4996-9606-4f25c5caff41",
       "rows": [
        [
         "0",
         "9",
         "3502"
        ],
        [
         "1",
         "4",
         "1770"
        ],
        [
         "2",
         "1",
         "298"
        ],
        [
         "3",
         "5",
         "3"
        ],
        [
         "4",
         "2",
         "2"
        ]
       ],
       "shape": {
        "columns": 2,
        "rows": 5
       }
      },
      "text/html": [
       "<div>\n",
       "<style scoped>\n",
       "    .dataframe tbody tr th:only-of-type {\n",
       "        vertical-align: middle;\n",
       "    }\n",
       "\n",
       "    .dataframe tbody tr th {\n",
       "        vertical-align: top;\n",
       "    }\n",
       "\n",
       "    .dataframe thead th {\n",
       "        text-align: right;\n",
       "    }\n",
       "</style>\n",
       "<table border=\"1\" class=\"dataframe\">\n",
       "  <thead>\n",
       "    <tr style=\"text-align: right;\">\n",
       "      <th></th>\n",
       "      <th>PUEMUJ</th>\n",
       "      <th>count</th>\n",
       "    </tr>\n",
       "  </thead>\n",
       "  <tbody>\n",
       "    <tr>\n",
       "      <th>0</th>\n",
       "      <td>9</td>\n",
       "      <td>3502</td>\n",
       "    </tr>\n",
       "    <tr>\n",
       "      <th>1</th>\n",
       "      <td>4</td>\n",
       "      <td>1770</td>\n",
       "    </tr>\n",
       "    <tr>\n",
       "      <th>2</th>\n",
       "      <td>1</td>\n",
       "      <td>298</td>\n",
       "    </tr>\n",
       "    <tr>\n",
       "      <th>3</th>\n",
       "      <td>5</td>\n",
       "      <td>3</td>\n",
       "    </tr>\n",
       "    <tr>\n",
       "      <th>4</th>\n",
       "      <td>2</td>\n",
       "      <td>2</td>\n",
       "    </tr>\n",
       "  </tbody>\n",
       "</table>\n",
       "</div>"
      ],
      "text/plain": [
       "   PUEMUJ  count\n",
       "0       9   3502\n",
       "1       4   1770\n",
       "2       1    298\n",
       "3       5      3\n",
       "4       2      2"
      ]
     },
     "metadata": {},
     "output_type": "display_data"
    },
    {
     "name": "stdout",
     "output_type": "stream",
     "text": [
      "\n",
      "\n",
      "Tabla de frecuencias para la variable: NACHOM\n"
     ]
    },
    {
     "data": {
      "application/vnd.microsoft.datawrangler.viewer.v0+json": {
       "columns": [
        {
         "name": "index",
         "rawType": "int64",
         "type": "integer"
        },
        {
         "name": "NACHOM",
         "rawType": "int64",
         "type": "integer"
        },
        {
         "name": "count",
         "rawType": "int64",
         "type": "integer"
        }
       ],
       "conversionMethod": "pd.DataFrame",
       "ref": "6f402034-b066-4803-b382-d0498e83bf4c",
       "rows": [
        [
         "0",
         "320",
         "5472"
        ],
        [
         "1",
         "9999",
         "26"
        ],
        [
         "2",
         "840",
         "19"
        ],
        [
         "3",
         "720",
         "7"
        ],
        [
         "4",
         "222",
         "7"
        ],
        [
         "5",
         "723",
         "5"
        ],
        [
         "6",
         "192",
         "5"
        ],
        [
         "7",
         "276",
         "4"
        ],
        [
         "8",
         "724",
         "4"
        ],
        [
         "9",
         "76",
         "3"
        ],
        [
         "10",
         "1020",
         "3"
        ],
        [
         "11",
         "1034",
         "2"
        ],
        [
         "12",
         "218",
         "2"
        ],
        [
         "13",
         "630",
         "2"
        ],
        [
         "14",
         "156",
         "2"
        ],
        [
         "15",
         "188",
         "2"
        ],
        [
         "16",
         "208",
         "1"
        ],
        [
         "17",
         "124",
         "1"
        ],
        [
         "18",
         "212",
         "1"
        ],
        [
         "19",
         "214",
         "1"
        ],
        [
         "20",
         "643",
         "1"
        ],
        [
         "21",
         "392",
         "1"
        ],
        [
         "22",
         "340",
         "1"
        ],
        [
         "23",
         "568",
         "1"
        ],
        [
         "24",
         "410",
         "1"
        ],
        [
         "25",
         "1026",
         "1"
        ]
       ],
       "shape": {
        "columns": 2,
        "rows": 26
       }
      },
      "text/html": [
       "<div>\n",
       "<style scoped>\n",
       "    .dataframe tbody tr th:only-of-type {\n",
       "        vertical-align: middle;\n",
       "    }\n",
       "\n",
       "    .dataframe tbody tr th {\n",
       "        vertical-align: top;\n",
       "    }\n",
       "\n",
       "    .dataframe thead th {\n",
       "        text-align: right;\n",
       "    }\n",
       "</style>\n",
       "<table border=\"1\" class=\"dataframe\">\n",
       "  <thead>\n",
       "    <tr style=\"text-align: right;\">\n",
       "      <th></th>\n",
       "      <th>NACHOM</th>\n",
       "      <th>count</th>\n",
       "    </tr>\n",
       "  </thead>\n",
       "  <tbody>\n",
       "    <tr>\n",
       "      <th>0</th>\n",
       "      <td>320</td>\n",
       "      <td>5472</td>\n",
       "    </tr>\n",
       "    <tr>\n",
       "      <th>1</th>\n",
       "      <td>9999</td>\n",
       "      <td>26</td>\n",
       "    </tr>\n",
       "    <tr>\n",
       "      <th>2</th>\n",
       "      <td>840</td>\n",
       "      <td>19</td>\n",
       "    </tr>\n",
       "    <tr>\n",
       "      <th>3</th>\n",
       "      <td>720</td>\n",
       "      <td>7</td>\n",
       "    </tr>\n",
       "    <tr>\n",
       "      <th>4</th>\n",
       "      <td>222</td>\n",
       "      <td>7</td>\n",
       "    </tr>\n",
       "    <tr>\n",
       "      <th>5</th>\n",
       "      <td>723</td>\n",
       "      <td>5</td>\n",
       "    </tr>\n",
       "    <tr>\n",
       "      <th>6</th>\n",
       "      <td>192</td>\n",
       "      <td>5</td>\n",
       "    </tr>\n",
       "    <tr>\n",
       "      <th>7</th>\n",
       "      <td>276</td>\n",
       "      <td>4</td>\n",
       "    </tr>\n",
       "    <tr>\n",
       "      <th>8</th>\n",
       "      <td>724</td>\n",
       "      <td>4</td>\n",
       "    </tr>\n",
       "    <tr>\n",
       "      <th>9</th>\n",
       "      <td>76</td>\n",
       "      <td>3</td>\n",
       "    </tr>\n",
       "    <tr>\n",
       "      <th>10</th>\n",
       "      <td>1020</td>\n",
       "      <td>3</td>\n",
       "    </tr>\n",
       "    <tr>\n",
       "      <th>11</th>\n",
       "      <td>1034</td>\n",
       "      <td>2</td>\n",
       "    </tr>\n",
       "    <tr>\n",
       "      <th>12</th>\n",
       "      <td>218</td>\n",
       "      <td>2</td>\n",
       "    </tr>\n",
       "    <tr>\n",
       "      <th>13</th>\n",
       "      <td>630</td>\n",
       "      <td>2</td>\n",
       "    </tr>\n",
       "    <tr>\n",
       "      <th>14</th>\n",
       "      <td>156</td>\n",
       "      <td>2</td>\n",
       "    </tr>\n",
       "    <tr>\n",
       "      <th>15</th>\n",
       "      <td>188</td>\n",
       "      <td>2</td>\n",
       "    </tr>\n",
       "    <tr>\n",
       "      <th>16</th>\n",
       "      <td>208</td>\n",
       "      <td>1</td>\n",
       "    </tr>\n",
       "    <tr>\n",
       "      <th>17</th>\n",
       "      <td>124</td>\n",
       "      <td>1</td>\n",
       "    </tr>\n",
       "    <tr>\n",
       "      <th>18</th>\n",
       "      <td>212</td>\n",
       "      <td>1</td>\n",
       "    </tr>\n",
       "    <tr>\n",
       "      <th>19</th>\n",
       "      <td>214</td>\n",
       "      <td>1</td>\n",
       "    </tr>\n",
       "    <tr>\n",
       "      <th>20</th>\n",
       "      <td>643</td>\n",
       "      <td>1</td>\n",
       "    </tr>\n",
       "    <tr>\n",
       "      <th>21</th>\n",
       "      <td>392</td>\n",
       "      <td>1</td>\n",
       "    </tr>\n",
       "    <tr>\n",
       "      <th>22</th>\n",
       "      <td>340</td>\n",
       "      <td>1</td>\n",
       "    </tr>\n",
       "    <tr>\n",
       "      <th>23</th>\n",
       "      <td>568</td>\n",
       "      <td>1</td>\n",
       "    </tr>\n",
       "    <tr>\n",
       "      <th>24</th>\n",
       "      <td>410</td>\n",
       "      <td>1</td>\n",
       "    </tr>\n",
       "    <tr>\n",
       "      <th>25</th>\n",
       "      <td>1026</td>\n",
       "      <td>1</td>\n",
       "    </tr>\n",
       "  </tbody>\n",
       "</table>\n",
       "</div>"
      ],
      "text/plain": [
       "    NACHOM  count\n",
       "0      320   5472\n",
       "1     9999     26\n",
       "2      840     19\n",
       "3      720      7\n",
       "4      222      7\n",
       "5      723      5\n",
       "6      192      5\n",
       "7      276      4\n",
       "8      724      4\n",
       "9       76      3\n",
       "10    1020      3\n",
       "11    1034      2\n",
       "12     218      2\n",
       "13     630      2\n",
       "14     156      2\n",
       "15     188      2\n",
       "16     208      1\n",
       "17     124      1\n",
       "18     212      1\n",
       "19     214      1\n",
       "20     643      1\n",
       "21     392      1\n",
       "22     340      1\n",
       "23     568      1\n",
       "24     410      1\n",
       "25    1026      1"
      ]
     },
     "metadata": {},
     "output_type": "display_data"
    },
    {
     "name": "stdout",
     "output_type": "stream",
     "text": [
      "\n",
      "\n",
      "Tabla de frecuencias para la variable: NACMUJ\n"
     ]
    },
    {
     "data": {
      "application/vnd.microsoft.datawrangler.viewer.v0+json": {
       "columns": [
        {
         "name": "index",
         "rawType": "int64",
         "type": "integer"
        },
        {
         "name": "NACMUJ",
         "rawType": "int64",
         "type": "integer"
        },
        {
         "name": "count",
         "rawType": "int64",
         "type": "integer"
        }
       ],
       "conversionMethod": "pd.DataFrame",
       "ref": "02e358a0-cdc6-4d70-bb67-58fe002acb11",
       "rows": [
        [
         "0",
         "320",
         "5466"
        ],
        [
         "1",
         "9999",
         "24"
        ],
        [
         "2",
         "840",
         "19"
        ],
        [
         "3",
         "222",
         "17"
        ],
        [
         "4",
         "720",
         "10"
        ],
        [
         "5",
         "723",
         "8"
        ],
        [
         "6",
         "170",
         "7"
        ],
        [
         "7",
         "340",
         "4"
        ],
        [
         "8",
         "188",
         "3"
        ],
        [
         "9",
         "192",
         "2"
        ],
        [
         "10",
         "276",
         "2"
        ],
        [
         "11",
         "724",
         "2"
        ],
        [
         "12",
         "498",
         "1"
        ],
        [
         "13",
         "604",
         "1"
        ],
        [
         "14",
         "725",
         "1"
        ],
        [
         "15",
         "84",
         "1"
        ],
        [
         "16",
         "124",
         "1"
        ],
        [
         "17",
         "36",
         "1"
        ],
        [
         "18",
         "1026",
         "1"
        ],
        [
         "19",
         "1034",
         "1"
        ],
        [
         "20",
         "32",
         "1"
        ],
        [
         "21",
         "156",
         "1"
        ],
        [
         "22",
         "214",
         "1"
        ]
       ],
       "shape": {
        "columns": 2,
        "rows": 23
       }
      },
      "text/html": [
       "<div>\n",
       "<style scoped>\n",
       "    .dataframe tbody tr th:only-of-type {\n",
       "        vertical-align: middle;\n",
       "    }\n",
       "\n",
       "    .dataframe tbody tr th {\n",
       "        vertical-align: top;\n",
       "    }\n",
       "\n",
       "    .dataframe thead th {\n",
       "        text-align: right;\n",
       "    }\n",
       "</style>\n",
       "<table border=\"1\" class=\"dataframe\">\n",
       "  <thead>\n",
       "    <tr style=\"text-align: right;\">\n",
       "      <th></th>\n",
       "      <th>NACMUJ</th>\n",
       "      <th>count</th>\n",
       "    </tr>\n",
       "  </thead>\n",
       "  <tbody>\n",
       "    <tr>\n",
       "      <th>0</th>\n",
       "      <td>320</td>\n",
       "      <td>5466</td>\n",
       "    </tr>\n",
       "    <tr>\n",
       "      <th>1</th>\n",
       "      <td>9999</td>\n",
       "      <td>24</td>\n",
       "    </tr>\n",
       "    <tr>\n",
       "      <th>2</th>\n",
       "      <td>840</td>\n",
       "      <td>19</td>\n",
       "    </tr>\n",
       "    <tr>\n",
       "      <th>3</th>\n",
       "      <td>222</td>\n",
       "      <td>17</td>\n",
       "    </tr>\n",
       "    <tr>\n",
       "      <th>4</th>\n",
       "      <td>720</td>\n",
       "      <td>10</td>\n",
       "    </tr>\n",
       "    <tr>\n",
       "      <th>5</th>\n",
       "      <td>723</td>\n",
       "      <td>8</td>\n",
       "    </tr>\n",
       "    <tr>\n",
       "      <th>6</th>\n",
       "      <td>170</td>\n",
       "      <td>7</td>\n",
       "    </tr>\n",
       "    <tr>\n",
       "      <th>7</th>\n",
       "      <td>340</td>\n",
       "      <td>4</td>\n",
       "    </tr>\n",
       "    <tr>\n",
       "      <th>8</th>\n",
       "      <td>188</td>\n",
       "      <td>3</td>\n",
       "    </tr>\n",
       "    <tr>\n",
       "      <th>9</th>\n",
       "      <td>192</td>\n",
       "      <td>2</td>\n",
       "    </tr>\n",
       "    <tr>\n",
       "      <th>10</th>\n",
       "      <td>276</td>\n",
       "      <td>2</td>\n",
       "    </tr>\n",
       "    <tr>\n",
       "      <th>11</th>\n",
       "      <td>724</td>\n",
       "      <td>2</td>\n",
       "    </tr>\n",
       "    <tr>\n",
       "      <th>12</th>\n",
       "      <td>498</td>\n",
       "      <td>1</td>\n",
       "    </tr>\n",
       "    <tr>\n",
       "      <th>13</th>\n",
       "      <td>604</td>\n",
       "      <td>1</td>\n",
       "    </tr>\n",
       "    <tr>\n",
       "      <th>14</th>\n",
       "      <td>725</td>\n",
       "      <td>1</td>\n",
       "    </tr>\n",
       "    <tr>\n",
       "      <th>15</th>\n",
       "      <td>84</td>\n",
       "      <td>1</td>\n",
       "    </tr>\n",
       "    <tr>\n",
       "      <th>16</th>\n",
       "      <td>124</td>\n",
       "      <td>1</td>\n",
       "    </tr>\n",
       "    <tr>\n",
       "      <th>17</th>\n",
       "      <td>36</td>\n",
       "      <td>1</td>\n",
       "    </tr>\n",
       "    <tr>\n",
       "      <th>18</th>\n",
       "      <td>1026</td>\n",
       "      <td>1</td>\n",
       "    </tr>\n",
       "    <tr>\n",
       "      <th>19</th>\n",
       "      <td>1034</td>\n",
       "      <td>1</td>\n",
       "    </tr>\n",
       "    <tr>\n",
       "      <th>20</th>\n",
       "      <td>32</td>\n",
       "      <td>1</td>\n",
       "    </tr>\n",
       "    <tr>\n",
       "      <th>21</th>\n",
       "      <td>156</td>\n",
       "      <td>1</td>\n",
       "    </tr>\n",
       "    <tr>\n",
       "      <th>22</th>\n",
       "      <td>214</td>\n",
       "      <td>1</td>\n",
       "    </tr>\n",
       "  </tbody>\n",
       "</table>\n",
       "</div>"
      ],
      "text/plain": [
       "    NACMUJ  count\n",
       "0      320   5466\n",
       "1     9999     24\n",
       "2      840     19\n",
       "3      222     17\n",
       "4      720     10\n",
       "5      723      8\n",
       "6      170      7\n",
       "7      340      4\n",
       "8      188      3\n",
       "9      192      2\n",
       "10     276      2\n",
       "11     724      2\n",
       "12     498      1\n",
       "13     604      1\n",
       "14     725      1\n",
       "15      84      1\n",
       "16     124      1\n",
       "17      36      1\n",
       "18    1026      1\n",
       "19    1034      1\n",
       "20      32      1\n",
       "21     156      1\n",
       "22     214      1"
      ]
     },
     "metadata": {},
     "output_type": "display_data"
    },
    {
     "name": "stdout",
     "output_type": "stream",
     "text": [
      "\n",
      "\n",
      "Tabla de frecuencias para la variable: ESCHOM\n"
     ]
    },
    {
     "data": {
      "application/vnd.microsoft.datawrangler.viewer.v0+json": {
       "columns": [
        {
         "name": "index",
         "rawType": "int64",
         "type": "integer"
        },
        {
         "name": "ESCHOM",
         "rawType": "int64",
         "type": "integer"
        },
        {
         "name": "count",
         "rawType": "int64",
         "type": "integer"
        }
       ],
       "conversionMethod": "pd.DataFrame",
       "ref": "bbc3ec0e-184f-46de-964d-8eff56a9d52e",
       "rows": [
        [
         "0",
         "9",
         "3202"
        ],
        [
         "1",
         "1",
         "780"
        ],
        [
         "2",
         "4",
         "708"
        ],
        [
         "3",
         "2",
         "393"
        ],
        [
         "4",
         "5",
         "251"
        ],
        [
         "5",
         "3",
         "238"
        ],
        [
         "6",
         "6",
         "3"
        ]
       ],
       "shape": {
        "columns": 2,
        "rows": 7
       }
      },
      "text/html": [
       "<div>\n",
       "<style scoped>\n",
       "    .dataframe tbody tr th:only-of-type {\n",
       "        vertical-align: middle;\n",
       "    }\n",
       "\n",
       "    .dataframe tbody tr th {\n",
       "        vertical-align: top;\n",
       "    }\n",
       "\n",
       "    .dataframe thead th {\n",
       "        text-align: right;\n",
       "    }\n",
       "</style>\n",
       "<table border=\"1\" class=\"dataframe\">\n",
       "  <thead>\n",
       "    <tr style=\"text-align: right;\">\n",
       "      <th></th>\n",
       "      <th>ESCHOM</th>\n",
       "      <th>count</th>\n",
       "    </tr>\n",
       "  </thead>\n",
       "  <tbody>\n",
       "    <tr>\n",
       "      <th>0</th>\n",
       "      <td>9</td>\n",
       "      <td>3202</td>\n",
       "    </tr>\n",
       "    <tr>\n",
       "      <th>1</th>\n",
       "      <td>1</td>\n",
       "      <td>780</td>\n",
       "    </tr>\n",
       "    <tr>\n",
       "      <th>2</th>\n",
       "      <td>4</td>\n",
       "      <td>708</td>\n",
       "    </tr>\n",
       "    <tr>\n",
       "      <th>3</th>\n",
       "      <td>2</td>\n",
       "      <td>393</td>\n",
       "    </tr>\n",
       "    <tr>\n",
       "      <th>4</th>\n",
       "      <td>5</td>\n",
       "      <td>251</td>\n",
       "    </tr>\n",
       "    <tr>\n",
       "      <th>5</th>\n",
       "      <td>3</td>\n",
       "      <td>238</td>\n",
       "    </tr>\n",
       "    <tr>\n",
       "      <th>6</th>\n",
       "      <td>6</td>\n",
       "      <td>3</td>\n",
       "    </tr>\n",
       "  </tbody>\n",
       "</table>\n",
       "</div>"
      ],
      "text/plain": [
       "   ESCHOM  count\n",
       "0       9   3202\n",
       "1       1    780\n",
       "2       4    708\n",
       "3       2    393\n",
       "4       5    251\n",
       "5       3    238\n",
       "6       6      3"
      ]
     },
     "metadata": {},
     "output_type": "display_data"
    },
    {
     "name": "stdout",
     "output_type": "stream",
     "text": [
      "\n",
      "\n",
      "Tabla de frecuencias para la variable: ESCMUJ\n"
     ]
    },
    {
     "data": {
      "application/vnd.microsoft.datawrangler.viewer.v0+json": {
       "columns": [
        {
         "name": "index",
         "rawType": "int64",
         "type": "integer"
        },
        {
         "name": "ESCMUJ",
         "rawType": "int64",
         "type": "integer"
        },
        {
         "name": "count",
         "rawType": "int64",
         "type": "integer"
        }
       ],
       "conversionMethod": "pd.DataFrame",
       "ref": "fbd865cd-3996-434f-b5d8-3c2fee01aad7",
       "rows": [
        [
         "0",
         "9",
         "3126"
        ],
        [
         "1",
         "1",
         "816"
        ],
        [
         "2",
         "4",
         "766"
        ],
        [
         "3",
         "2",
         "396"
        ],
        [
         "4",
         "3",
         "257"
        ],
        [
         "5",
         "5",
         "211"
        ],
        [
         "6",
         "6",
         "3"
        ]
       ],
       "shape": {
        "columns": 2,
        "rows": 7
       }
      },
      "text/html": [
       "<div>\n",
       "<style scoped>\n",
       "    .dataframe tbody tr th:only-of-type {\n",
       "        vertical-align: middle;\n",
       "    }\n",
       "\n",
       "    .dataframe tbody tr th {\n",
       "        vertical-align: top;\n",
       "    }\n",
       "\n",
       "    .dataframe thead th {\n",
       "        text-align: right;\n",
       "    }\n",
       "</style>\n",
       "<table border=\"1\" class=\"dataframe\">\n",
       "  <thead>\n",
       "    <tr style=\"text-align: right;\">\n",
       "      <th></th>\n",
       "      <th>ESCMUJ</th>\n",
       "      <th>count</th>\n",
       "    </tr>\n",
       "  </thead>\n",
       "  <tbody>\n",
       "    <tr>\n",
       "      <th>0</th>\n",
       "      <td>9</td>\n",
       "      <td>3126</td>\n",
       "    </tr>\n",
       "    <tr>\n",
       "      <th>1</th>\n",
       "      <td>1</td>\n",
       "      <td>816</td>\n",
       "    </tr>\n",
       "    <tr>\n",
       "      <th>2</th>\n",
       "      <td>4</td>\n",
       "      <td>766</td>\n",
       "    </tr>\n",
       "    <tr>\n",
       "      <th>3</th>\n",
       "      <td>2</td>\n",
       "      <td>396</td>\n",
       "    </tr>\n",
       "    <tr>\n",
       "      <th>4</th>\n",
       "      <td>3</td>\n",
       "      <td>257</td>\n",
       "    </tr>\n",
       "    <tr>\n",
       "      <th>5</th>\n",
       "      <td>5</td>\n",
       "      <td>211</td>\n",
       "    </tr>\n",
       "    <tr>\n",
       "      <th>6</th>\n",
       "      <td>6</td>\n",
       "      <td>3</td>\n",
       "    </tr>\n",
       "  </tbody>\n",
       "</table>\n",
       "</div>"
      ],
      "text/plain": [
       "   ESCMUJ  count\n",
       "0       9   3126\n",
       "1       1    816\n",
       "2       4    766\n",
       "3       2    396\n",
       "4       3    257\n",
       "5       5    211\n",
       "6       6      3"
      ]
     },
     "metadata": {},
     "output_type": "display_data"
    },
    {
     "name": "stdout",
     "output_type": "stream",
     "text": [
      "\n",
      "\n",
      "Tabla de frecuencias para la variable: CIUOHOM\n"
     ]
    },
    {
     "data": {
      "application/vnd.microsoft.datawrangler.viewer.v0+json": {
       "columns": [
        {
         "name": "index",
         "rawType": "int64",
         "type": "integer"
        },
        {
         "name": "CIUOHOM",
         "rawType": "object",
         "type": "string"
        },
        {
         "name": "count",
         "rawType": "int64",
         "type": "integer"
        }
       ],
       "conversionMethod": "pd.DataFrame",
       "ref": "7d57b538-c36f-4a47-9222-fa642ddf7f21",
       "rows": [
        [
         "0",
         "IGNORADO",
         "1556"
        ],
        [
         "1",
         "NEOG",
         "1552"
        ],
        [
         "2",
         "61",
         "575"
        ],
        [
         "3",
         "52",
         "270"
        ],
        [
         "4",
         "43",
         "192"
        ],
        [
         "5",
         "92",
         "153"
        ],
        [
         "6",
         "23",
         "146"
        ],
        [
         "7",
         "72",
         "96"
        ],
        [
         "8",
         "83",
         "96"
        ],
        [
         "9",
         "31",
         "94"
        ],
        [
         "10",
         "71",
         "94"
        ],
        [
         "11",
         "21",
         "81"
        ],
        [
         "12",
         "35",
         "75"
        ],
        [
         "13",
         "34",
         "67"
        ],
        [
         "14",
         "26",
         "59"
        ],
        [
         "15",
         "33",
         "59"
        ],
        [
         "16",
         "75",
         "55"
        ],
        [
         "17",
         "24",
         "47"
        ],
        [
         "18",
         "81",
         "47"
        ],
        [
         "19",
         "22",
         "33"
        ],
        [
         "20",
         "51",
         "32"
        ],
        [
         "21",
         "41",
         "30"
        ],
        [
         "22",
         "12",
         "29"
        ],
        [
         "23",
         "25",
         "20"
        ],
        [
         "24",
         "54",
         "20"
        ],
        [
         "25",
         "74",
         "19"
        ],
        [
         "26",
         "93",
         "16"
        ],
        [
         "27",
         "13",
         "9"
        ],
        [
         "28",
         "42",
         "8"
        ],
        [
         "29",
         "11",
         "7"
        ]
       ],
       "shape": {
        "columns": 2,
        "rows": 30
       }
      },
      "text/html": [
       "<div>\n",
       "<style scoped>\n",
       "    .dataframe tbody tr th:only-of-type {\n",
       "        vertical-align: middle;\n",
       "    }\n",
       "\n",
       "    .dataframe tbody tr th {\n",
       "        vertical-align: top;\n",
       "    }\n",
       "\n",
       "    .dataframe thead th {\n",
       "        text-align: right;\n",
       "    }\n",
       "</style>\n",
       "<table border=\"1\" class=\"dataframe\">\n",
       "  <thead>\n",
       "    <tr style=\"text-align: right;\">\n",
       "      <th></th>\n",
       "      <th>CIUOHOM</th>\n",
       "      <th>count</th>\n",
       "    </tr>\n",
       "  </thead>\n",
       "  <tbody>\n",
       "    <tr>\n",
       "      <th>0</th>\n",
       "      <td>IGNORADO</td>\n",
       "      <td>1556</td>\n",
       "    </tr>\n",
       "    <tr>\n",
       "      <th>1</th>\n",
       "      <td>NEOG</td>\n",
       "      <td>1552</td>\n",
       "    </tr>\n",
       "    <tr>\n",
       "      <th>2</th>\n",
       "      <td>61</td>\n",
       "      <td>575</td>\n",
       "    </tr>\n",
       "    <tr>\n",
       "      <th>3</th>\n",
       "      <td>52</td>\n",
       "      <td>270</td>\n",
       "    </tr>\n",
       "    <tr>\n",
       "      <th>4</th>\n",
       "      <td>43</td>\n",
       "      <td>192</td>\n",
       "    </tr>\n",
       "    <tr>\n",
       "      <th>5</th>\n",
       "      <td>92</td>\n",
       "      <td>153</td>\n",
       "    </tr>\n",
       "    <tr>\n",
       "      <th>6</th>\n",
       "      <td>23</td>\n",
       "      <td>146</td>\n",
       "    </tr>\n",
       "    <tr>\n",
       "      <th>7</th>\n",
       "      <td>72</td>\n",
       "      <td>96</td>\n",
       "    </tr>\n",
       "    <tr>\n",
       "      <th>8</th>\n",
       "      <td>83</td>\n",
       "      <td>96</td>\n",
       "    </tr>\n",
       "    <tr>\n",
       "      <th>9</th>\n",
       "      <td>31</td>\n",
       "      <td>94</td>\n",
       "    </tr>\n",
       "    <tr>\n",
       "      <th>10</th>\n",
       "      <td>71</td>\n",
       "      <td>94</td>\n",
       "    </tr>\n",
       "    <tr>\n",
       "      <th>11</th>\n",
       "      <td>21</td>\n",
       "      <td>81</td>\n",
       "    </tr>\n",
       "    <tr>\n",
       "      <th>12</th>\n",
       "      <td>35</td>\n",
       "      <td>75</td>\n",
       "    </tr>\n",
       "    <tr>\n",
       "      <th>13</th>\n",
       "      <td>34</td>\n",
       "      <td>67</td>\n",
       "    </tr>\n",
       "    <tr>\n",
       "      <th>14</th>\n",
       "      <td>26</td>\n",
       "      <td>59</td>\n",
       "    </tr>\n",
       "    <tr>\n",
       "      <th>15</th>\n",
       "      <td>33</td>\n",
       "      <td>59</td>\n",
       "    </tr>\n",
       "    <tr>\n",
       "      <th>16</th>\n",
       "      <td>75</td>\n",
       "      <td>55</td>\n",
       "    </tr>\n",
       "    <tr>\n",
       "      <th>17</th>\n",
       "      <td>24</td>\n",
       "      <td>47</td>\n",
       "    </tr>\n",
       "    <tr>\n",
       "      <th>18</th>\n",
       "      <td>81</td>\n",
       "      <td>47</td>\n",
       "    </tr>\n",
       "    <tr>\n",
       "      <th>19</th>\n",
       "      <td>22</td>\n",
       "      <td>33</td>\n",
       "    </tr>\n",
       "    <tr>\n",
       "      <th>20</th>\n",
       "      <td>51</td>\n",
       "      <td>32</td>\n",
       "    </tr>\n",
       "    <tr>\n",
       "      <th>21</th>\n",
       "      <td>41</td>\n",
       "      <td>30</td>\n",
       "    </tr>\n",
       "    <tr>\n",
       "      <th>22</th>\n",
       "      <td>12</td>\n",
       "      <td>29</td>\n",
       "    </tr>\n",
       "    <tr>\n",
       "      <th>23</th>\n",
       "      <td>25</td>\n",
       "      <td>20</td>\n",
       "    </tr>\n",
       "    <tr>\n",
       "      <th>24</th>\n",
       "      <td>54</td>\n",
       "      <td>20</td>\n",
       "    </tr>\n",
       "    <tr>\n",
       "      <th>25</th>\n",
       "      <td>74</td>\n",
       "      <td>19</td>\n",
       "    </tr>\n",
       "    <tr>\n",
       "      <th>26</th>\n",
       "      <td>93</td>\n",
       "      <td>16</td>\n",
       "    </tr>\n",
       "    <tr>\n",
       "      <th>27</th>\n",
       "      <td>13</td>\n",
       "      <td>9</td>\n",
       "    </tr>\n",
       "    <tr>\n",
       "      <th>28</th>\n",
       "      <td>42</td>\n",
       "      <td>8</td>\n",
       "    </tr>\n",
       "    <tr>\n",
       "      <th>29</th>\n",
       "      <td>11</td>\n",
       "      <td>7</td>\n",
       "    </tr>\n",
       "  </tbody>\n",
       "</table>\n",
       "</div>"
      ],
      "text/plain": [
       "     CIUOHOM  count\n",
       "0   IGNORADO   1556\n",
       "1       NEOG   1552\n",
       "2         61    575\n",
       "3         52    270\n",
       "4         43    192\n",
       "5         92    153\n",
       "6         23    146\n",
       "7         72     96\n",
       "8         83     96\n",
       "9         31     94\n",
       "10        71     94\n",
       "11        21     81\n",
       "12        35     75\n",
       "13        34     67\n",
       "14        26     59\n",
       "15        33     59\n",
       "16        75     55\n",
       "17        24     47\n",
       "18        81     47\n",
       "19        22     33\n",
       "20        51     32\n",
       "21        41     30\n",
       "22        12     29\n",
       "23        25     20\n",
       "24        54     20\n",
       "25        74     19\n",
       "26        93     16\n",
       "27        13      9\n",
       "28        42      8\n",
       "29        11      7"
      ]
     },
     "metadata": {},
     "output_type": "display_data"
    },
    {
     "name": "stdout",
     "output_type": "stream",
     "text": [
      "\n",
      "\n",
      "Tabla de frecuencias para la variable: CIUOMUJ\n"
     ]
    },
    {
     "data": {
      "application/vnd.microsoft.datawrangler.viewer.v0+json": {
       "columns": [
        {
         "name": "index",
         "rawType": "int64",
         "type": "integer"
        },
        {
         "name": "CIUOMUJ",
         "rawType": "object",
         "type": "string"
        },
        {
         "name": "count",
         "rawType": "int64",
         "type": "integer"
        }
       ],
       "conversionMethod": "pd.DataFrame",
       "ref": "7aa4a787-d27e-4b62-9d7e-e02171fc909c",
       "rows": [
        [
         "0",
         "NEOG",
         "2735"
        ],
        [
         "1",
         "IGNORADO",
         "1699"
        ],
        [
         "2",
         "23",
         "287"
        ],
        [
         "3",
         "41",
         "225"
        ],
        [
         "4",
         "43",
         "99"
        ],
        [
         "5",
         "52",
         "74"
        ],
        [
         "6",
         "26",
         "64"
        ],
        [
         "7",
         "51",
         "53"
        ],
        [
         "8",
         "22",
         "41"
        ],
        [
         "9",
         "34",
         "39"
        ],
        [
         "10",
         "24",
         "34"
        ],
        [
         "11",
         "33",
         "33"
        ],
        [
         "12",
         "35",
         "32"
        ],
        [
         "13",
         "21",
         "26"
        ],
        [
         "14",
         "81",
         "25"
        ],
        [
         "15",
         "32",
         "20"
        ],
        [
         "16",
         "75",
         "20"
        ],
        [
         "17",
         "42",
         "16"
        ],
        [
         "18",
         "44",
         "14"
        ],
        [
         "19",
         "12",
         "13"
        ],
        [
         "20",
         "11",
         "5"
        ],
        [
         "21",
         "96",
         "4"
        ],
        [
         "22",
         "31",
         "2"
        ],
        [
         "23",
         "13",
         "2"
        ],
        [
         "24",
         "14",
         "2"
        ],
        [
         "25",
         "25",
         "2"
        ],
        [
         "26",
         "54",
         "2"
        ],
        [
         "27",
         "53",
         "1"
        ],
        [
         "28",
         "73",
         "1"
        ],
        [
         "29",
         "93",
         "1"
        ]
       ],
       "shape": {
        "columns": 2,
        "rows": 30
       }
      },
      "text/html": [
       "<div>\n",
       "<style scoped>\n",
       "    .dataframe tbody tr th:only-of-type {\n",
       "        vertical-align: middle;\n",
       "    }\n",
       "\n",
       "    .dataframe tbody tr th {\n",
       "        vertical-align: top;\n",
       "    }\n",
       "\n",
       "    .dataframe thead th {\n",
       "        text-align: right;\n",
       "    }\n",
       "</style>\n",
       "<table border=\"1\" class=\"dataframe\">\n",
       "  <thead>\n",
       "    <tr style=\"text-align: right;\">\n",
       "      <th></th>\n",
       "      <th>CIUOMUJ</th>\n",
       "      <th>count</th>\n",
       "    </tr>\n",
       "  </thead>\n",
       "  <tbody>\n",
       "    <tr>\n",
       "      <th>0</th>\n",
       "      <td>NEOG</td>\n",
       "      <td>2735</td>\n",
       "    </tr>\n",
       "    <tr>\n",
       "      <th>1</th>\n",
       "      <td>IGNORADO</td>\n",
       "      <td>1699</td>\n",
       "    </tr>\n",
       "    <tr>\n",
       "      <th>2</th>\n",
       "      <td>23</td>\n",
       "      <td>287</td>\n",
       "    </tr>\n",
       "    <tr>\n",
       "      <th>3</th>\n",
       "      <td>41</td>\n",
       "      <td>225</td>\n",
       "    </tr>\n",
       "    <tr>\n",
       "      <th>4</th>\n",
       "      <td>43</td>\n",
       "      <td>99</td>\n",
       "    </tr>\n",
       "    <tr>\n",
       "      <th>5</th>\n",
       "      <td>52</td>\n",
       "      <td>74</td>\n",
       "    </tr>\n",
       "    <tr>\n",
       "      <th>6</th>\n",
       "      <td>26</td>\n",
       "      <td>64</td>\n",
       "    </tr>\n",
       "    <tr>\n",
       "      <th>7</th>\n",
       "      <td>51</td>\n",
       "      <td>53</td>\n",
       "    </tr>\n",
       "    <tr>\n",
       "      <th>8</th>\n",
       "      <td>22</td>\n",
       "      <td>41</td>\n",
       "    </tr>\n",
       "    <tr>\n",
       "      <th>9</th>\n",
       "      <td>34</td>\n",
       "      <td>39</td>\n",
       "    </tr>\n",
       "    <tr>\n",
       "      <th>10</th>\n",
       "      <td>24</td>\n",
       "      <td>34</td>\n",
       "    </tr>\n",
       "    <tr>\n",
       "      <th>11</th>\n",
       "      <td>33</td>\n",
       "      <td>33</td>\n",
       "    </tr>\n",
       "    <tr>\n",
       "      <th>12</th>\n",
       "      <td>35</td>\n",
       "      <td>32</td>\n",
       "    </tr>\n",
       "    <tr>\n",
       "      <th>13</th>\n",
       "      <td>21</td>\n",
       "      <td>26</td>\n",
       "    </tr>\n",
       "    <tr>\n",
       "      <th>14</th>\n",
       "      <td>81</td>\n",
       "      <td>25</td>\n",
       "    </tr>\n",
       "    <tr>\n",
       "      <th>15</th>\n",
       "      <td>32</td>\n",
       "      <td>20</td>\n",
       "    </tr>\n",
       "    <tr>\n",
       "      <th>16</th>\n",
       "      <td>75</td>\n",
       "      <td>20</td>\n",
       "    </tr>\n",
       "    <tr>\n",
       "      <th>17</th>\n",
       "      <td>42</td>\n",
       "      <td>16</td>\n",
       "    </tr>\n",
       "    <tr>\n",
       "      <th>18</th>\n",
       "      <td>44</td>\n",
       "      <td>14</td>\n",
       "    </tr>\n",
       "    <tr>\n",
       "      <th>19</th>\n",
       "      <td>12</td>\n",
       "      <td>13</td>\n",
       "    </tr>\n",
       "    <tr>\n",
       "      <th>20</th>\n",
       "      <td>11</td>\n",
       "      <td>5</td>\n",
       "    </tr>\n",
       "    <tr>\n",
       "      <th>21</th>\n",
       "      <td>96</td>\n",
       "      <td>4</td>\n",
       "    </tr>\n",
       "    <tr>\n",
       "      <th>22</th>\n",
       "      <td>31</td>\n",
       "      <td>2</td>\n",
       "    </tr>\n",
       "    <tr>\n",
       "      <th>23</th>\n",
       "      <td>13</td>\n",
       "      <td>2</td>\n",
       "    </tr>\n",
       "    <tr>\n",
       "      <th>24</th>\n",
       "      <td>14</td>\n",
       "      <td>2</td>\n",
       "    </tr>\n",
       "    <tr>\n",
       "      <th>25</th>\n",
       "      <td>25</td>\n",
       "      <td>2</td>\n",
       "    </tr>\n",
       "    <tr>\n",
       "      <th>26</th>\n",
       "      <td>54</td>\n",
       "      <td>2</td>\n",
       "    </tr>\n",
       "    <tr>\n",
       "      <th>27</th>\n",
       "      <td>53</td>\n",
       "      <td>1</td>\n",
       "    </tr>\n",
       "    <tr>\n",
       "      <th>28</th>\n",
       "      <td>73</td>\n",
       "      <td>1</td>\n",
       "    </tr>\n",
       "    <tr>\n",
       "      <th>29</th>\n",
       "      <td>93</td>\n",
       "      <td>1</td>\n",
       "    </tr>\n",
       "  </tbody>\n",
       "</table>\n",
       "</div>"
      ],
      "text/plain": [
       "     CIUOMUJ  count\n",
       "0       NEOG   2735\n",
       "1   IGNORADO   1699\n",
       "2         23    287\n",
       "3         41    225\n",
       "4         43     99\n",
       "5         52     74\n",
       "6         26     64\n",
       "7         51     53\n",
       "8         22     41\n",
       "9         34     39\n",
       "10        24     34\n",
       "11        33     33\n",
       "12        35     32\n",
       "13        21     26\n",
       "14        81     25\n",
       "15        32     20\n",
       "16        75     20\n",
       "17        42     16\n",
       "18        44     14\n",
       "19        12     13\n",
       "20        11      5\n",
       "21        96      4\n",
       "22        31      2\n",
       "23        13      2\n",
       "24        14      2\n",
       "25        25      2\n",
       "26        54      2\n",
       "27        53      1\n",
       "28        73      1\n",
       "29        93      1"
      ]
     },
     "metadata": {},
     "output_type": "display_data"
    },
    {
     "name": "stdout",
     "output_type": "stream",
     "text": [
      "\n",
      "\n"
     ]
    }
   ],
   "source": [
    "freq_table = {col: data[col].value_counts() for col in cualitative_columns}\n",
    "\n",
    "for column, table in freq_table.items():\n",
    "    print(f\"Tabla de frecuencias para la variable: {column}\")\n",
    "    display(table.reset_index().head(30)) \n",
    "    print(\"\\n\")"
   ]
  },
  {
   "cell_type": "markdown",
   "metadata": {},
   "source": [
    "### Identificación de valores atípicos"
   ]
  },
  {
   "cell_type": "code",
   "execution_count": 25,
   "metadata": {},
   "outputs": [
    {
     "name": "stdout",
     "output_type": "stream",
     "text": [
      "   DEPREG  MUPREG  MESREG  AÑOREG  DIAOCU  MESOCU  DEPOCU  MUPOCU  EDADHOM  \\\n",
      "0       3     309       1    2015       7       8       3     309       30   \n",
      "1       1     101       5    2015       5      12       1     101       48   \n",
      "2       1     101       5    2015      17       9       1     101      999   \n",
      "3       1     101       1    2015       4       9       1     101       42   \n",
      "4       1     101       5    2015       6      11       1     101       30   \n",
      "\n",
      "   EDADMUJ  PUEHOM  PUEMUJ  NACHOM  NACMUJ  ESCHOM  ESCMUJ   CIUOHOM CIUOMUJ  \n",
      "0       27       9       9     124     320       1       1        52    NEOG  \n",
      "1      999       4       9     156     320       4       1        52      51  \n",
      "2      999       9       9     192     320       9       9        26      52  \n",
      "3       34       9       4     208     320       1       5        52      52  \n",
      "4       30       9       4     218     320       1       4  IGNORADO    NEOG  \n"
     ]
    }
   ],
   "source": [
    "# Función para identificar valores atípicos usando IQR\n",
    "def detectar_outliers_iqr(df, columnas):\n",
    "    outliers = {}\n",
    "    for col in columnas:\n",
    "        if col in df.columns:\n",
    "            Q1 = df[col].quantile(0.25)\n",
    "            Q3 = df[col].quantile(0.75)\n",
    "            IQR = Q3 - Q1\n",
    "            lower_bound = Q1 - 1.5 * IQR\n",
    "            upper_bound = Q3 + 1.5 * IQR\n",
    "            outliers[col] = df[(df[col] < lower_bound) | (df[col] > upper_bound)]\n",
    "    return outliers\n",
    "\n",
    "# Aplicar detección de outliers\n",
    "outliers_detectados = detectar_outliers_iqr(data, quantitative_columns)\n",
    "\n",
    "# Unir los resultados en un solo DataFrame\n",
    "outliers_df = pd.concat(outliers_detectados.values(), ignore_index=True)\n",
    "\n",
    "# Guardar los valores atípicos en un archivo CSV\n",
    "outliers_df.to_csv(\"valores_atipicos_divorcios.csv\", index=False)\n",
    "\n",
    "# Mostrar algunas filas con valores atípicos detectados\n",
    "print(outliers_df.head())"
   ]
  },
  {
   "cell_type": "code",
   "execution_count": 27,
   "metadata": {},
   "outputs": [
    {
     "data": {
      "image/png": "[encoded data removed]",
      "text/plain": [
       "<Figure size 1000x1000 with 6 Axes>"
      ]
     },
     "metadata": {},
     "output_type": "display_data"
    }
   ],
   "source": [
    "plot_columns = [col for col in quantitative_columns if col in data_cleaned.columns]\n",
    "\n",
    "data_cleaned[plot_columns].hist(figsize=(10, 10), bins=20)\n",
    "plt.tight_layout()\n",
    "plt.show()"
   ]
  },
  {
   "cell_type": "code",
   "execution_count": 28,
   "metadata": {},
   "outputs": [
    {
     "data": {
      "image/png": "[encoded data removed]",
      "text/plain": [
       "<Figure size 2000x2000 with 30 Axes>"
      ]
     },
     "metadata": {},
     "output_type": "display_data"
    }
   ],
   "source": [
    "# Generar los box plots\n",
    "plot_columns = [col for col in quantitative_columns if col in data_cleaned.columns]\n",
    "data_cleaned[plot_columns].plot(kind='box', subplots=True, layout=(6, 5), figsize=(20, 20))\n",
    "plt.tight_layout()  # Ajusta el layout para evitar que los gráficos se sobrepongan\n",
    "plt.show()"
   ]
  },
  {
   "cell_type": "code",
   "execution_count": 29,
   "metadata": {},
   "outputs": [
    {
     "name": "stdout",
     "output_type": "stream",
     "text": [
      "--- AÑOREG ---\n"
     ]
    },
    {
     "data": {
      "image/png": "[encoded data removed]",
      "text/plain": [
       "<Figure size 600x400 with 1 Axes>"
      ]
     },
     "metadata": {},
     "output_type": "display_data"
    },
    {
     "name": "stdout",
     "output_type": "stream",
     "text": [
      "Kolmogorov-Smirnov Test for AÑOREG:\n",
      "Statistic: 0.43511931020092237, p-value: 0.0 (La distribución no es normal)\n",
      "\n",
      "\n",
      "--- DIAOCU ---\n"
     ]
    },
    {
     "data": {
      "image/png": "[encoded data removed]",
      "text/plain": [
       "<Figure size 600x400 with 1 Axes>"
      ]
     },
     "metadata": {},
     "output_type": "display_data"
    },
    {
     "name": "stdout",
     "output_type": "stream",
     "text": [
      "Kolmogorov-Smirnov Test for DIAOCU:\n",
      "Statistic: 0.07908516623251644, p-value: 1.9224407418902535e-23 (La distribución no es normal)\n",
      "\n",
      "\n",
      "--- MESOCU ---\n"
     ]
    },
    {
     "data": {
      "image/png": "[encoded data removed]",
      "text/plain": [
       "<Figure size 600x400 with 1 Axes>"
      ]
     },
     "metadata": {},
     "output_type": "display_data"
    },
    {
     "name": "stdout",
     "output_type": "stream",
     "text": [
      "Kolmogorov-Smirnov Test for MESOCU:\n",
      "Statistic: 0.12650161191691156, p-value: 2.0064457970118833e-59 (La distribución no es normal)\n",
      "\n",
      "\n",
      "--- EDADHOM ---\n"
     ]
    },
    {
     "data": {
      "image/png": "[encoded data removed]",
      "text/plain": [
       "<Figure size 600x400 with 1 Axes>"
      ]
     },
     "metadata": {},
     "output_type": "display_data"
    },
    {
     "name": "stdout",
     "output_type": "stream",
     "text": [
      "Kolmogorov-Smirnov Test for EDADHOM:\n",
      "Statistic: 0.3892911509316043, p-value: 0.0 (La distribución no es normal)\n",
      "\n",
      "\n",
      "--- EDADMUJ ---\n"
     ]
    },
    {
     "data": {
      "image/png": "[encoded data removed]",
      "text/plain": [
       "<Figure size 600x400 with 1 Axes>"
      ]
     },
     "metadata": {},
     "output_type": "display_data"
    },
    {
     "name": "stdout",
     "output_type": "stream",
     "text": [
      "Kolmogorov-Smirnov Test for EDADMUJ:\n",
      "Statistic: 0.3869819004323532, p-value: 0.0 (La distribución no es normal)\n",
      "\n",
      "\n"
     ]
    }
   ],
   "source": [
    "normality_plot_columns = [col for col in plot_columns if col in data_cleaned.columns]\n",
    "\n",
    "# Realizar pruebas de normalidad y graficar QQ plots\n",
    "results = []\n",
    "for column in normality_plot_columns:\n",
    "    print(f\"--- {column} ---\")\n",
    "    # QQ Plot\n",
    "    fig = plt.figure(figsize=(6, 4))\n",
    "    res = stats.probplot(data_cleaned[column].dropna(), plot=plt)\n",
    "    plt.title(f\"Q-Q plot for {column}\")\n",
    "    plt.show()\n",
    "\n",
    "    # Kolmogorov-Smirnov test for normality\n",
    "    normed_data = (data_cleaned[column].dropna() - data_cleaned[column].mean()) / data_cleaned[column].std()\n",
    "    ks_test = stats.kstest(normed_data, 'norm')\n",
    "    normality_text = \"La distribución es normal\" if ks_test.pvalue > 0.05 else \"La distribución no es normal\"\n",
    "    print(f\"Kolmogorov-Smirnov Test for {column}:\\nStatistic: {ks_test.statistic}, p-value: {ks_test.pvalue} ({normality_text})\\n\\n\")\n",
    "\n",
    "    results.append((column, ks_test.statistic, ks_test.pvalue, normality_text))\n"
   ]
  }
 ],
 "metadata": {
  "kernelspec": {
   "display_name": "venv",
   "language": "python",
   "name": "python3"
  },
  "language_info": {
   "codemirror_mode": {
    "name": "ipython",
    "version": 3
   },
   "file_extension": ".py",
   "mimetype": "text/x-python",
   "name": "python",
   "nbconvert_exporter": "python",
   "pygments_lexer": "ipython3",
   "version": "3.10.2"
  }
 },
 "nbformat": 4,
 "nbformat_minor": 2
}
