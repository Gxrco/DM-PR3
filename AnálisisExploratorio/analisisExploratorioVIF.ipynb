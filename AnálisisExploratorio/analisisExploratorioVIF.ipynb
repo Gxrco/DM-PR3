{
 "cells": [
  {
   "cell_type": "markdown",
   "metadata": {},
   "source": [
    "# Análisis Exploratorio (Divorcios)"
   ]
  },
  {
   "cell_type": "code",
   "execution_count": 1,
   "metadata": {},
   "outputs": [],
   "source": [
    "import numpy as np\n",
    "import pandas as pd\n",
    "import matplotlib.pyplot as plt\n",
    "import scipy.stats as stats\n",
    "import seaborn as sns"
   ]
  },
  {
   "cell_type": "markdown",
   "metadata": {},
   "source": [
    "#### Leemos los datos del CSV"
   ]
  },
  {
   "cell_type": "code",
   "execution_count": 2,
   "metadata": {},
   "outputs": [],
   "source": [
    "# Configurar pandas para que muestre todas las columnas\n",
    "pd.set_option('display.max_columns', None)\n",
    "\n",
    "#Configurar pandas para que muestre todas las filas\n",
    "pd.set_option('display.max_rows', None)"
   ]
  },
  {
   "cell_type": "code",
   "execution_count": 5,
   "metadata": {},
   "outputs": [
    {
     "name": "stderr",
     "output_type": "stream",
     "text": [
      "C:\\Users\\n8nug\\AppData\\Local\\Temp\\ipykernel_24376\\1507728952.py:1: DtypeWarning: Columns (12,13,14,15,16,17,20) have mixed types. Specify dtype option on import or set low_memory=False.\n",
      "  data = pd.read_csv('VIF.csv')\n"
     ]
    }
   ],
   "source": [
    "data = pd.read_csv('VIF.csv')"
   ]
  },
  {
   "cell_type": "markdown",
   "metadata": {},
   "source": [
    "<small>\n",
    "\n",
    "Haremos una exploración rápida de los datos, para ello estaremos trabajando un resumen del conjunto de datos.\n",
    "\n",
    "Primero, separaremos qué variables con cuantitativas y cuáles son cualitativas.\n",
    "\n",
    "</small>"
   ]
  },
  {
   "cell_type": "code",
   "execution_count": 6,
   "metadata": {},
   "outputs": [],
   "source": [
    "# Lista de variables cuantitativas (numéricas)\n",
    "quantitative_columns = [\n",
    "    \"HEC_DIA\", \"HEC_MES\", \"HEC_ANO\",  # Fecha del hecho\n",
    "    \"DIA_EMISION\", \"MES_EMISION\", \"ANO_EMISION\",  # Fecha de emisión de la denuncia\n",
    "    \"VIC_EDAD\", \"TOTAL_HIJOS\", \"NUM_HIJ_HOM\", \"NUM_HIJ_MUJ\",  # Datos de la víctima\n",
    "    \"AGR_EDAD\", \"AGRESORES_OTROS_TOTAL\", \"AGR_OTROS_HOM\", \"AGR_OTRAS_MUJ\", \n",
    "    \"AGR_OTROS_N_OS\", \"AGR_OTRAS_N_AS\"  # Datos del agresor y otros agresores\n",
    "]\n",
    "\n",
    "# Lista de variables cualitativas (categóricas)\n",
    "cualitative_columns = [\n",
    "    \"HEC_DEPTOMCPIO\", \"HEC_TIPAGRE\", \"DEPTO_MCPIO\", \"QUIEN_REPORTA\",  # Ubicación y reporte\n",
    "    \"VIC_SEXO\", \"VIC_ALFAB\", \"VIC_ESCOLARIDAD\", \"VIC_EST_CIV\", \"VIC_GRUPET\", \n",
    "    \"VIC_NACIONAL\", \"VIC_TRABAJA\", \"VIC_OCUP\", \"VIC_DEDICA\", \"VIC_DISC\", \"TIPO_DISCAQ\",\n",
    "    \"VIC_REL_AGR\", \"HEC_AREA\", \"HEC_RECUR_DENUN\", \"INST_DONDE_DENUNCIO\",  # Datos de la víctima\n",
    "    \"AGR_SEXO\", \"AGR_ALFAB\", \"AGR_ESCOLARIDAD\", \"AGR_EST_CIV\", \"AGR_GURPET\", \n",
    "    \"AGR_NACIONAL\", \"AGR_TRABAJA\", \"AGR_OCUP\", \"AGR_DEDICA\",  # Datos del agresor\n",
    "    \"INST_DENUN_HECHO\", \"LEY_APLICABLE\", \"MEDIDAS_SEGURIDAD\", \"TIPO_MEDIDA\"  # Denuncia y medidas\n",
    "]"
   ]
  },
  {
   "cell_type": "markdown",
   "metadata": {},
   "source": [
    "<small>Usamos `data.describe()` en Python para obtener un resumen estadístico rápido de los datos en un DataFrame de pandas. Este método proporciona información esencial como la media, la desviación estándar, los valores mínimo y máximo, y los percentiles (25%, 50%, 75%) para cada columna numérica. Esto nos ayuda a entender mejor la distribución y las características generales de los datos, identificar posibles valores atípicos y guiar el análisis exploratorio de datos.</small>\n"
   ]
  },
  {
   "cell_type": "code",
   "execution_count": 7,
   "metadata": {},
   "outputs": [
    {
     "data": {
      "application/vnd.microsoft.datawrangler.viewer.v0+json": {
       "columns": [
        {
         "name": "index",
         "rawType": "object",
         "type": "string"
        },
        {
         "name": "HEC_DIA",
         "rawType": "float64",
         "type": "float"
        },
        {
         "name": "HEC_MES",
         "rawType": "float64",
         "type": "float"
        },
        {
         "name": "HEC_ANO",
         "rawType": "float64",
         "type": "float"
        },
        {
         "name": "DIA_EMISION",
         "rawType": "float64",
         "type": "float"
        },
        {
         "name": "MES_EMISION",
         "rawType": "float64",
         "type": "float"
        },
        {
         "name": "ANO_EMISION",
         "rawType": "float64",
         "type": "float"
        },
        {
         "name": "VIC_EDAD",
         "rawType": "float64",
         "type": "float"
        },
        {
         "name": "AGR_EDAD",
         "rawType": "float64",
         "type": "float"
        },
        {
         "name": "AGRESORES_OTROS_TOTAL",
         "rawType": "float64",
         "type": "float"
        },
        {
         "name": "AGR_OTROS_HOM",
         "rawType": "float64",
         "type": "float"
        },
        {
         "name": "AGR_OTRAS_MUJ",
         "rawType": "float64",
         "type": "float"
        },
        {
         "name": "AGR_OTROS_N_OS",
         "rawType": "float64",
         "type": "float"
        },
        {
         "name": "AGR_OTRAS_N_AS",
         "rawType": "float64",
         "type": "float"
        }
       ],
       "conversionMethod": "pd.DataFrame",
       "ref": "be48ac0a-0f5e-4718-bd38-499676635830",
       "rows": [
        [
         "count",
         "34330.0",
         "34330.0",
         "34330.0",
         "34330.0",
         "34330.0",
         "34330.0",
         "34330.0",
         "34330.0",
         "34330.0",
         "34330.0",
         "34330.0",
         "34330.0",
         "34330.0"
        ],
        [
         "mean",
         "16.819399941741917",
         "8.079318380425285",
         "2173.7588989222254",
         "15.262219632974075",
         "6.2107486163705214",
         "2014.0",
         "33.108272647829885",
         "37.913078939702885",
         "57.50037867754151",
         "57.413778036702595",
         "57.43367317215264",
         "57.38645499563064",
         "57.384852898339645"
        ],
        [
         "std",
         "14.636292076633882",
         "13.415853125823027",
         "1118.2401643153464",
         "8.805635059386132",
         "3.3649707519722845",
         "0.0",
         "14.292445969288178",
         "18.768905140045376",
         "48.7238198184581",
         "48.8230332997399",
         "48.800013046909854",
         "48.85474010033207",
         "48.85660795965956"
        ],
        [
         "min",
         "1.0",
         "1.0",
         "2000.0",
         "1.0",
         "1.0",
         "2014.0",
         "1.0",
         "12.0",
         "0.0",
         "0.0",
         "0.0",
         "0.0",
         "0.0"
        ],
        [
         "25%",
         "8.0",
         "3.0",
         "2014.0",
         "7.0",
         "3.0",
         "2014.0",
         "23.0",
         "26.0",
         "0.0",
         "0.0",
         "0.0",
         "0.0",
         "0.0"
        ],
        [
         "50%",
         "15.0",
         "6.0",
         "2014.0",
         "15.0",
         "6.0",
         "2014.0",
         "30.0",
         "33.0",
         "99.0",
         "99.0",
         "99.0",
         "99.0",
         "99.0"
        ],
        [
         "75%",
         "23.0",
         "9.0",
         "2014.0",
         "23.0",
         "9.0",
         "2014.0",
         "39.0",
         "42.0",
         "99.0",
         "99.0",
         "99.0",
         "99.0",
         "99.0"
        ],
        [
         "max",
         "99.0",
         "99.0",
         "9999.0",
         "31.0",
         "12.0",
         "2014.0",
         "99.0",
         "99.0",
         "99.0",
         "99.0",
         "99.0",
         "99.0",
         "99.0"
        ]
       ],
       "shape": {
        "columns": 13,
        "rows": 8
       }
      },
      "text/html": [
       "<div>\n",
       "<style scoped>\n",
       "    .dataframe tbody tr th:only-of-type {\n",
       "        vertical-align: middle;\n",
       "    }\n",
       "\n",
       "    .dataframe tbody tr th {\n",
       "        vertical-align: top;\n",
       "    }\n",
       "\n",
       "    .dataframe thead th {\n",
       "        text-align: right;\n",
       "    }\n",
       "</style>\n",
       "<table border=\"1\" class=\"dataframe\">\n",
       "  <thead>\n",
       "    <tr style=\"text-align: right;\">\n",
       "      <th></th>\n",
       "      <th>HEC_DIA</th>\n",
       "      <th>HEC_MES</th>\n",
       "      <th>HEC_ANO</th>\n",
       "      <th>DIA_EMISION</th>\n",
       "      <th>MES_EMISION</th>\n",
       "      <th>ANO_EMISION</th>\n",
       "      <th>VIC_EDAD</th>\n",
       "      <th>AGR_EDAD</th>\n",
       "      <th>AGRESORES_OTROS_TOTAL</th>\n",
       "      <th>AGR_OTROS_HOM</th>\n",
       "      <th>AGR_OTRAS_MUJ</th>\n",
       "      <th>AGR_OTROS_N_OS</th>\n",
       "      <th>AGR_OTRAS_N_AS</th>\n",
       "    </tr>\n",
       "  </thead>\n",
       "  <tbody>\n",
       "    <tr>\n",
       "      <th>count</th>\n",
       "      <td>34330.000000</td>\n",
       "      <td>34330.000000</td>\n",
       "      <td>34330.000000</td>\n",
       "      <td>34330.000000</td>\n",
       "      <td>34330.000000</td>\n",
       "      <td>34330.0</td>\n",
       "      <td>34330.000000</td>\n",
       "      <td>34330.000000</td>\n",
       "      <td>34330.000000</td>\n",
       "      <td>34330.000000</td>\n",
       "      <td>34330.000000</td>\n",
       "      <td>34330.000000</td>\n",
       "      <td>34330.000000</td>\n",
       "    </tr>\n",
       "    <tr>\n",
       "      <th>mean</th>\n",
       "      <td>16.819400</td>\n",
       "      <td>8.079318</td>\n",
       "      <td>2173.758899</td>\n",
       "      <td>15.262220</td>\n",
       "      <td>6.210749</td>\n",
       "      <td>2014.0</td>\n",
       "      <td>33.108273</td>\n",
       "      <td>37.913079</td>\n",
       "      <td>57.500379</td>\n",
       "      <td>57.413778</td>\n",
       "      <td>57.433673</td>\n",
       "      <td>57.386455</td>\n",
       "      <td>57.384853</td>\n",
       "    </tr>\n",
       "    <tr>\n",
       "      <th>std</th>\n",
       "      <td>14.636292</td>\n",
       "      <td>13.415853</td>\n",
       "      <td>1118.240164</td>\n",
       "      <td>8.805635</td>\n",
       "      <td>3.364971</td>\n",
       "      <td>0.0</td>\n",
       "      <td>14.292446</td>\n",
       "      <td>18.768905</td>\n",
       "      <td>48.723820</td>\n",
       "      <td>48.823033</td>\n",
       "      <td>48.800013</td>\n",
       "      <td>48.854740</td>\n",
       "      <td>48.856608</td>\n",
       "    </tr>\n",
       "    <tr>\n",
       "      <th>min</th>\n",
       "      <td>1.000000</td>\n",
       "      <td>1.000000</td>\n",
       "      <td>2000.000000</td>\n",
       "      <td>1.000000</td>\n",
       "      <td>1.000000</td>\n",
       "      <td>2014.0</td>\n",
       "      <td>1.000000</td>\n",
       "      <td>12.000000</td>\n",
       "      <td>0.000000</td>\n",
       "      <td>0.000000</td>\n",
       "      <td>0.000000</td>\n",
       "      <td>0.000000</td>\n",
       "      <td>0.000000</td>\n",
       "    </tr>\n",
       "    <tr>\n",
       "      <th>25%</th>\n",
       "      <td>8.000000</td>\n",
       "      <td>3.000000</td>\n",
       "      <td>2014.000000</td>\n",
       "      <td>7.000000</td>\n",
       "      <td>3.000000</td>\n",
       "      <td>2014.0</td>\n",
       "      <td>23.000000</td>\n",
       "      <td>26.000000</td>\n",
       "      <td>0.000000</td>\n",
       "      <td>0.000000</td>\n",
       "      <td>0.000000</td>\n",
       "      <td>0.000000</td>\n",
       "      <td>0.000000</td>\n",
       "    </tr>\n",
       "    <tr>\n",
       "      <th>50%</th>\n",
       "      <td>15.000000</td>\n",
       "      <td>6.000000</td>\n",
       "      <td>2014.000000</td>\n",
       "      <td>15.000000</td>\n",
       "      <td>6.000000</td>\n",
       "      <td>2014.0</td>\n",
       "      <td>30.000000</td>\n",
       "      <td>33.000000</td>\n",
       "      <td>99.000000</td>\n",
       "      <td>99.000000</td>\n",
       "      <td>99.000000</td>\n",
       "      <td>99.000000</td>\n",
       "      <td>99.000000</td>\n",
       "    </tr>\n",
       "    <tr>\n",
       "      <th>75%</th>\n",
       "      <td>23.000000</td>\n",
       "      <td>9.000000</td>\n",
       "      <td>2014.000000</td>\n",
       "      <td>23.000000</td>\n",
       "      <td>9.000000</td>\n",
       "      <td>2014.0</td>\n",
       "      <td>39.000000</td>\n",
       "      <td>42.000000</td>\n",
       "      <td>99.000000</td>\n",
       "      <td>99.000000</td>\n",
       "      <td>99.000000</td>\n",
       "      <td>99.000000</td>\n",
       "      <td>99.000000</td>\n",
       "    </tr>\n",
       "    <tr>\n",
       "      <th>max</th>\n",
       "      <td>99.000000</td>\n",
       "      <td>99.000000</td>\n",
       "      <td>9999.000000</td>\n",
       "      <td>31.000000</td>\n",
       "      <td>12.000000</td>\n",
       "      <td>2014.0</td>\n",
       "      <td>99.000000</td>\n",
       "      <td>99.000000</td>\n",
       "      <td>99.000000</td>\n",
       "      <td>99.000000</td>\n",
       "      <td>99.000000</td>\n",
       "      <td>99.000000</td>\n",
       "      <td>99.000000</td>\n",
       "    </tr>\n",
       "  </tbody>\n",
       "</table>\n",
       "</div>"
      ],
      "text/plain": [
       "            HEC_DIA       HEC_MES       HEC_ANO   DIA_EMISION   MES_EMISION  \\\n",
       "count  34330.000000  34330.000000  34330.000000  34330.000000  34330.000000   \n",
       "mean      16.819400      8.079318   2173.758899     15.262220      6.210749   \n",
       "std       14.636292     13.415853   1118.240164      8.805635      3.364971   \n",
       "min        1.000000      1.000000   2000.000000      1.000000      1.000000   \n",
       "25%        8.000000      3.000000   2014.000000      7.000000      3.000000   \n",
       "50%       15.000000      6.000000   2014.000000     15.000000      6.000000   \n",
       "75%       23.000000      9.000000   2014.000000     23.000000      9.000000   \n",
       "max       99.000000     99.000000   9999.000000     31.000000     12.000000   \n",
       "\n",
       "       ANO_EMISION      VIC_EDAD      AGR_EDAD  AGRESORES_OTROS_TOTAL  \\\n",
       "count      34330.0  34330.000000  34330.000000           34330.000000   \n",
       "mean        2014.0     33.108273     37.913079              57.500379   \n",
       "std            0.0     14.292446     18.768905              48.723820   \n",
       "min         2014.0      1.000000     12.000000               0.000000   \n",
       "25%         2014.0     23.000000     26.000000               0.000000   \n",
       "50%         2014.0     30.000000     33.000000              99.000000   \n",
       "75%         2014.0     39.000000     42.000000              99.000000   \n",
       "max         2014.0     99.000000     99.000000              99.000000   \n",
       "\n",
       "       AGR_OTROS_HOM  AGR_OTRAS_MUJ  AGR_OTROS_N_OS  AGR_OTRAS_N_AS  \n",
       "count   34330.000000   34330.000000    34330.000000    34330.000000  \n",
       "mean       57.413778      57.433673       57.386455       57.384853  \n",
       "std        48.823033      48.800013       48.854740       48.856608  \n",
       "min         0.000000       0.000000        0.000000        0.000000  \n",
       "25%         0.000000       0.000000        0.000000        0.000000  \n",
       "50%        99.000000      99.000000       99.000000       99.000000  \n",
       "75%        99.000000      99.000000       99.000000       99.000000  \n",
       "max        99.000000      99.000000       99.000000       99.000000  "
      ]
     },
     "execution_count": 7,
     "metadata": {},
     "output_type": "execute_result"
    }
   ],
   "source": [
    "data[quantitative_columns].describe()"
   ]
  },
  {
   "cell_type": "markdown",
   "metadata": {},
   "source": [
    "<small>\n",
    "El método `pd.info()` en pandas se utiliza para obtener un resumen conciso de un DataFrame. Proporciona información sobre:\n",
    "\n",
    "- El número de filas y columnas.\n",
    "- Los nombres de las columnas\n",
    "- El tipo de datos de cada columna.\n",
    "- El número de valores no nulos en cada columna.\n",
    "\n",
    "Esto es útil para entender rápidamente la estructura y las características básicas del conjunto de datos antes de realizar un análisis más profundo.\n",
    "</small>\n"
   ]
  },
  {
   "cell_type": "code",
   "execution_count": 8,
   "metadata": {},
   "outputs": [
    {
     "name": "stdout",
     "output_type": "stream",
     "text": [
      "<class 'pandas.core.frame.DataFrame'>\n",
      "RangeIndex: 34330 entries, 0 to 34329\n",
      "Data columns (total 53 columns):\n",
      " #   Column                 Non-Null Count  Dtype \n",
      "---  ------                 --------------  ----- \n",
      " 0   HEC_DIA                34330 non-null  int64 \n",
      " 1   HEC_MES                34330 non-null  int64 \n",
      " 2   HEC_ANO                34330 non-null  int64 \n",
      " 3   HEC_DEPTOMCPIO         34330 non-null  int64 \n",
      " 4   HEC_TIPAGRE            34330 non-null  int64 \n",
      " 5   DIA_EMISION            34330 non-null  int64 \n",
      " 6   MES_EMISION            34330 non-null  int64 \n",
      " 7   ANO_EMISION            34330 non-null  int64 \n",
      " 8   DEPTO_MCPIO            34330 non-null  int64 \n",
      " 9   QUIEN_REPORTA          34330 non-null  int64 \n",
      " 10  VIC_SEXO               34330 non-null  int64 \n",
      " 11  VIC_EDAD               34330 non-null  int64 \n",
      " 12  TOTAL_HIJOS            34330 non-null  object\n",
      " 13  NUM_HIJ_HOM            34330 non-null  object\n",
      " 14  NUM_HIJ_MUJ            34330 non-null  object\n",
      " 15  VIC_ALFAB              34330 non-null  object\n",
      " 16  VIC_ESCOLARIDAD        34330 non-null  object\n",
      " 17  VIC_EST_CIV            34330 non-null  object\n",
      " 18  VIC_GRUPET             34330 non-null  int64 \n",
      " 19  VIC_NACIONAL           34330 non-null  int64 \n",
      " 20  VIC_TRABAJA            34330 non-null  object\n",
      " 21  VIC_OCUP               34330 non-null  object\n",
      " 22  VIC_DEDICA             34330 non-null  object\n",
      " 23  VIC_DISC               34330 non-null  int64 \n",
      " 24  TIPO_DISCAQ            34330 non-null  object\n",
      " 25  VIC_REL_AGR            34330 non-null  int64 \n",
      " 26  OTRAS_VICTIMAS         34330 non-null  int64 \n",
      " 27  VIC_OTRAS_HOM          34330 non-null  int64 \n",
      " 28  VIC_OTRAS_MUJ          34330 non-null  int64 \n",
      " 29  VIC_OTRAS_N_OS         34330 non-null  int64 \n",
      " 30  VIC_OTRAS_N_AS         34330 non-null  int64 \n",
      " 31  HEC_AREA               34330 non-null  int64 \n",
      " 32  HEC_RECUR_DENUN        34330 non-null  int64 \n",
      " 33  INST_DONDE_DENUNCIO    34330 non-null  object\n",
      " 34  AGR_SEXO               34330 non-null  int64 \n",
      " 35  AGR_EDAD               34330 non-null  int64 \n",
      " 36  AGR_ALFAB              34330 non-null  int64 \n",
      " 37  AGR_ESCOLARIDAD        34330 non-null  int64 \n",
      " 38  AGR_EST_CIV            34330 non-null  int64 \n",
      " 39  AGR_GURPET             34330 non-null  int64 \n",
      " 40  AGR_NACIONAL           34330 non-null  int64 \n",
      " 41  AGR_TRABAJA            34330 non-null  int64 \n",
      " 42  AGR_OCUP               34330 non-null  object\n",
      " 43  AGR_DEDICA             34330 non-null  object\n",
      " 44  AGRESORES_OTROS_TOTAL  34330 non-null  int64 \n",
      " 45  AGR_OTROS_HOM          34330 non-null  int64 \n",
      " 46  AGR_OTRAS_MUJ          34330 non-null  int64 \n",
      " 47  AGR_OTROS_N_OS         34330 non-null  int64 \n",
      " 48  AGR_OTRAS_N_AS         34330 non-null  int64 \n",
      " 49  INST_DENUN_HECHO       34330 non-null  int64 \n",
      " 50  LEY_APLICABLE          34330 non-null  object\n",
      " 51  MEDIDAS_SEGURIDAD      34330 non-null  object\n",
      " 52  TIPO_MEDIDA            20046 non-null  object\n",
      "dtypes: int64(37), object(16)\n",
      "memory usage: 13.9+ MB\n",
      "None\n"
     ]
    }
   ],
   "source": [
    "print(data.info())"
   ]
  },
  {
   "cell_type": "markdown",
   "metadata": {},
   "source": [
    "<small>`isnull().sum()` nos sirve para saber la suma de cuántos valores son nulos para cada columna de nuestro dataset.</small>"
   ]
  },
  {
   "cell_type": "code",
   "execution_count": 9,
   "metadata": {},
   "outputs": [
    {
     "name": "stdout",
     "output_type": "stream",
     "text": [
      "HEC_DIA                      0\n",
      "HEC_MES                      0\n",
      "HEC_ANO                      0\n",
      "HEC_DEPTOMCPIO               0\n",
      "HEC_TIPAGRE                  0\n",
      "DIA_EMISION                  0\n",
      "MES_EMISION                  0\n",
      "ANO_EMISION                  0\n",
      "DEPTO_MCPIO                  0\n",
      "QUIEN_REPORTA                0\n",
      "VIC_SEXO                     0\n",
      "VIC_EDAD                     0\n",
      "TOTAL_HIJOS                  0\n",
      "NUM_HIJ_HOM                  0\n",
      "NUM_HIJ_MUJ                  0\n",
      "VIC_ALFAB                    0\n",
      "VIC_ESCOLARIDAD              0\n",
      "VIC_EST_CIV                  0\n",
      "VIC_GRUPET                   0\n",
      "VIC_NACIONAL                 0\n",
      "VIC_TRABAJA                  0\n",
      "VIC_OCUP                     0\n",
      "VIC_DEDICA                   0\n",
      "VIC_DISC                     0\n",
      "TIPO_DISCAQ                  0\n",
      "VIC_REL_AGR                  0\n",
      "OTRAS_VICTIMAS               0\n",
      "VIC_OTRAS_HOM                0\n",
      "VIC_OTRAS_MUJ                0\n",
      "VIC_OTRAS_N_OS               0\n",
      "VIC_OTRAS_N_AS               0\n",
      "HEC_AREA                     0\n",
      "HEC_RECUR_DENUN              0\n",
      "INST_DONDE_DENUNCIO          0\n",
      "AGR_SEXO                     0\n",
      "AGR_EDAD                     0\n",
      "AGR_ALFAB                    0\n",
      "AGR_ESCOLARIDAD              0\n",
      "AGR_EST_CIV                  0\n",
      "AGR_GURPET                   0\n",
      "AGR_NACIONAL                 0\n",
      "AGR_TRABAJA                  0\n",
      "AGR_OCUP                     0\n",
      "AGR_DEDICA                   0\n",
      "AGRESORES_OTROS_TOTAL        0\n",
      "AGR_OTROS_HOM                0\n",
      "AGR_OTRAS_MUJ                0\n",
      "AGR_OTROS_N_OS               0\n",
      "AGR_OTRAS_N_AS               0\n",
      "INST_DENUN_HECHO             0\n",
      "LEY_APLICABLE                0\n",
      "MEDIDAS_SEGURIDAD            0\n",
      "TIPO_MEDIDA              14284\n",
      "dtype: int64\n"
     ]
    }
   ],
   "source": [
    "print(data.isnull().sum())"
   ]
  },
  {
   "cell_type": "markdown",
   "metadata": {},
   "source": [
    "<small>Ahora que ya sabemos cuántos datos faltan, sería mucho mejor saber cuánto porcentaje de ellos falta:</small>\n"
   ]
  },
  {
   "cell_type": "code",
   "execution_count": 10,
   "metadata": {},
   "outputs": [
    {
     "name": "stdout",
     "output_type": "stream",
     "text": [
      "HEC_DIA                   0.000000\n",
      "HEC_MES                   0.000000\n",
      "HEC_ANO                   0.000000\n",
      "HEC_DEPTOMCPIO            0.000000\n",
      "HEC_TIPAGRE               0.000000\n",
      "DIA_EMISION               0.000000\n",
      "MES_EMISION               0.000000\n",
      "ANO_EMISION               0.000000\n",
      "DEPTO_MCPIO               0.000000\n",
      "QUIEN_REPORTA             0.000000\n",
      "VIC_SEXO                  0.000000\n",
      "VIC_EDAD                  0.000000\n",
      "TOTAL_HIJOS               0.000000\n",
      "NUM_HIJ_HOM               0.000000\n",
      "NUM_HIJ_MUJ               0.000000\n",
      "VIC_ALFAB                 0.000000\n",
      "VIC_ESCOLARIDAD           0.000000\n",
      "VIC_EST_CIV               0.000000\n",
      "VIC_GRUPET                0.000000\n",
      "VIC_NACIONAL              0.000000\n",
      "VIC_TRABAJA               0.000000\n",
      "VIC_OCUP                  0.000000\n",
      "VIC_DEDICA                0.000000\n",
      "VIC_DISC                  0.000000\n",
      "TIPO_DISCAQ               0.000000\n",
      "VIC_REL_AGR               0.000000\n",
      "OTRAS_VICTIMAS            0.000000\n",
      "VIC_OTRAS_HOM             0.000000\n",
      "VIC_OTRAS_MUJ             0.000000\n",
      "VIC_OTRAS_N_OS            0.000000\n",
      "VIC_OTRAS_N_AS            0.000000\n",
      "HEC_AREA                  0.000000\n",
      "HEC_RECUR_DENUN           0.000000\n",
      "INST_DONDE_DENUNCIO       0.000000\n",
      "AGR_SEXO                  0.000000\n",
      "AGR_EDAD                  0.000000\n",
      "AGR_ALFAB                 0.000000\n",
      "AGR_ESCOLARIDAD           0.000000\n",
      "AGR_EST_CIV               0.000000\n",
      "AGR_GURPET                0.000000\n",
      "AGR_NACIONAL              0.000000\n",
      "AGR_TRABAJA               0.000000\n",
      "AGR_OCUP                  0.000000\n",
      "AGR_DEDICA                0.000000\n",
      "AGRESORES_OTROS_TOTAL     0.000000\n",
      "AGR_OTROS_HOM             0.000000\n",
      "AGR_OTRAS_MUJ             0.000000\n",
      "AGR_OTROS_N_OS            0.000000\n",
      "AGR_OTRAS_N_AS            0.000000\n",
      "INST_DENUN_HECHO          0.000000\n",
      "LEY_APLICABLE             0.000000\n",
      "MEDIDAS_SEGURIDAD         0.000000\n",
      "TIPO_MEDIDA              41.607923\n",
      "dtype: float64\n"
     ]
    }
   ],
   "source": [
    "# Porcentaje de datos faltantes por columna\n",
    "missing_data = (data.isnull().sum() / len(data)) * 100\n",
    "print(missing_data)"
   ]
  },
  {
   "cell_type": "markdown",
   "metadata": {},
   "source": [
    "#### ¿Cuál es el propósito de hacer histogramas?\n",
    "\n",
    "<small> Los histogramas son útiles para visualizar la distribución de datos numéricos. Permiten identificar rápidamente la forma de la distribución (normal, sesgada, bimodal, etc.), la presencia de valores atípicos y cómo están agrupados los valores. Este código genera histogramas de todas las variables numéricas en el conjunto de datos, ajustando el tamaño de la figura para una visualización clara.</small>\n"
   ]
  },
  {
   "cell_type": "code",
   "execution_count": 11,
   "metadata": {},
   "outputs": [
    {
     "data": {
      "image/png": "[encoded data removed]",
      "text/plain": [
       "<Figure size 1000x1000 with 16 Axes>"
      ]
     },
     "metadata": {},
     "output_type": "display_data"
    }
   ],
   "source": [
    "plot_columns = [col for col in quantitative_columns if col in data.columns]\n",
    "\n",
    "data[plot_columns].hist(figsize=(10, 10), bins=20)\n",
    "plt.tight_layout()\n",
    "plt.show()"
   ]
  },
  {
   "cell_type": "markdown",
   "metadata": {},
   "source": [
    "#### ¿Cuál es el propósito de hacer box plots?\n",
    "\n",
    "<small>Los gráficos de caja muestran la distribución de datos numéricos y son especialmente buenos para identificar valores atípicos y entender la dispersión de los datos (mediante cuartiles y medianas). Este código crea un gráfico de caja para cada variable numérica, organizándolos en una matriz de gráficos para facilitar la comparación.</small>\n"
   ]
  },
  {
   "cell_type": "code",
   "execution_count": 12,
   "metadata": {},
   "outputs": [
    {
     "data": {
      "image/png": "[encoded data removed]",
      "text/plain": [
       "<Figure size 2000x2000 with 30 Axes>"
      ]
     },
     "metadata": {},
     "output_type": "display_data"
    }
   ],
   "source": [
    "# Generar los box plots\n",
    "plot_columns = [col for col in quantitative_columns if col in data.columns]\n",
    "data[plot_columns].plot(kind='box', subplots=True, layout=(6, 5), figsize=(20, 20))\n",
    "plt.tight_layout()  # Ajusta el layout para evitar que los gráficos se sobrepongan\n",
    "plt.show()"
   ]
  },
  {
   "cell_type": "markdown",
   "metadata": {},
   "source": [
    "### Pruebas de Normalidad"
   ]
  },
  {
   "cell_type": "code",
   "execution_count": 14,
   "metadata": {},
   "outputs": [
    {
     "name": "stdout",
     "output_type": "stream",
     "text": [
      "--- HEC_DIA ---\n"
     ]
    },
    {
     "data": {
      "image/png": "[encoded data removed]",
      "text/plain": [
       "<Figure size 600x400 with 1 Axes>"
      ]
     },
     "metadata": {},
     "output_type": "display_data"
    },
    {
     "name": "stdout",
     "output_type": "stream",
     "text": [
      "Kolmogorov-Smirnov Test for HEC_DIA:\n",
      "Statistic: 0.14762107793590018, p-value: 0.0 (La distribución no es normal)\n",
      "\n",
      "\n",
      "--- HEC_MES ---\n"
     ]
    },
    {
     "data": {
      "image/png": "[encoded data removed]",
      "text/plain": [
       "<Figure size 600x400 with 1 Axes>"
      ]
     },
     "metadata": {},
     "output_type": "display_data"
    },
    {
     "name": "stdout",
     "output_type": "stream",
     "text": [
      "Kolmogorov-Smirnov Test for HEC_MES:\n",
      "Statistic: 0.36503898170339033, p-value: 0.0 (La distribución no es normal)\n",
      "\n",
      "\n",
      "--- HEC_ANO ---\n"
     ]
    },
    {
     "data": {
      "image/png": "[encoded data removed]",
      "text/plain": [
       "<Figure size 600x400 with 1 Axes>"
      ]
     },
     "metadata": {},
     "output_type": "display_data"
    },
    {
     "name": "stdout",
     "output_type": "stream",
     "text": [
      "Kolmogorov-Smirnov Test for HEC_ANO:\n",
      "Statistic: 0.536790483929636, p-value: 0.0 (La distribución no es normal)\n",
      "\n",
      "\n",
      "--- DIA_EMISION ---\n"
     ]
    },
    {
     "data": {
      "image/png": "[encoded data removed]",
      "text/plain": [
       "<Figure size 600x400 with 1 Axes>"
      ]
     },
     "metadata": {},
     "output_type": "display_data"
    },
    {
     "name": "stdout",
     "output_type": "stream",
     "text": [
      "Kolmogorov-Smirnov Test for DIA_EMISION:\n",
      "Statistic: 0.07746716747137888, p-value: 1.240813359237022e-179 (La distribución no es normal)\n",
      "\n",
      "\n",
      "--- MES_EMISION ---\n"
     ]
    },
    {
     "data": {
      "image/png": "[encoded data removed]",
      "text/plain": [
       "<Figure size 600x400 with 1 Axes>"
      ]
     },
     "metadata": {},
     "output_type": "display_data"
    },
    {
     "name": "stdout",
     "output_type": "stream",
     "text": [
      "Kolmogorov-Smirnov Test for MES_EMISION:\n",
      "Statistic: 0.10621781704763639, p-value: 0.0 (La distribución no es normal)\n",
      "\n",
      "\n",
      "--- ANO_EMISION ---\n"
     ]
    },
    {
     "data": {
      "image/png": "[encoded data removed]",
      "text/plain": [
       "<Figure size 600x400 with 1 Axes>"
      ]
     },
     "metadata": {},
     "output_type": "display_data"
    },
    {
     "name": "stdout",
     "output_type": "stream",
     "text": [
      "Kolmogorov-Smirnov Test for ANO_EMISION:\n",
      "Statistic: nan, p-value: nan (La distribución no es normal)\n",
      "\n",
      "\n",
      "--- VIC_EDAD ---\n"
     ]
    },
    {
     "data": {
      "image/png": "[encoded data removed]",
      "text/plain": [
       "<Figure size 600x400 with 1 Axes>"
      ]
     },
     "metadata": {},
     "output_type": "display_data"
    },
    {
     "name": "stdout",
     "output_type": "stream",
     "text": [
      "Kolmogorov-Smirnov Test for VIC_EDAD:\n",
      "Statistic: 0.11886214849857457, p-value: 0.0 (La distribución no es normal)\n",
      "\n",
      "\n",
      "--- TOTAL_HIJOS ---\n"
     ]
    },
    {
     "data": {
      "image/png": "[encoded data removed]",
      "text/plain": [
       "<Figure size 600x400 with 1 Axes>"
      ]
     },
     "metadata": {},
     "output_type": "display_data"
    },
    {
     "name": "stdout",
     "output_type": "stream",
     "text": [
      "Kolmogorov-Smirnov Test for TOTAL_HIJOS:\n",
      "Statistic: 0.4430505502102906, p-value: 0.0 (La distribución no es normal)\n",
      "\n",
      "\n",
      "--- NUM_HIJ_HOM ---\n"
     ]
    },
    {
     "data": {
      "image/png": "[encoded data removed]",
      "text/plain": [
       "<Figure size 600x400 with 1 Axes>"
      ]
     },
     "metadata": {},
     "output_type": "display_data"
    },
    {
     "name": "stdout",
     "output_type": "stream",
     "text": [
      "Kolmogorov-Smirnov Test for NUM_HIJ_HOM:\n",
      "Statistic: 0.46426898719212073, p-value: 0.0 (La distribución no es normal)\n",
      "\n",
      "\n",
      "--- NUM_HIJ_MUJ ---\n"
     ]
    },
    {
     "data": {
      "image/png": "[encoded data removed]",
      "text/plain": [
       "<Figure size 600x400 with 1 Axes>"
      ]
     },
     "metadata": {},
     "output_type": "display_data"
    },
    {
     "name": "stdout",
     "output_type": "stream",
     "text": [
      "Kolmogorov-Smirnov Test for NUM_HIJ_MUJ:\n",
      "Statistic: 0.46492300787974983, p-value: 0.0 (La distribución no es normal)\n",
      "\n",
      "\n",
      "--- AGR_EDAD ---\n"
     ]
    },
    {
     "data": {
      "image/png": "[encoded data removed]",
      "text/plain": [
       "<Figure size 600x400 with 1 Axes>"
      ]
     },
     "metadata": {},
     "output_type": "display_data"
    },
    {
     "name": "stdout",
     "output_type": "stream",
     "text": [
      "Kolmogorov-Smirnov Test for AGR_EDAD:\n",
      "Statistic: 0.17979329179687376, p-value: 0.0 (La distribución no es normal)\n",
      "\n",
      "\n",
      "--- AGRESORES_OTROS_TOTAL ---\n"
     ]
    },
    {
     "data": {
      "image/png": "[encoded data removed]",
      "text/plain": [
       "<Figure size 600x400 with 1 Axes>"
      ]
     },
     "metadata": {},
     "output_type": "display_data"
    },
    {
     "name": "stdout",
     "output_type": "stream",
     "text": [
      "Kolmogorov-Smirnov Test for AGRESORES_OTROS_TOTAL:\n",
      "Statistic: 0.38234076946602263, p-value: 0.0 (La distribución no es normal)\n",
      "\n",
      "\n",
      "--- AGR_OTROS_HOM ---\n"
     ]
    },
    {
     "data": {
      "image/png": "[encoded data removed]",
      "text/plain": [
       "<Figure size 600x400 with 1 Axes>"
      ]
     },
     "metadata": {},
     "output_type": "display_data"
    },
    {
     "name": "stdout",
     "output_type": "stream",
     "text": [
      "Kolmogorov-Smirnov Test for AGR_OTROS_HOM:\n",
      "Statistic: 0.382352693539525, p-value: 0.0 (La distribución no es normal)\n",
      "\n",
      "\n",
      "--- AGR_OTRAS_MUJ ---\n"
     ]
    },
    {
     "data": {
      "image/png": "[encoded data removed]",
      "text/plain": [
       "<Figure size 600x400 with 1 Axes>"
      ]
     },
     "metadata": {},
     "output_type": "display_data"
    },
    {
     "name": "stdout",
     "output_type": "stream",
     "text": [
      "Kolmogorov-Smirnov Test for AGR_OTRAS_MUJ:\n",
      "Statistic: 0.38235106074740716, p-value: 0.0 (La distribución no es normal)\n",
      "\n",
      "\n",
      "--- AGR_OTROS_N_OS ---\n"
     ]
    },
    {
     "data": {
      "image/png": "[encoded data removed]",
      "text/plain": [
       "<Figure size 600x400 with 1 Axes>"
      ]
     },
     "metadata": {},
     "output_type": "display_data"
    },
    {
     "name": "stdout",
     "output_type": "stream",
     "text": [
      "Kolmogorov-Smirnov Test for AGR_OTROS_N_OS:\n",
      "Statistic: 0.38235448882627715, p-value: 0.0 (La distribución no es normal)\n",
      "\n",
      "\n",
      "--- AGR_OTRAS_N_AS ---\n"
     ]
    },
    {
     "data": {
      "image/png": "[encoded data removed]",
      "text/plain": [
       "<Figure size 600x400 with 1 Axes>"
      ]
     },
     "metadata": {},
     "output_type": "display_data"
    },
    {
     "name": "stdout",
     "output_type": "stream",
     "text": [
      "Kolmogorov-Smirnov Test for AGR_OTRAS_N_AS:\n",
      "Statistic: 0.3823545518306653, p-value: 0.0 (La distribución no es normal)\n",
      "\n",
      "\n"
     ]
    }
   ],
   "source": [
    "normality_plot_columns = [col for col in plot_columns if col in data.columns]\n",
    "\n",
    "# Realizar pruebas de normalidad y graficar QQ plots\n",
    "results = []\n",
    "for column in normality_plot_columns:\n",
    "    print(f\"--- {column} ---\")\n",
    "    # Filtrar solo datos numéricos\n",
    "    numeric_data = pd.to_numeric(data[column], errors='coerce').dropna()\n",
    "    \n",
    "    # QQ Plot\n",
    "    fig = plt.figure(figsize=(6, 4))\n",
    "    res = stats.probplot(numeric_data, plot=plt)\n",
    "    plt.title(f\"Q-Q plot for {column}\")\n",
    "    plt.show()\n",
    "\n",
    "    # Kolmogorov-Smirnov test for normality\n",
    "    normed_data = (numeric_data - numeric_data.mean()) / numeric_data.std()\n",
    "    ks_test = stats.kstest(normed_data, 'norm')\n",
    "    normality_text = \"La distribución es normal\" if ks_test.pvalue > 0.05 else \"La distribución no es normal\"\n",
    "    print(f\"Kolmogorov-Smirnov Test for {column}:\\nStatistic: {ks_test.statistic}, p-value: {ks_test.pvalue} ({normality_text})\\n\\n\")\n",
    "\n",
    "    results.append((column, ks_test.statistic, ks_test.pvalue, normality_text))\n"
   ]
  },
  {
   "cell_type": "markdown",
   "metadata": {},
   "source": [
    "### Tabla de Frecuencias de Variables Cualitativas"
   ]
  },
  {
   "cell_type": "markdown",
   "metadata": {},
   "source": [
    "<small> En este apartado, se muestran las tablas de frecuencia para diversas variables cualitativas dentro del _dataset_. Estas tablas muestran la cantidad de veces que cada valor único aparece en el conjunto de datos, proporcionando una visión clara de la distribución y prevalencia de las características observadas. Este análisis ayuda a identificar tendencias, valores atípicos y posibles inconsistencias en los datos."
   ]
  },
  {
   "cell_type": "code",
   "execution_count": 15,
   "metadata": {},
   "outputs": [
    {
     "name": "stdout",
     "output_type": "stream",
     "text": [
      "Tabla de frecuencias para la variable: HEC_DEPTOMCPIO\n"
     ]
    },
    {
     "data": {
      "application/vnd.microsoft.datawrangler.viewer.v0+json": {
       "columns": [
        {
         "name": "index",
         "rawType": "int64",
         "type": "integer"
        },
        {
         "name": "HEC_DEPTOMCPIO",
         "rawType": "int64",
         "type": "integer"
        },
        {
         "name": "count",
         "rawType": "int64",
         "type": "integer"
        }
       ],
       "conversionMethod": "pd.DataFrame",
       "ref": "d6800bf8-da4a-4b40-a29e-73a211203df8",
       "rows": [
        [
         "0",
         "101",
         "1789"
        ],
        [
         "1",
         "1601",
         "1100"
        ],
        [
         "2",
         "108",
         "1069"
        ],
        [
         "3",
         "115",
         "722"
        ],
        [
         "4",
         "1001",
         "697"
        ],
        [
         "5",
         "401",
         "652"
        ],
        [
         "6",
         "117",
         "543"
        ],
        [
         "7",
         "114",
         "513"
        ],
        [
         "8",
         "106",
         "500"
        ],
        [
         "9",
         "2101",
         "491"
        ],
        [
         "10",
         "1101",
         "479"
        ],
        [
         "11",
         "1215",
         "416"
        ],
        [
         "12",
         "602",
         "416"
        ],
        [
         "13",
         "2201",
         "409"
        ],
        [
         "14",
         "1609",
         "399"
        ],
        [
         "15",
         "1801",
         "365"
        ],
        [
         "16",
         "901",
         "357"
        ],
        [
         "17",
         "2102",
         "335"
        ],
        [
         "18",
         "1503",
         "318"
        ],
        [
         "19",
         "1106",
         "313"
        ],
        [
         "20",
         "1301",
         "301"
        ],
        [
         "21",
         "203",
         "293"
        ],
        [
         "22",
         "1504",
         "276"
        ],
        [
         "23",
         "601",
         "273"
        ],
        [
         "24",
         "312",
         "266"
        ],
        [
         "25",
         "1108",
         "262"
        ],
        [
         "26",
         "207",
         "259"
        ],
        [
         "27",
         "1501",
         "256"
        ],
        [
         "28",
         "2001",
         "256"
        ],
        [
         "29",
         "1109",
         "247"
        ]
       ],
       "shape": {
        "columns": 2,
        "rows": 30
       }
      },
      "text/html": [
       "<div>\n",
       "<style scoped>\n",
       "    .dataframe tbody tr th:only-of-type {\n",
       "        vertical-align: middle;\n",
       "    }\n",
       "\n",
       "    .dataframe tbody tr th {\n",
       "        vertical-align: top;\n",
       "    }\n",
       "\n",
       "    .dataframe thead th {\n",
       "        text-align: right;\n",
       "    }\n",
       "</style>\n",
       "<table border=\"1\" class=\"dataframe\">\n",
       "  <thead>\n",
       "    <tr style=\"text-align: right;\">\n",
       "      <th></th>\n",
       "      <th>HEC_DEPTOMCPIO</th>\n",
       "      <th>count</th>\n",
       "    </tr>\n",
       "  </thead>\n",
       "  <tbody>\n",
       "    <tr>\n",
       "      <th>0</th>\n",
       "      <td>101</td>\n",
       "      <td>1789</td>\n",
       "    </tr>\n",
       "    <tr>\n",
       "      <th>1</th>\n",
       "      <td>1601</td>\n",
       "      <td>1100</td>\n",
       "    </tr>\n",
       "    <tr>\n",
       "      <th>2</th>\n",
       "      <td>108</td>\n",
       "      <td>1069</td>\n",
       "    </tr>\n",
       "    <tr>\n",
       "      <th>3</th>\n",
       "      <td>115</td>\n",
       "      <td>722</td>\n",
       "    </tr>\n",
       "    <tr>\n",
       "      <th>4</th>\n",
       "      <td>1001</td>\n",
       "      <td>697</td>\n",
       "    </tr>\n",
       "    <tr>\n",
       "      <th>5</th>\n",
       "      <td>401</td>\n",
       "      <td>652</td>\n",
       "    </tr>\n",
       "    <tr>\n",
       "      <th>6</th>\n",
       "      <td>117</td>\n",
       "      <td>543</td>\n",
       "    </tr>\n",
       "    <tr>\n",
       "      <th>7</th>\n",
       "      <td>114</td>\n",
       "      <td>513</td>\n",
       "    </tr>\n",
       "    <tr>\n",
       "      <th>8</th>\n",
       "      <td>106</td>\n",
       "      <td>500</td>\n",
       "    </tr>\n",
       "    <tr>\n",
       "      <th>9</th>\n",
       "      <td>2101</td>\n",
       "      <td>491</td>\n",
       "    </tr>\n",
       "    <tr>\n",
       "      <th>10</th>\n",
       "      <td>1101</td>\n",
       "      <td>479</td>\n",
       "    </tr>\n",
       "    <tr>\n",
       "      <th>11</th>\n",
       "      <td>1215</td>\n",
       "      <td>416</td>\n",
       "    </tr>\n",
       "    <tr>\n",
       "      <th>12</th>\n",
       "      <td>602</td>\n",
       "      <td>416</td>\n",
       "    </tr>\n",
       "    <tr>\n",
       "      <th>13</th>\n",
       "      <td>2201</td>\n",
       "      <td>409</td>\n",
       "    </tr>\n",
       "    <tr>\n",
       "      <th>14</th>\n",
       "      <td>1609</td>\n",
       "      <td>399</td>\n",
       "    </tr>\n",
       "    <tr>\n",
       "      <th>15</th>\n",
       "      <td>1801</td>\n",
       "      <td>365</td>\n",
       "    </tr>\n",
       "    <tr>\n",
       "      <th>16</th>\n",
       "      <td>901</td>\n",
       "      <td>357</td>\n",
       "    </tr>\n",
       "    <tr>\n",
       "      <th>17</th>\n",
       "      <td>2102</td>\n",
       "      <td>335</td>\n",
       "    </tr>\n",
       "    <tr>\n",
       "      <th>18</th>\n",
       "      <td>1503</td>\n",
       "      <td>318</td>\n",
       "    </tr>\n",
       "    <tr>\n",
       "      <th>19</th>\n",
       "      <td>1106</td>\n",
       "      <td>313</td>\n",
       "    </tr>\n",
       "    <tr>\n",
       "      <th>20</th>\n",
       "      <td>1301</td>\n",
       "      <td>301</td>\n",
       "    </tr>\n",
       "    <tr>\n",
       "      <th>21</th>\n",
       "      <td>203</td>\n",
       "      <td>293</td>\n",
       "    </tr>\n",
       "    <tr>\n",
       "      <th>22</th>\n",
       "      <td>1504</td>\n",
       "      <td>276</td>\n",
       "    </tr>\n",
       "    <tr>\n",
       "      <th>23</th>\n",
       "      <td>601</td>\n",
       "      <td>273</td>\n",
       "    </tr>\n",
       "    <tr>\n",
       "      <th>24</th>\n",
       "      <td>312</td>\n",
       "      <td>266</td>\n",
       "    </tr>\n",
       "    <tr>\n",
       "      <th>25</th>\n",
       "      <td>1108</td>\n",
       "      <td>262</td>\n",
       "    </tr>\n",
       "    <tr>\n",
       "      <th>26</th>\n",
       "      <td>207</td>\n",
       "      <td>259</td>\n",
       "    </tr>\n",
       "    <tr>\n",
       "      <th>27</th>\n",
       "      <td>1501</td>\n",
       "      <td>256</td>\n",
       "    </tr>\n",
       "    <tr>\n",
       "      <th>28</th>\n",
       "      <td>2001</td>\n",
       "      <td>256</td>\n",
       "    </tr>\n",
       "    <tr>\n",
       "      <th>29</th>\n",
       "      <td>1109</td>\n",
       "      <td>247</td>\n",
       "    </tr>\n",
       "  </tbody>\n",
       "</table>\n",
       "</div>"
      ],
      "text/plain": [
       "    HEC_DEPTOMCPIO  count\n",
       "0              101   1789\n",
       "1             1601   1100\n",
       "2              108   1069\n",
       "3              115    722\n",
       "4             1001    697\n",
       "5              401    652\n",
       "6              117    543\n",
       "7              114    513\n",
       "8              106    500\n",
       "9             2101    491\n",
       "10            1101    479\n",
       "11            1215    416\n",
       "12             602    416\n",
       "13            2201    409\n",
       "14            1609    399\n",
       "15            1801    365\n",
       "16             901    357\n",
       "17            2102    335\n",
       "18            1503    318\n",
       "19            1106    313\n",
       "20            1301    301\n",
       "21             203    293\n",
       "22            1504    276\n",
       "23             601    273\n",
       "24             312    266\n",
       "25            1108    262\n",
       "26             207    259\n",
       "27            1501    256\n",
       "28            2001    256\n",
       "29            1109    247"
      ]
     },
     "metadata": {},
     "output_type": "display_data"
    },
    {
     "name": "stdout",
     "output_type": "stream",
     "text": [
      "\n",
      "\n",
      "Tabla de frecuencias para la variable: HEC_TIPAGRE\n"
     ]
    },
    {
     "data": {
      "application/vnd.microsoft.datawrangler.viewer.v0+json": {
       "columns": [
        {
         "name": "index",
         "rawType": "int64",
         "type": "integer"
        },
        {
         "name": "HEC_TIPAGRE",
         "rawType": "int64",
         "type": "integer"
        },
        {
         "name": "count",
         "rawType": "int64",
         "type": "integer"
        }
       ],
       "conversionMethod": "pd.DataFrame",
       "ref": "0616beed-25c3-4071-a1e0-74c916329ecc",
       "rows": [
        [
         "0",
         "1122",
         "13783"
        ],
        [
         "1",
         "2122",
         "10864"
        ],
        [
         "2",
         "1222",
         "3632"
        ],
        [
         "3",
         "1121",
         "2942"
        ],
        [
         "4",
         "2121",
         "1835"
        ],
        [
         "5",
         "1112",
         "383"
        ],
        [
         "6",
         "2221",
         "222"
        ],
        [
         "7",
         "1111",
         "213"
        ],
        [
         "8",
         "2112",
         "153"
        ],
        [
         "9",
         "2212",
         "131"
        ],
        [
         "10",
         "1221",
         "84"
        ],
        [
         "11",
         "1212",
         "53"
        ],
        [
         "12",
         "2111",
         "21"
        ],
        [
         "13",
         "2211",
         "11"
        ],
        [
         "14",
         "1211",
         "3"
        ]
       ],
       "shape": {
        "columns": 2,
        "rows": 15
       }
      },
      "text/html": [
       "<div>\n",
       "<style scoped>\n",
       "    .dataframe tbody tr th:only-of-type {\n",
       "        vertical-align: middle;\n",
       "    }\n",
       "\n",
       "    .dataframe tbody tr th {\n",
       "        vertical-align: top;\n",
       "    }\n",
       "\n",
       "    .dataframe thead th {\n",
       "        text-align: right;\n",
       "    }\n",
       "</style>\n",
       "<table border=\"1\" class=\"dataframe\">\n",
       "  <thead>\n",
       "    <tr style=\"text-align: right;\">\n",
       "      <th></th>\n",
       "      <th>HEC_TIPAGRE</th>\n",
       "      <th>count</th>\n",
       "    </tr>\n",
       "  </thead>\n",
       "  <tbody>\n",
       "    <tr>\n",
       "      <th>0</th>\n",
       "      <td>1122</td>\n",
       "      <td>13783</td>\n",
       "    </tr>\n",
       "    <tr>\n",
       "      <th>1</th>\n",
       "      <td>2122</td>\n",
       "      <td>10864</td>\n",
       "    </tr>\n",
       "    <tr>\n",
       "      <th>2</th>\n",
       "      <td>1222</td>\n",
       "      <td>3632</td>\n",
       "    </tr>\n",
       "    <tr>\n",
       "      <th>3</th>\n",
       "      <td>1121</td>\n",
       "      <td>2942</td>\n",
       "    </tr>\n",
       "    <tr>\n",
       "      <th>4</th>\n",
       "      <td>2121</td>\n",
       "      <td>1835</td>\n",
       "    </tr>\n",
       "    <tr>\n",
       "      <th>5</th>\n",
       "      <td>1112</td>\n",
       "      <td>383</td>\n",
       "    </tr>\n",
       "    <tr>\n",
       "      <th>6</th>\n",
       "      <td>2221</td>\n",
       "      <td>222</td>\n",
       "    </tr>\n",
       "    <tr>\n",
       "      <th>7</th>\n",
       "      <td>1111</td>\n",
       "      <td>213</td>\n",
       "    </tr>\n",
       "    <tr>\n",
       "      <th>8</th>\n",
       "      <td>2112</td>\n",
       "      <td>153</td>\n",
       "    </tr>\n",
       "    <tr>\n",
       "      <th>9</th>\n",
       "      <td>2212</td>\n",
       "      <td>131</td>\n",
       "    </tr>\n",
       "    <tr>\n",
       "      <th>10</th>\n",
       "      <td>1221</td>\n",
       "      <td>84</td>\n",
       "    </tr>\n",
       "    <tr>\n",
       "      <th>11</th>\n",
       "      <td>1212</td>\n",
       "      <td>53</td>\n",
       "    </tr>\n",
       "    <tr>\n",
       "      <th>12</th>\n",
       "      <td>2111</td>\n",
       "      <td>21</td>\n",
       "    </tr>\n",
       "    <tr>\n",
       "      <th>13</th>\n",
       "      <td>2211</td>\n",
       "      <td>11</td>\n",
       "    </tr>\n",
       "    <tr>\n",
       "      <th>14</th>\n",
       "      <td>1211</td>\n",
       "      <td>3</td>\n",
       "    </tr>\n",
       "  </tbody>\n",
       "</table>\n",
       "</div>"
      ],
      "text/plain": [
       "    HEC_TIPAGRE  count\n",
       "0          1122  13783\n",
       "1          2122  10864\n",
       "2          1222   3632\n",
       "3          1121   2942\n",
       "4          2121   1835\n",
       "5          1112    383\n",
       "6          2221    222\n",
       "7          1111    213\n",
       "8          2112    153\n",
       "9          2212    131\n",
       "10         1221     84\n",
       "11         1212     53\n",
       "12         2111     21\n",
       "13         2211     11\n",
       "14         1211      3"
      ]
     },
     "metadata": {},
     "output_type": "display_data"
    },
    {
     "name": "stdout",
     "output_type": "stream",
     "text": [
      "\n",
      "\n",
      "Tabla de frecuencias para la variable: DEPTO_MCPIO\n"
     ]
    },
    {
     "data": {
      "application/vnd.microsoft.datawrangler.viewer.v0+json": {
       "columns": [
        {
         "name": "index",
         "rawType": "int64",
         "type": "integer"
        },
        {
         "name": "DEPTO_MCPIO",
         "rawType": "int64",
         "type": "integer"
        },
        {
         "name": "count",
         "rawType": "int64",
         "type": "integer"
        }
       ],
       "conversionMethod": "pd.DataFrame",
       "ref": "cdb9013c-bfc5-465c-b107-fa727e34fec1",
       "rows": [
        [
         "0",
         "101",
         "2075"
        ],
        [
         "1",
         "1601",
         "1189"
        ],
        [
         "2",
         "108",
         "1014"
        ],
        [
         "3",
         "1001",
         "762"
        ],
        [
         "4",
         "115",
         "712"
        ],
        [
         "5",
         "401",
         "704"
        ],
        [
         "6",
         "1101",
         "642"
        ],
        [
         "7",
         "2101",
         "531"
        ],
        [
         "8",
         "114",
         "514"
        ],
        [
         "9",
         "117",
         "493"
        ],
        [
         "10",
         "106",
         "485"
        ],
        [
         "11",
         "2201",
         "446"
        ],
        [
         "12",
         "1215",
         "444"
        ],
        [
         "13",
         "1801",
         "398"
        ],
        [
         "14",
         "602",
         "395"
        ],
        [
         "15",
         "901",
         "386"
        ],
        [
         "16",
         "1609",
         "367"
        ],
        [
         "17",
         "601",
         "364"
        ],
        [
         "18",
         "1301",
         "353"
        ],
        [
         "19",
         "2102",
         "321"
        ],
        [
         "20",
         "1503",
         "312"
        ],
        [
         "21",
         "1201",
         "307"
        ],
        [
         "22",
         "1106",
         "307"
        ],
        [
         "23",
         "1504",
         "280"
        ],
        [
         "24",
         "201",
         "276"
        ],
        [
         "25",
         "2001",
         "272"
        ],
        [
         "26",
         "1501",
         "268"
        ],
        [
         "27",
         "203",
         "262"
        ],
        [
         "28",
         "312",
         "261"
        ],
        [
         "29",
         "801",
         "251"
        ]
       ],
       "shape": {
        "columns": 2,
        "rows": 30
       }
      },
      "text/html": [
       "<div>\n",
       "<style scoped>\n",
       "    .dataframe tbody tr th:only-of-type {\n",
       "        vertical-align: middle;\n",
       "    }\n",
       "\n",
       "    .dataframe tbody tr th {\n",
       "        vertical-align: top;\n",
       "    }\n",
       "\n",
       "    .dataframe thead th {\n",
       "        text-align: right;\n",
       "    }\n",
       "</style>\n",
       "<table border=\"1\" class=\"dataframe\">\n",
       "  <thead>\n",
       "    <tr style=\"text-align: right;\">\n",
       "      <th></th>\n",
       "      <th>DEPTO_MCPIO</th>\n",
       "      <th>count</th>\n",
       "    </tr>\n",
       "  </thead>\n",
       "  <tbody>\n",
       "    <tr>\n",
       "      <th>0</th>\n",
       "      <td>101</td>\n",
       "      <td>2075</td>\n",
       "    </tr>\n",
       "    <tr>\n",
       "      <th>1</th>\n",
       "      <td>1601</td>\n",
       "      <td>1189</td>\n",
       "    </tr>\n",
       "    <tr>\n",
       "      <th>2</th>\n",
       "      <td>108</td>\n",
       "      <td>1014</td>\n",
       "    </tr>\n",
       "    <tr>\n",
       "      <th>3</th>\n",
       "      <td>1001</td>\n",
       "      <td>762</td>\n",
       "    </tr>\n",
       "    <tr>\n",
       "      <th>4</th>\n",
       "      <td>115</td>\n",
       "      <td>712</td>\n",
       "    </tr>\n",
       "    <tr>\n",
       "      <th>5</th>\n",
       "      <td>401</td>\n",
       "      <td>704</td>\n",
       "    </tr>\n",
       "    <tr>\n",
       "      <th>6</th>\n",
       "      <td>1101</td>\n",
       "      <td>642</td>\n",
       "    </tr>\n",
       "    <tr>\n",
       "      <th>7</th>\n",
       "      <td>2101</td>\n",
       "      <td>531</td>\n",
       "    </tr>\n",
       "    <tr>\n",
       "      <th>8</th>\n",
       "      <td>114</td>\n",
       "      <td>514</td>\n",
       "    </tr>\n",
       "    <tr>\n",
       "      <th>9</th>\n",
       "      <td>117</td>\n",
       "      <td>493</td>\n",
       "    </tr>\n",
       "    <tr>\n",
       "      <th>10</th>\n",
       "      <td>106</td>\n",
       "      <td>485</td>\n",
       "    </tr>\n",
       "    <tr>\n",
       "      <th>11</th>\n",
       "      <td>2201</td>\n",
       "      <td>446</td>\n",
       "    </tr>\n",
       "    <tr>\n",
       "      <th>12</th>\n",
       "      <td>1215</td>\n",
       "      <td>444</td>\n",
       "    </tr>\n",
       "    <tr>\n",
       "      <th>13</th>\n",
       "      <td>1801</td>\n",
       "      <td>398</td>\n",
       "    </tr>\n",
       "    <tr>\n",
       "      <th>14</th>\n",
       "      <td>602</td>\n",
       "      <td>395</td>\n",
       "    </tr>\n",
       "    <tr>\n",
       "      <th>15</th>\n",
       "      <td>901</td>\n",
       "      <td>386</td>\n",
       "    </tr>\n",
       "    <tr>\n",
       "      <th>16</th>\n",
       "      <td>1609</td>\n",
       "      <td>367</td>\n",
       "    </tr>\n",
       "    <tr>\n",
       "      <th>17</th>\n",
       "      <td>601</td>\n",
       "      <td>364</td>\n",
       "    </tr>\n",
       "    <tr>\n",
       "      <th>18</th>\n",
       "      <td>1301</td>\n",
       "      <td>353</td>\n",
       "    </tr>\n",
       "    <tr>\n",
       "      <th>19</th>\n",
       "      <td>2102</td>\n",
       "      <td>321</td>\n",
       "    </tr>\n",
       "    <tr>\n",
       "      <th>20</th>\n",
       "      <td>1503</td>\n",
       "      <td>312</td>\n",
       "    </tr>\n",
       "    <tr>\n",
       "      <th>21</th>\n",
       "      <td>1201</td>\n",
       "      <td>307</td>\n",
       "    </tr>\n",
       "    <tr>\n",
       "      <th>22</th>\n",
       "      <td>1106</td>\n",
       "      <td>307</td>\n",
       "    </tr>\n",
       "    <tr>\n",
       "      <th>23</th>\n",
       "      <td>1504</td>\n",
       "      <td>280</td>\n",
       "    </tr>\n",
       "    <tr>\n",
       "      <th>24</th>\n",
       "      <td>201</td>\n",
       "      <td>276</td>\n",
       "    </tr>\n",
       "    <tr>\n",
       "      <th>25</th>\n",
       "      <td>2001</td>\n",
       "      <td>272</td>\n",
       "    </tr>\n",
       "    <tr>\n",
       "      <th>26</th>\n",
       "      <td>1501</td>\n",
       "      <td>268</td>\n",
       "    </tr>\n",
       "    <tr>\n",
       "      <th>27</th>\n",
       "      <td>203</td>\n",
       "      <td>262</td>\n",
       "    </tr>\n",
       "    <tr>\n",
       "      <th>28</th>\n",
       "      <td>312</td>\n",
       "      <td>261</td>\n",
       "    </tr>\n",
       "    <tr>\n",
       "      <th>29</th>\n",
       "      <td>801</td>\n",
       "      <td>251</td>\n",
       "    </tr>\n",
       "  </tbody>\n",
       "</table>\n",
       "</div>"
      ],
      "text/plain": [
       "    DEPTO_MCPIO  count\n",
       "0           101   2075\n",
       "1          1601   1189\n",
       "2           108   1014\n",
       "3          1001    762\n",
       "4           115    712\n",
       "5           401    704\n",
       "6          1101    642\n",
       "7          2101    531\n",
       "8           114    514\n",
       "9           117    493\n",
       "10          106    485\n",
       "11         2201    446\n",
       "12         1215    444\n",
       "13         1801    398\n",
       "14          602    395\n",
       "15          901    386\n",
       "16         1609    367\n",
       "17          601    364\n",
       "18         1301    353\n",
       "19         2102    321\n",
       "20         1503    312\n",
       "21         1201    307\n",
       "22         1106    307\n",
       "23         1504    280\n",
       "24          201    276\n",
       "25         2001    272\n",
       "26         1501    268\n",
       "27          203    262\n",
       "28          312    261\n",
       "29          801    251"
      ]
     },
     "metadata": {},
     "output_type": "display_data"
    },
    {
     "name": "stdout",
     "output_type": "stream",
     "text": [
      "\n",
      "\n",
      "Tabla de frecuencias para la variable: QUIEN_REPORTA\n"
     ]
    },
    {
     "data": {
      "application/vnd.microsoft.datawrangler.viewer.v0+json": {
       "columns": [
        {
         "name": "index",
         "rawType": "int64",
         "type": "integer"
        },
        {
         "name": "QUIEN_REPORTA",
         "rawType": "int64",
         "type": "integer"
        },
        {
         "name": "count",
         "rawType": "int64",
         "type": "integer"
        }
       ],
       "conversionMethod": "pd.DataFrame",
       "ref": "ab6d3bb4-af9a-419f-8b1a-fe713c1bc475",
       "rows": [
        [
         "0",
         "1",
         "33064"
        ],
        [
         "1",
         "2",
         "659"
        ],
        [
         "2",
         "9",
         "389"
        ],
        [
         "3",
         "3",
         "218"
        ]
       ],
       "shape": {
        "columns": 2,
        "rows": 4
       }
      },
      "text/html": [
       "<div>\n",
       "<style scoped>\n",
       "    .dataframe tbody tr th:only-of-type {\n",
       "        vertical-align: middle;\n",
       "    }\n",
       "\n",
       "    .dataframe tbody tr th {\n",
       "        vertical-align: top;\n",
       "    }\n",
       "\n",
       "    .dataframe thead th {\n",
       "        text-align: right;\n",
       "    }\n",
       "</style>\n",
       "<table border=\"1\" class=\"dataframe\">\n",
       "  <thead>\n",
       "    <tr style=\"text-align: right;\">\n",
       "      <th></th>\n",
       "      <th>QUIEN_REPORTA</th>\n",
       "      <th>count</th>\n",
       "    </tr>\n",
       "  </thead>\n",
       "  <tbody>\n",
       "    <tr>\n",
       "      <th>0</th>\n",
       "      <td>1</td>\n",
       "      <td>33064</td>\n",
       "    </tr>\n",
       "    <tr>\n",
       "      <th>1</th>\n",
       "      <td>2</td>\n",
       "      <td>659</td>\n",
       "    </tr>\n",
       "    <tr>\n",
       "      <th>2</th>\n",
       "      <td>9</td>\n",
       "      <td>389</td>\n",
       "    </tr>\n",
       "    <tr>\n",
       "      <th>3</th>\n",
       "      <td>3</td>\n",
       "      <td>218</td>\n",
       "    </tr>\n",
       "  </tbody>\n",
       "</table>\n",
       "</div>"
      ],
      "text/plain": [
       "   QUIEN_REPORTA  count\n",
       "0              1  33064\n",
       "1              2    659\n",
       "2              9    389\n",
       "3              3    218"
      ]
     },
     "metadata": {},
     "output_type": "display_data"
    },
    {
     "name": "stdout",
     "output_type": "stream",
     "text": [
      "\n",
      "\n",
      "Tabla de frecuencias para la variable: VIC_SEXO\n"
     ]
    },
    {
     "data": {
      "application/vnd.microsoft.datawrangler.viewer.v0+json": {
       "columns": [
        {
         "name": "index",
         "rawType": "int64",
         "type": "integer"
        },
        {
         "name": "VIC_SEXO",
         "rawType": "int64",
         "type": "integer"
        },
        {
         "name": "count",
         "rawType": "int64",
         "type": "integer"
        }
       ],
       "conversionMethod": "pd.DataFrame",
       "ref": "75eb99f5-e5a8-4a8f-b61e-2d21c89ccbbb",
       "rows": [
        [
         "0",
         "2",
         "31097"
        ],
        [
         "1",
         "1",
         "3233"
        ]
       ],
       "shape": {
        "columns": 2,
        "rows": 2
       }
      },
      "text/html": [
       "<div>\n",
       "<style scoped>\n",
       "    .dataframe tbody tr th:only-of-type {\n",
       "        vertical-align: middle;\n",
       "    }\n",
       "\n",
       "    .dataframe tbody tr th {\n",
       "        vertical-align: top;\n",
       "    }\n",
       "\n",
       "    .dataframe thead th {\n",
       "        text-align: right;\n",
       "    }\n",
       "</style>\n",
       "<table border=\"1\" class=\"dataframe\">\n",
       "  <thead>\n",
       "    <tr style=\"text-align: right;\">\n",
       "      <th></th>\n",
       "      <th>VIC_SEXO</th>\n",
       "      <th>count</th>\n",
       "    </tr>\n",
       "  </thead>\n",
       "  <tbody>\n",
       "    <tr>\n",
       "      <th>0</th>\n",
       "      <td>2</td>\n",
       "      <td>31097</td>\n",
       "    </tr>\n",
       "    <tr>\n",
       "      <th>1</th>\n",
       "      <td>1</td>\n",
       "      <td>3233</td>\n",
       "    </tr>\n",
       "  </tbody>\n",
       "</table>\n",
       "</div>"
      ],
      "text/plain": [
       "   VIC_SEXO  count\n",
       "0         2  31097\n",
       "1         1   3233"
      ]
     },
     "metadata": {},
     "output_type": "display_data"
    },
    {
     "name": "stdout",
     "output_type": "stream",
     "text": [
      "\n",
      "\n",
      "Tabla de frecuencias para la variable: VIC_ALFAB\n"
     ]
    },
    {
     "data": {
      "application/vnd.microsoft.datawrangler.viewer.v0+json": {
       "columns": [
        {
         "name": "index",
         "rawType": "int64",
         "type": "integer"
        },
        {
         "name": "VIC_ALFAB",
         "rawType": "object",
         "type": "unknown"
        },
        {
         "name": "count",
         "rawType": "int64",
         "type": "integer"
        }
       ],
       "conversionMethod": "pd.DataFrame",
       "ref": "b12aca57-6cf3-4eb3-b887-e0ebc96fbc05",
       "rows": [
        [
         "0",
         "1",
         "14036"
        ],
        [
         "1",
         "1",
         "13254"
        ],
        [
         "2",
         "2",
         "4584"
        ],
        [
         "3",
         "2",
         "2170"
        ],
        [
         "4",
         "9",
         "108"
        ],
        [
         "5",
         "9",
         "93"
        ],
        [
         "6",
         " ",
         "85"
        ]
       ],
       "shape": {
        "columns": 2,
        "rows": 7
       }
      },
      "text/html": [
       "<div>\n",
       "<style scoped>\n",
       "    .dataframe tbody tr th:only-of-type {\n",
       "        vertical-align: middle;\n",
       "    }\n",
       "\n",
       "    .dataframe tbody tr th {\n",
       "        vertical-align: top;\n",
       "    }\n",
       "\n",
       "    .dataframe thead th {\n",
       "        text-align: right;\n",
       "    }\n",
       "</style>\n",
       "<table border=\"1\" class=\"dataframe\">\n",
       "  <thead>\n",
       "    <tr style=\"text-align: right;\">\n",
       "      <th></th>\n",
       "      <th>VIC_ALFAB</th>\n",
       "      <th>count</th>\n",
       "    </tr>\n",
       "  </thead>\n",
       "  <tbody>\n",
       "    <tr>\n",
       "      <th>0</th>\n",
       "      <td>1</td>\n",
       "      <td>14036</td>\n",
       "    </tr>\n",
       "    <tr>\n",
       "      <th>1</th>\n",
       "      <td>1</td>\n",
       "      <td>13254</td>\n",
       "    </tr>\n",
       "    <tr>\n",
       "      <th>2</th>\n",
       "      <td>2</td>\n",
       "      <td>4584</td>\n",
       "    </tr>\n",
       "    <tr>\n",
       "      <th>3</th>\n",
       "      <td>2</td>\n",
       "      <td>2170</td>\n",
       "    </tr>\n",
       "    <tr>\n",
       "      <th>4</th>\n",
       "      <td>9</td>\n",
       "      <td>108</td>\n",
       "    </tr>\n",
       "    <tr>\n",
       "      <th>5</th>\n",
       "      <td>9</td>\n",
       "      <td>93</td>\n",
       "    </tr>\n",
       "    <tr>\n",
       "      <th>6</th>\n",
       "      <td></td>\n",
       "      <td>85</td>\n",
       "    </tr>\n",
       "  </tbody>\n",
       "</table>\n",
       "</div>"
      ],
      "text/plain": [
       "  VIC_ALFAB  count\n",
       "0         1  14036\n",
       "1         1  13254\n",
       "2         2   4584\n",
       "3         2   2170\n",
       "4         9    108\n",
       "5         9     93\n",
       "6               85"
      ]
     },
     "metadata": {},
     "output_type": "display_data"
    },
    {
     "name": "stdout",
     "output_type": "stream",
     "text": [
      "\n",
      "\n",
      "Tabla de frecuencias para la variable: VIC_ESCOLARIDAD\n"
     ]
    },
    {
     "data": {
      "application/vnd.microsoft.datawrangler.viewer.v0+json": {
       "columns": [
        {
         "name": "index",
         "rawType": "int64",
         "type": "integer"
        },
        {
         "name": "VIC_ESCOLARIDAD",
         "rawType": "object",
         "type": "unknown"
        },
        {
         "name": "count",
         "rawType": "int64",
         "type": "integer"
        }
       ],
       "conversionMethod": "pd.DataFrame",
       "ref": "6c9aea8c-f53b-4404-9440-c1885cb25090",
       "rows": [
        [
         "0",
         "10",
         "5089"
        ],
        [
         "1",
         "26",
         "2606"
        ],
        [
         "2",
         "10",
         "2423"
        ],
        [
         "3",
         "26",
         "2353"
        ],
        [
         "4",
         "29",
         "2161"
        ],
        [
         "5",
         "29",
         "1962"
        ],
        [
         "6",
         "33",
         "1424"
        ],
        [
         "7",
         "49",
         "1242"
        ],
        [
         "8",
         "49",
         "1204"
        ],
        [
         "9",
         "46",
         "1140"
        ],
        [
         "10",
         "46",
         "1065"
        ],
        [
         "11",
         "23",
         "948"
        ],
        [
         "12",
         "33",
         "909"
        ],
        [
         "13",
         "39",
         "901"
        ],
        [
         "14",
         "23",
         "796"
        ],
        [
         "15",
         "22",
         "654"
        ],
        [
         "16",
         "39",
         "625"
        ],
        [
         "17",
         "32",
         "477"
        ],
        [
         "18",
         "24",
         "463"
        ],
        [
         "19",
         "24",
         "459"
        ],
        [
         "20",
         "25",
         "458"
        ],
        [
         "21",
         "45",
         "444"
        ],
        [
         "22",
         "99",
         "435"
        ],
        [
         "23",
         "22",
         "433"
        ],
        [
         "24",
         "99",
         "422"
        ],
        [
         "25",
         "59",
         "345"
        ],
        [
         "26",
         "45",
         "344"
        ],
        [
         "27",
         "25",
         "343"
        ],
        [
         "28",
         "31",
         "340"
        ],
        [
         "29",
         "21",
         "284"
        ]
       ],
       "shape": {
        "columns": 2,
        "rows": 30
       }
      },
      "text/html": [
       "<div>\n",
       "<style scoped>\n",
       "    .dataframe tbody tr th:only-of-type {\n",
       "        vertical-align: middle;\n",
       "    }\n",
       "\n",
       "    .dataframe tbody tr th {\n",
       "        vertical-align: top;\n",
       "    }\n",
       "\n",
       "    .dataframe thead th {\n",
       "        text-align: right;\n",
       "    }\n",
       "</style>\n",
       "<table border=\"1\" class=\"dataframe\">\n",
       "  <thead>\n",
       "    <tr style=\"text-align: right;\">\n",
       "      <th></th>\n",
       "      <th>VIC_ESCOLARIDAD</th>\n",
       "      <th>count</th>\n",
       "    </tr>\n",
       "  </thead>\n",
       "  <tbody>\n",
       "    <tr>\n",
       "      <th>0</th>\n",
       "      <td>10</td>\n",
       "      <td>5089</td>\n",
       "    </tr>\n",
       "    <tr>\n",
       "      <th>1</th>\n",
       "      <td>26</td>\n",
       "      <td>2606</td>\n",
       "    </tr>\n",
       "    <tr>\n",
       "      <th>2</th>\n",
       "      <td>10</td>\n",
       "      <td>2423</td>\n",
       "    </tr>\n",
       "    <tr>\n",
       "      <th>3</th>\n",
       "      <td>26</td>\n",
       "      <td>2353</td>\n",
       "    </tr>\n",
       "    <tr>\n",
       "      <th>4</th>\n",
       "      <td>29</td>\n",
       "      <td>2161</td>\n",
       "    </tr>\n",
       "    <tr>\n",
       "      <th>5</th>\n",
       "      <td>29</td>\n",
       "      <td>1962</td>\n",
       "    </tr>\n",
       "    <tr>\n",
       "      <th>6</th>\n",
       "      <td>33</td>\n",
       "      <td>1424</td>\n",
       "    </tr>\n",
       "    <tr>\n",
       "      <th>7</th>\n",
       "      <td>49</td>\n",
       "      <td>1242</td>\n",
       "    </tr>\n",
       "    <tr>\n",
       "      <th>8</th>\n",
       "      <td>49</td>\n",
       "      <td>1204</td>\n",
       "    </tr>\n",
       "    <tr>\n",
       "      <th>9</th>\n",
       "      <td>46</td>\n",
       "      <td>1140</td>\n",
       "    </tr>\n",
       "    <tr>\n",
       "      <th>10</th>\n",
       "      <td>46</td>\n",
       "      <td>1065</td>\n",
       "    </tr>\n",
       "    <tr>\n",
       "      <th>11</th>\n",
       "      <td>23</td>\n",
       "      <td>948</td>\n",
       "    </tr>\n",
       "    <tr>\n",
       "      <th>12</th>\n",
       "      <td>33</td>\n",
       "      <td>909</td>\n",
       "    </tr>\n",
       "    <tr>\n",
       "      <th>13</th>\n",
       "      <td>39</td>\n",
       "      <td>901</td>\n",
       "    </tr>\n",
       "    <tr>\n",
       "      <th>14</th>\n",
       "      <td>23</td>\n",
       "      <td>796</td>\n",
       "    </tr>\n",
       "    <tr>\n",
       "      <th>15</th>\n",
       "      <td>22</td>\n",
       "      <td>654</td>\n",
       "    </tr>\n",
       "    <tr>\n",
       "      <th>16</th>\n",
       "      <td>39</td>\n",
       "      <td>625</td>\n",
       "    </tr>\n",
       "    <tr>\n",
       "      <th>17</th>\n",
       "      <td>32</td>\n",
       "      <td>477</td>\n",
       "    </tr>\n",
       "    <tr>\n",
       "      <th>18</th>\n",
       "      <td>24</td>\n",
       "      <td>463</td>\n",
       "    </tr>\n",
       "    <tr>\n",
       "      <th>19</th>\n",
       "      <td>24</td>\n",
       "      <td>459</td>\n",
       "    </tr>\n",
       "    <tr>\n",
       "      <th>20</th>\n",
       "      <td>25</td>\n",
       "      <td>458</td>\n",
       "    </tr>\n",
       "    <tr>\n",
       "      <th>21</th>\n",
       "      <td>45</td>\n",
       "      <td>444</td>\n",
       "    </tr>\n",
       "    <tr>\n",
       "      <th>22</th>\n",
       "      <td>99</td>\n",
       "      <td>435</td>\n",
       "    </tr>\n",
       "    <tr>\n",
       "      <th>23</th>\n",
       "      <td>22</td>\n",
       "      <td>433</td>\n",
       "    </tr>\n",
       "    <tr>\n",
       "      <th>24</th>\n",
       "      <td>99</td>\n",
       "      <td>422</td>\n",
       "    </tr>\n",
       "    <tr>\n",
       "      <th>25</th>\n",
       "      <td>59</td>\n",
       "      <td>345</td>\n",
       "    </tr>\n",
       "    <tr>\n",
       "      <th>26</th>\n",
       "      <td>45</td>\n",
       "      <td>344</td>\n",
       "    </tr>\n",
       "    <tr>\n",
       "      <th>27</th>\n",
       "      <td>25</td>\n",
       "      <td>343</td>\n",
       "    </tr>\n",
       "    <tr>\n",
       "      <th>28</th>\n",
       "      <td>31</td>\n",
       "      <td>340</td>\n",
       "    </tr>\n",
       "    <tr>\n",
       "      <th>29</th>\n",
       "      <td>21</td>\n",
       "      <td>284</td>\n",
       "    </tr>\n",
       "  </tbody>\n",
       "</table>\n",
       "</div>"
      ],
      "text/plain": [
       "   VIC_ESCOLARIDAD  count\n",
       "0               10   5089\n",
       "1               26   2606\n",
       "2               10   2423\n",
       "3               26   2353\n",
       "4               29   2161\n",
       "5               29   1962\n",
       "6               33   1424\n",
       "7               49   1242\n",
       "8               49   1204\n",
       "9               46   1140\n",
       "10              46   1065\n",
       "11              23    948\n",
       "12              33    909\n",
       "13              39    901\n",
       "14              23    796\n",
       "15              22    654\n",
       "16              39    625\n",
       "17              32    477\n",
       "18              24    463\n",
       "19              24    459\n",
       "20              25    458\n",
       "21              45    444\n",
       "22              99    435\n",
       "23              22    433\n",
       "24              99    422\n",
       "25              59    345\n",
       "26              45    344\n",
       "27              25    343\n",
       "28              31    340\n",
       "29              21    284"
      ]
     },
     "metadata": {},
     "output_type": "display_data"
    },
    {
     "name": "stdout",
     "output_type": "stream",
     "text": [
      "\n",
      "\n",
      "Tabla de frecuencias para la variable: VIC_EST_CIV\n"
     ]
    },
    {
     "data": {
      "application/vnd.microsoft.datawrangler.viewer.v0+json": {
       "columns": [
        {
         "name": "index",
         "rawType": "int64",
         "type": "integer"
        },
        {
         "name": "VIC_EST_CIV",
         "rawType": "object",
         "type": "unknown"
        },
        {
         "name": "count",
         "rawType": "int64",
         "type": "integer"
        }
       ],
       "conversionMethod": "pd.DataFrame",
       "ref": "a3acbecb-20da-4ba0-8690-fd7ee0a82302",
       "rows": [
        [
         "0",
         "2",
         "9470"
        ],
        [
         "1",
         "2",
         "5764"
        ],
        [
         "2",
         "9",
         "4651"
        ],
        [
         "3",
         "3",
         "4155"
        ],
        [
         "4",
         "9",
         "3313"
        ],
        [
         "5",
         "3",
         "3123"
        ],
        [
         "6",
         "1",
         "1701"
        ],
        [
         "7",
         "1",
         "1450"
        ],
        [
         "8",
         "4",
         "206"
        ],
        [
         "9",
         " ",
         "198"
        ],
        [
         "10",
         "5",
         "154"
        ],
        [
         "11",
         "5",
         "133"
        ],
        [
         "12",
         "4",
         "12"
        ]
       ],
       "shape": {
        "columns": 2,
        "rows": 13
       }
      },
      "text/html": [
       "<div>\n",
       "<style scoped>\n",
       "    .dataframe tbody tr th:only-of-type {\n",
       "        vertical-align: middle;\n",
       "    }\n",
       "\n",
       "    .dataframe tbody tr th {\n",
       "        vertical-align: top;\n",
       "    }\n",
       "\n",
       "    .dataframe thead th {\n",
       "        text-align: right;\n",
       "    }\n",
       "</style>\n",
       "<table border=\"1\" class=\"dataframe\">\n",
       "  <thead>\n",
       "    <tr style=\"text-align: right;\">\n",
       "      <th></th>\n",
       "      <th>VIC_EST_CIV</th>\n",
       "      <th>count</th>\n",
       "    </tr>\n",
       "  </thead>\n",
       "  <tbody>\n",
       "    <tr>\n",
       "      <th>0</th>\n",
       "      <td>2</td>\n",
       "      <td>9470</td>\n",
       "    </tr>\n",
       "    <tr>\n",
       "      <th>1</th>\n",
       "      <td>2</td>\n",
       "      <td>5764</td>\n",
       "    </tr>\n",
       "    <tr>\n",
       "      <th>2</th>\n",
       "      <td>9</td>\n",
       "      <td>4651</td>\n",
       "    </tr>\n",
       "    <tr>\n",
       "      <th>3</th>\n",
       "      <td>3</td>\n",
       "      <td>4155</td>\n",
       "    </tr>\n",
       "    <tr>\n",
       "      <th>4</th>\n",
       "      <td>9</td>\n",
       "      <td>3313</td>\n",
       "    </tr>\n",
       "    <tr>\n",
       "      <th>5</th>\n",
       "      <td>3</td>\n",
       "      <td>3123</td>\n",
       "    </tr>\n",
       "    <tr>\n",
       "      <th>6</th>\n",
       "      <td>1</td>\n",
       "      <td>1701</td>\n",
       "    </tr>\n",
       "    <tr>\n",
       "      <th>7</th>\n",
       "      <td>1</td>\n",
       "      <td>1450</td>\n",
       "    </tr>\n",
       "    <tr>\n",
       "      <th>8</th>\n",
       "      <td>4</td>\n",
       "      <td>206</td>\n",
       "    </tr>\n",
       "    <tr>\n",
       "      <th>9</th>\n",
       "      <td></td>\n",
       "      <td>198</td>\n",
       "    </tr>\n",
       "    <tr>\n",
       "      <th>10</th>\n",
       "      <td>5</td>\n",
       "      <td>154</td>\n",
       "    </tr>\n",
       "    <tr>\n",
       "      <th>11</th>\n",
       "      <td>5</td>\n",
       "      <td>133</td>\n",
       "    </tr>\n",
       "    <tr>\n",
       "      <th>12</th>\n",
       "      <td>4</td>\n",
       "      <td>12</td>\n",
       "    </tr>\n",
       "  </tbody>\n",
       "</table>\n",
       "</div>"
      ],
      "text/plain": [
       "   VIC_EST_CIV  count\n",
       "0            2   9470\n",
       "1            2   5764\n",
       "2            9   4651\n",
       "3            3   4155\n",
       "4            9   3313\n",
       "5            3   3123\n",
       "6            1   1701\n",
       "7            1   1450\n",
       "8            4    206\n",
       "9                 198\n",
       "10           5    154\n",
       "11           5    133\n",
       "12           4     12"
      ]
     },
     "metadata": {},
     "output_type": "display_data"
    },
    {
     "name": "stdout",
     "output_type": "stream",
     "text": [
      "\n",
      "\n",
      "Tabla de frecuencias para la variable: VIC_GRUPET\n"
     ]
    },
    {
     "data": {
      "application/vnd.microsoft.datawrangler.viewer.v0+json": {
       "columns": [
        {
         "name": "index",
         "rawType": "int64",
         "type": "integer"
        },
        {
         "name": "VIC_GRUPET",
         "rawType": "int64",
         "type": "integer"
        },
        {
         "name": "count",
         "rawType": "int64",
         "type": "integer"
        }
       ],
       "conversionMethod": "pd.DataFrame",
       "ref": "431ac382-d837-49a6-82b7-e9ac28604d37",
       "rows": [
        [
         "0",
         "1",
         "19654"
        ],
        [
         "1",
         "2",
         "10823"
        ],
        [
         "2",
         "6",
         "3121"
        ],
        [
         "3",
         "9",
         "324"
        ],
        [
         "4",
         "5",
         "271"
        ],
        [
         "5",
         "4",
         "92"
        ],
        [
         "6",
         "3",
         "45"
        ]
       ],
       "shape": {
        "columns": 2,
        "rows": 7
       }
      },
      "text/html": [
       "<div>\n",
       "<style scoped>\n",
       "    .dataframe tbody tr th:only-of-type {\n",
       "        vertical-align: middle;\n",
       "    }\n",
       "\n",
       "    .dataframe tbody tr th {\n",
       "        vertical-align: top;\n",
       "    }\n",
       "\n",
       "    .dataframe thead th {\n",
       "        text-align: right;\n",
       "    }\n",
       "</style>\n",
       "<table border=\"1\" class=\"dataframe\">\n",
       "  <thead>\n",
       "    <tr style=\"text-align: right;\">\n",
       "      <th></th>\n",
       "      <th>VIC_GRUPET</th>\n",
       "      <th>count</th>\n",
       "    </tr>\n",
       "  </thead>\n",
       "  <tbody>\n",
       "    <tr>\n",
       "      <th>0</th>\n",
       "      <td>1</td>\n",
       "      <td>19654</td>\n",
       "    </tr>\n",
       "    <tr>\n",
       "      <th>1</th>\n",
       "      <td>2</td>\n",
       "      <td>10823</td>\n",
       "    </tr>\n",
       "    <tr>\n",
       "      <th>2</th>\n",
       "      <td>6</td>\n",
       "      <td>3121</td>\n",
       "    </tr>\n",
       "    <tr>\n",
       "      <th>3</th>\n",
       "      <td>9</td>\n",
       "      <td>324</td>\n",
       "    </tr>\n",
       "    <tr>\n",
       "      <th>4</th>\n",
       "      <td>5</td>\n",
       "      <td>271</td>\n",
       "    </tr>\n",
       "    <tr>\n",
       "      <th>5</th>\n",
       "      <td>4</td>\n",
       "      <td>92</td>\n",
       "    </tr>\n",
       "    <tr>\n",
       "      <th>6</th>\n",
       "      <td>3</td>\n",
       "      <td>45</td>\n",
       "    </tr>\n",
       "  </tbody>\n",
       "</table>\n",
       "</div>"
      ],
      "text/plain": [
       "   VIC_GRUPET  count\n",
       "0           1  19654\n",
       "1           2  10823\n",
       "2           6   3121\n",
       "3           9    324\n",
       "4           5    271\n",
       "5           4     92\n",
       "6           3     45"
      ]
     },
     "metadata": {},
     "output_type": "display_data"
    },
    {
     "name": "stdout",
     "output_type": "stream",
     "text": [
      "\n",
      "\n",
      "Tabla de frecuencias para la variable: VIC_NACIONAL\n"
     ]
    },
    {
     "data": {
      "application/vnd.microsoft.datawrangler.viewer.v0+json": {
       "columns": [
        {
         "name": "index",
         "rawType": "int64",
         "type": "integer"
        },
        {
         "name": "VIC_NACIONAL",
         "rawType": "int64",
         "type": "integer"
        },
        {
         "name": "count",
         "rawType": "int64",
         "type": "integer"
        }
       ],
       "conversionMethod": "pd.DataFrame",
       "ref": "d7c42959-c83c-4b77-a658-21bea20728ca",
       "rows": [
        [
         "0",
         "1",
         "33861"
        ],
        [
         "1",
         "2",
         "237"
        ],
        [
         "2",
         "9",
         "232"
        ]
       ],
       "shape": {
        "columns": 2,
        "rows": 3
       }
      },
      "text/html": [
       "<div>\n",
       "<style scoped>\n",
       "    .dataframe tbody tr th:only-of-type {\n",
       "        vertical-align: middle;\n",
       "    }\n",
       "\n",
       "    .dataframe tbody tr th {\n",
       "        vertical-align: top;\n",
       "    }\n",
       "\n",
       "    .dataframe thead th {\n",
       "        text-align: right;\n",
       "    }\n",
       "</style>\n",
       "<table border=\"1\" class=\"dataframe\">\n",
       "  <thead>\n",
       "    <tr style=\"text-align: right;\">\n",
       "      <th></th>\n",
       "      <th>VIC_NACIONAL</th>\n",
       "      <th>count</th>\n",
       "    </tr>\n",
       "  </thead>\n",
       "  <tbody>\n",
       "    <tr>\n",
       "      <th>0</th>\n",
       "      <td>1</td>\n",
       "      <td>33861</td>\n",
       "    </tr>\n",
       "    <tr>\n",
       "      <th>1</th>\n",
       "      <td>2</td>\n",
       "      <td>237</td>\n",
       "    </tr>\n",
       "    <tr>\n",
       "      <th>2</th>\n",
       "      <td>9</td>\n",
       "      <td>232</td>\n",
       "    </tr>\n",
       "  </tbody>\n",
       "</table>\n",
       "</div>"
      ],
      "text/plain": [
       "   VIC_NACIONAL  count\n",
       "0             1  33861\n",
       "1             2    237\n",
       "2             9    232"
      ]
     },
     "metadata": {},
     "output_type": "display_data"
    },
    {
     "name": "stdout",
     "output_type": "stream",
     "text": [
      "\n",
      "\n",
      "Tabla de frecuencias para la variable: VIC_TRABAJA\n"
     ]
    },
    {
     "data": {
      "application/vnd.microsoft.datawrangler.viewer.v0+json": {
       "columns": [
        {
         "name": "index",
         "rawType": "int64",
         "type": "integer"
        },
        {
         "name": "VIC_TRABAJA",
         "rawType": "object",
         "type": "unknown"
        },
        {
         "name": "count",
         "rawType": "int64",
         "type": "integer"
        }
       ],
       "conversionMethod": "pd.DataFrame",
       "ref": "0fc5c8d4-9c5c-4a18-b703-2c2d09708b27",
       "rows": [
        [
         "0",
         "2",
         "12217"
        ],
        [
         "1",
         "2",
         "11313"
        ],
        [
         "2",
         "1",
         "6548"
        ],
        [
         "3",
         "1",
         "3996"
        ],
        [
         "4",
         "9",
         "86"
        ],
        [
         "5",
         " ",
         "85"
        ],
        [
         "6",
         "9",
         "85"
        ]
       ],
       "shape": {
        "columns": 2,
        "rows": 7
       }
      },
      "text/html": [
       "<div>\n",
       "<style scoped>\n",
       "    .dataframe tbody tr th:only-of-type {\n",
       "        vertical-align: middle;\n",
       "    }\n",
       "\n",
       "    .dataframe tbody tr th {\n",
       "        vertical-align: top;\n",
       "    }\n",
       "\n",
       "    .dataframe thead th {\n",
       "        text-align: right;\n",
       "    }\n",
       "</style>\n",
       "<table border=\"1\" class=\"dataframe\">\n",
       "  <thead>\n",
       "    <tr style=\"text-align: right;\">\n",
       "      <th></th>\n",
       "      <th>VIC_TRABAJA</th>\n",
       "      <th>count</th>\n",
       "    </tr>\n",
       "  </thead>\n",
       "  <tbody>\n",
       "    <tr>\n",
       "      <th>0</th>\n",
       "      <td>2</td>\n",
       "      <td>12217</td>\n",
       "    </tr>\n",
       "    <tr>\n",
       "      <th>1</th>\n",
       "      <td>2</td>\n",
       "      <td>11313</td>\n",
       "    </tr>\n",
       "    <tr>\n",
       "      <th>2</th>\n",
       "      <td>1</td>\n",
       "      <td>6548</td>\n",
       "    </tr>\n",
       "    <tr>\n",
       "      <th>3</th>\n",
       "      <td>1</td>\n",
       "      <td>3996</td>\n",
       "    </tr>\n",
       "    <tr>\n",
       "      <th>4</th>\n",
       "      <td>9</td>\n",
       "      <td>86</td>\n",
       "    </tr>\n",
       "    <tr>\n",
       "      <th>5</th>\n",
       "      <td></td>\n",
       "      <td>85</td>\n",
       "    </tr>\n",
       "    <tr>\n",
       "      <th>6</th>\n",
       "      <td>9</td>\n",
       "      <td>85</td>\n",
       "    </tr>\n",
       "  </tbody>\n",
       "</table>\n",
       "</div>"
      ],
      "text/plain": [
       "  VIC_TRABAJA  count\n",
       "0           2  12217\n",
       "1           2  11313\n",
       "2           1   6548\n",
       "3           1   3996\n",
       "4           9     86\n",
       "5                 85\n",
       "6           9     85"
      ]
     },
     "metadata": {},
     "output_type": "display_data"
    },
    {
     "name": "stdout",
     "output_type": "stream",
     "text": [
      "\n",
      "\n",
      "Tabla de frecuencias para la variable: VIC_OCUP\n"
     ]
    },
    {
     "data": {
      "application/vnd.microsoft.datawrangler.viewer.v0+json": {
       "columns": [
        {
         "name": "index",
         "rawType": "int64",
         "type": "integer"
        },
        {
         "name": "VIC_OCUP",
         "rawType": "object",
         "type": "string"
        },
        {
         "name": "count",
         "rawType": "int64",
         "type": "integer"
        }
       ],
       "conversionMethod": "pd.DataFrame",
       "ref": "5b2fb00c-7b21-4f70-a503-f28da3c3ed42",
       "rows": [
        [
         "0",
         " ",
         "23786"
        ],
        [
         "1",
         "5249",
         "1496"
        ],
        [
         "2",
         "9111",
         "1230"
        ],
        [
         "3",
         "2341",
         "879"
        ],
        [
         "4",
         "6111",
         "657"
        ],
        [
         "5",
         "9211",
         "524"
        ],
        [
         "6",
         "9999",
         "454"
        ],
        [
         "7",
         "9510",
         "415"
        ],
        [
         "8",
         "4120",
         "329"
        ],
        [
         "9",
         "8153",
         "310"
        ],
        [
         "10",
         "9520",
         "245"
        ],
        [
         "11",
         "5223",
         "224"
        ],
        [
         "12",
         "5212",
         "209"
        ],
        [
         "13",
         "9998",
         "175"
        ],
        [
         "14",
         "5321",
         "133"
        ],
        [
         "15",
         "5120",
         "128"
        ],
        [
         "16",
         "8322",
         "127"
        ],
        [
         "17",
         "5142",
         "125"
        ],
        [
         "18",
         "5414",
         "119"
        ],
        [
         "19",
         "7112",
         "110"
        ],
        [
         "20",
         "5153",
         "108"
        ],
        [
         "21",
         "5131",
         "102"
        ],
        [
         "22",
         "3221",
         "91"
        ],
        [
         "23",
         "5412",
         "89"
        ],
        [
         "24",
         "7231",
         "80"
        ],
        [
         "25",
         "4311",
         "79"
        ],
        [
         "26",
         "8152",
         "77"
        ],
        [
         "27",
         "7533",
         "68"
        ],
        [
         "28",
         "7512",
         "63"
        ],
        [
         "29",
         "4211",
         "61"
        ]
       ],
       "shape": {
        "columns": 2,
        "rows": 30
       }
      },
      "text/html": [
       "<div>\n",
       "<style scoped>\n",
       "    .dataframe tbody tr th:only-of-type {\n",
       "        vertical-align: middle;\n",
       "    }\n",
       "\n",
       "    .dataframe tbody tr th {\n",
       "        vertical-align: top;\n",
       "    }\n",
       "\n",
       "    .dataframe thead th {\n",
       "        text-align: right;\n",
       "    }\n",
       "</style>\n",
       "<table border=\"1\" class=\"dataframe\">\n",
       "  <thead>\n",
       "    <tr style=\"text-align: right;\">\n",
       "      <th></th>\n",
       "      <th>VIC_OCUP</th>\n",
       "      <th>count</th>\n",
       "    </tr>\n",
       "  </thead>\n",
       "  <tbody>\n",
       "    <tr>\n",
       "      <th>0</th>\n",
       "      <td></td>\n",
       "      <td>23786</td>\n",
       "    </tr>\n",
       "    <tr>\n",
       "      <th>1</th>\n",
       "      <td>5249</td>\n",
       "      <td>1496</td>\n",
       "    </tr>\n",
       "    <tr>\n",
       "      <th>2</th>\n",
       "      <td>9111</td>\n",
       "      <td>1230</td>\n",
       "    </tr>\n",
       "    <tr>\n",
       "      <th>3</th>\n",
       "      <td>2341</td>\n",
       "      <td>879</td>\n",
       "    </tr>\n",
       "    <tr>\n",
       "      <th>4</th>\n",
       "      <td>6111</td>\n",
       "      <td>657</td>\n",
       "    </tr>\n",
       "    <tr>\n",
       "      <th>5</th>\n",
       "      <td>9211</td>\n",
       "      <td>524</td>\n",
       "    </tr>\n",
       "    <tr>\n",
       "      <th>6</th>\n",
       "      <td>9999</td>\n",
       "      <td>454</td>\n",
       "    </tr>\n",
       "    <tr>\n",
       "      <th>7</th>\n",
       "      <td>9510</td>\n",
       "      <td>415</td>\n",
       "    </tr>\n",
       "    <tr>\n",
       "      <th>8</th>\n",
       "      <td>4120</td>\n",
       "      <td>329</td>\n",
       "    </tr>\n",
       "    <tr>\n",
       "      <th>9</th>\n",
       "      <td>8153</td>\n",
       "      <td>310</td>\n",
       "    </tr>\n",
       "    <tr>\n",
       "      <th>10</th>\n",
       "      <td>9520</td>\n",
       "      <td>245</td>\n",
       "    </tr>\n",
       "    <tr>\n",
       "      <th>11</th>\n",
       "      <td>5223</td>\n",
       "      <td>224</td>\n",
       "    </tr>\n",
       "    <tr>\n",
       "      <th>12</th>\n",
       "      <td>5212</td>\n",
       "      <td>209</td>\n",
       "    </tr>\n",
       "    <tr>\n",
       "      <th>13</th>\n",
       "      <td>9998</td>\n",
       "      <td>175</td>\n",
       "    </tr>\n",
       "    <tr>\n",
       "      <th>14</th>\n",
       "      <td>5321</td>\n",
       "      <td>133</td>\n",
       "    </tr>\n",
       "    <tr>\n",
       "      <th>15</th>\n",
       "      <td>5120</td>\n",
       "      <td>128</td>\n",
       "    </tr>\n",
       "    <tr>\n",
       "      <th>16</th>\n",
       "      <td>8322</td>\n",
       "      <td>127</td>\n",
       "    </tr>\n",
       "    <tr>\n",
       "      <th>17</th>\n",
       "      <td>5142</td>\n",
       "      <td>125</td>\n",
       "    </tr>\n",
       "    <tr>\n",
       "      <th>18</th>\n",
       "      <td>5414</td>\n",
       "      <td>119</td>\n",
       "    </tr>\n",
       "    <tr>\n",
       "      <th>19</th>\n",
       "      <td>7112</td>\n",
       "      <td>110</td>\n",
       "    </tr>\n",
       "    <tr>\n",
       "      <th>20</th>\n",
       "      <td>5153</td>\n",
       "      <td>108</td>\n",
       "    </tr>\n",
       "    <tr>\n",
       "      <th>21</th>\n",
       "      <td>5131</td>\n",
       "      <td>102</td>\n",
       "    </tr>\n",
       "    <tr>\n",
       "      <th>22</th>\n",
       "      <td>3221</td>\n",
       "      <td>91</td>\n",
       "    </tr>\n",
       "    <tr>\n",
       "      <th>23</th>\n",
       "      <td>5412</td>\n",
       "      <td>89</td>\n",
       "    </tr>\n",
       "    <tr>\n",
       "      <th>24</th>\n",
       "      <td>7231</td>\n",
       "      <td>80</td>\n",
       "    </tr>\n",
       "    <tr>\n",
       "      <th>25</th>\n",
       "      <td>4311</td>\n",
       "      <td>79</td>\n",
       "    </tr>\n",
       "    <tr>\n",
       "      <th>26</th>\n",
       "      <td>8152</td>\n",
       "      <td>77</td>\n",
       "    </tr>\n",
       "    <tr>\n",
       "      <th>27</th>\n",
       "      <td>7533</td>\n",
       "      <td>68</td>\n",
       "    </tr>\n",
       "    <tr>\n",
       "      <th>28</th>\n",
       "      <td>7512</td>\n",
       "      <td>63</td>\n",
       "    </tr>\n",
       "    <tr>\n",
       "      <th>29</th>\n",
       "      <td>4211</td>\n",
       "      <td>61</td>\n",
       "    </tr>\n",
       "  </tbody>\n",
       "</table>\n",
       "</div>"
      ],
      "text/plain": [
       "   VIC_OCUP  count\n",
       "0            23786\n",
       "1      5249   1496\n",
       "2      9111   1230\n",
       "3      2341    879\n",
       "4      6111    657\n",
       "5      9211    524\n",
       "6      9999    454\n",
       "7      9510    415\n",
       "8      4120    329\n",
       "9      8153    310\n",
       "10     9520    245\n",
       "11     5223    224\n",
       "12     5212    209\n",
       "13     9998    175\n",
       "14     5321    133\n",
       "15     5120    128\n",
       "16     8322    127\n",
       "17     5142    125\n",
       "18     5414    119\n",
       "19     7112    110\n",
       "20     5153    108\n",
       "21     5131    102\n",
       "22     3221     91\n",
       "23     5412     89\n",
       "24     7231     80\n",
       "25     4311     79\n",
       "26     8152     77\n",
       "27     7533     68\n",
       "28     7512     63\n",
       "29     4211     61"
      ]
     },
     "metadata": {},
     "output_type": "display_data"
    },
    {
     "name": "stdout",
     "output_type": "stream",
     "text": [
      "\n",
      "\n",
      "Tabla de frecuencias para la variable: VIC_DEDICA\n"
     ]
    },
    {
     "data": {
      "application/vnd.microsoft.datawrangler.viewer.v0+json": {
       "columns": [
        {
         "name": "index",
         "rawType": "int64",
         "type": "integer"
        },
        {
         "name": "VIC_DEDICA",
         "rawType": "object",
         "type": "string"
        },
        {
         "name": "count",
         "rawType": "int64",
         "type": "integer"
        }
       ],
       "conversionMethod": "pd.DataFrame",
       "ref": "b345ee0d-7f63-4773-9e8a-13886143e4c9",
       "rows": [
        [
         "0",
         "1",
         "22201"
        ],
        [
         "1",
         " ",
         "10800"
        ],
        [
         "2",
         "3",
         "883"
        ],
        [
         "3",
         "9",
         "218"
        ],
        [
         "4",
         "2",
         "165"
        ],
        [
         "5",
         "4",
         "44"
        ],
        [
         "6",
         "6",
         "16"
        ],
        [
         "7",
         "5",
         "3"
        ]
       ],
       "shape": {
        "columns": 2,
        "rows": 8
       }
      },
      "text/html": [
       "<div>\n",
       "<style scoped>\n",
       "    .dataframe tbody tr th:only-of-type {\n",
       "        vertical-align: middle;\n",
       "    }\n",
       "\n",
       "    .dataframe tbody tr th {\n",
       "        vertical-align: top;\n",
       "    }\n",
       "\n",
       "    .dataframe thead th {\n",
       "        text-align: right;\n",
       "    }\n",
       "</style>\n",
       "<table border=\"1\" class=\"dataframe\">\n",
       "  <thead>\n",
       "    <tr style=\"text-align: right;\">\n",
       "      <th></th>\n",
       "      <th>VIC_DEDICA</th>\n",
       "      <th>count</th>\n",
       "    </tr>\n",
       "  </thead>\n",
       "  <tbody>\n",
       "    <tr>\n",
       "      <th>0</th>\n",
       "      <td>1</td>\n",
       "      <td>22201</td>\n",
       "    </tr>\n",
       "    <tr>\n",
       "      <th>1</th>\n",
       "      <td></td>\n",
       "      <td>10800</td>\n",
       "    </tr>\n",
       "    <tr>\n",
       "      <th>2</th>\n",
       "      <td>3</td>\n",
       "      <td>883</td>\n",
       "    </tr>\n",
       "    <tr>\n",
       "      <th>3</th>\n",
       "      <td>9</td>\n",
       "      <td>218</td>\n",
       "    </tr>\n",
       "    <tr>\n",
       "      <th>4</th>\n",
       "      <td>2</td>\n",
       "      <td>165</td>\n",
       "    </tr>\n",
       "    <tr>\n",
       "      <th>5</th>\n",
       "      <td>4</td>\n",
       "      <td>44</td>\n",
       "    </tr>\n",
       "    <tr>\n",
       "      <th>6</th>\n",
       "      <td>6</td>\n",
       "      <td>16</td>\n",
       "    </tr>\n",
       "    <tr>\n",
       "      <th>7</th>\n",
       "      <td>5</td>\n",
       "      <td>3</td>\n",
       "    </tr>\n",
       "  </tbody>\n",
       "</table>\n",
       "</div>"
      ],
      "text/plain": [
       "  VIC_DEDICA  count\n",
       "0          1  22201\n",
       "1             10800\n",
       "2          3    883\n",
       "3          9    218\n",
       "4          2    165\n",
       "5          4     44\n",
       "6          6     16\n",
       "7          5      3"
      ]
     },
     "metadata": {},
     "output_type": "display_data"
    },
    {
     "name": "stdout",
     "output_type": "stream",
     "text": [
      "\n",
      "\n",
      "Tabla de frecuencias para la variable: VIC_DISC\n"
     ]
    },
    {
     "data": {
      "application/vnd.microsoft.datawrangler.viewer.v0+json": {
       "columns": [
        {
         "name": "index",
         "rawType": "int64",
         "type": "integer"
        },
        {
         "name": "VIC_DISC",
         "rawType": "int64",
         "type": "integer"
        },
        {
         "name": "count",
         "rawType": "int64",
         "type": "integer"
        }
       ],
       "conversionMethod": "pd.DataFrame",
       "ref": "c1c89d33-d674-43b7-9d8a-865a3c102579",
       "rows": [
        [
         "0",
         "2",
         "32465"
        ],
        [
         "1",
         "9",
         "1626"
        ],
        [
         "2",
         "1",
         "239"
        ]
       ],
       "shape": {
        "columns": 2,
        "rows": 3
       }
      },
      "text/html": [
       "<div>\n",
       "<style scoped>\n",
       "    .dataframe tbody tr th:only-of-type {\n",
       "        vertical-align: middle;\n",
       "    }\n",
       "\n",
       "    .dataframe tbody tr th {\n",
       "        vertical-align: top;\n",
       "    }\n",
       "\n",
       "    .dataframe thead th {\n",
       "        text-align: right;\n",
       "    }\n",
       "</style>\n",
       "<table border=\"1\" class=\"dataframe\">\n",
       "  <thead>\n",
       "    <tr style=\"text-align: right;\">\n",
       "      <th></th>\n",
       "      <th>VIC_DISC</th>\n",
       "      <th>count</th>\n",
       "    </tr>\n",
       "  </thead>\n",
       "  <tbody>\n",
       "    <tr>\n",
       "      <th>0</th>\n",
       "      <td>2</td>\n",
       "      <td>32465</td>\n",
       "    </tr>\n",
       "    <tr>\n",
       "      <th>1</th>\n",
       "      <td>9</td>\n",
       "      <td>1626</td>\n",
       "    </tr>\n",
       "    <tr>\n",
       "      <th>2</th>\n",
       "      <td>1</td>\n",
       "      <td>239</td>\n",
       "    </tr>\n",
       "  </tbody>\n",
       "</table>\n",
       "</div>"
      ],
      "text/plain": [
       "   VIC_DISC  count\n",
       "0         2  32465\n",
       "1         9   1626\n",
       "2         1    239"
      ]
     },
     "metadata": {},
     "output_type": "display_data"
    },
    {
     "name": "stdout",
     "output_type": "stream",
     "text": [
      "\n",
      "\n",
      "Tabla de frecuencias para la variable: TIPO_DISCAQ\n"
     ]
    },
    {
     "data": {
      "application/vnd.microsoft.datawrangler.viewer.v0+json": {
       "columns": [
        {
         "name": "index",
         "rawType": "int64",
         "type": "integer"
        },
        {
         "name": "TIPO_DISCAQ",
         "rawType": "object",
         "type": "string"
        },
        {
         "name": "count",
         "rawType": "int64",
         "type": "integer"
        }
       ],
       "conversionMethod": "pd.DataFrame",
       "ref": "d66831f9-10db-4a5a-8031-79585a3e8dc1",
       "rows": [
        [
         "0",
         " ",
         "34091"
        ],
        [
         "1",
         "9",
         "93"
        ],
        [
         "2",
         "2",
         "47"
        ],
        [
         "3",
         "1",
         "33"
        ],
        [
         "4",
         "6",
         "29"
        ],
        [
         "5",
         "4",
         "18"
        ],
        [
         "6",
         "5",
         "10"
        ],
        [
         "7",
         "3",
         "9"
        ]
       ],
       "shape": {
        "columns": 2,
        "rows": 8
       }
      },
      "text/html": [
       "<div>\n",
       "<style scoped>\n",
       "    .dataframe tbody tr th:only-of-type {\n",
       "        vertical-align: middle;\n",
       "    }\n",
       "\n",
       "    .dataframe tbody tr th {\n",
       "        vertical-align: top;\n",
       "    }\n",
       "\n",
       "    .dataframe thead th {\n",
       "        text-align: right;\n",
       "    }\n",
       "</style>\n",
       "<table border=\"1\" class=\"dataframe\">\n",
       "  <thead>\n",
       "    <tr style=\"text-align: right;\">\n",
       "      <th></th>\n",
       "      <th>TIPO_DISCAQ</th>\n",
       "      <th>count</th>\n",
       "    </tr>\n",
       "  </thead>\n",
       "  <tbody>\n",
       "    <tr>\n",
       "      <th>0</th>\n",
       "      <td></td>\n",
       "      <td>34091</td>\n",
       "    </tr>\n",
       "    <tr>\n",
       "      <th>1</th>\n",
       "      <td>9</td>\n",
       "      <td>93</td>\n",
       "    </tr>\n",
       "    <tr>\n",
       "      <th>2</th>\n",
       "      <td>2</td>\n",
       "      <td>47</td>\n",
       "    </tr>\n",
       "    <tr>\n",
       "      <th>3</th>\n",
       "      <td>1</td>\n",
       "      <td>33</td>\n",
       "    </tr>\n",
       "    <tr>\n",
       "      <th>4</th>\n",
       "      <td>6</td>\n",
       "      <td>29</td>\n",
       "    </tr>\n",
       "    <tr>\n",
       "      <th>5</th>\n",
       "      <td>4</td>\n",
       "      <td>18</td>\n",
       "    </tr>\n",
       "    <tr>\n",
       "      <th>6</th>\n",
       "      <td>5</td>\n",
       "      <td>10</td>\n",
       "    </tr>\n",
       "    <tr>\n",
       "      <th>7</th>\n",
       "      <td>3</td>\n",
       "      <td>9</td>\n",
       "    </tr>\n",
       "  </tbody>\n",
       "</table>\n",
       "</div>"
      ],
      "text/plain": [
       "  TIPO_DISCAQ  count\n",
       "0              34091\n",
       "1           9     93\n",
       "2           2     47\n",
       "3           1     33\n",
       "4           6     29\n",
       "5           4     18\n",
       "6           5     10\n",
       "7           3      9"
      ]
     },
     "metadata": {},
     "output_type": "display_data"
    },
    {
     "name": "stdout",
     "output_type": "stream",
     "text": [
      "\n",
      "\n",
      "Tabla de frecuencias para la variable: VIC_REL_AGR\n"
     ]
    },
    {
     "data": {
      "application/vnd.microsoft.datawrangler.viewer.v0+json": {
       "columns": [
        {
         "name": "index",
         "rawType": "int64",
         "type": "integer"
        },
        {
         "name": "VIC_REL_AGR",
         "rawType": "int64",
         "type": "integer"
        },
        {
         "name": "count",
         "rawType": "int64",
         "type": "integer"
        }
       ],
       "conversionMethod": "pd.DataFrame",
       "ref": "f71d773e-5034-4897-9ea0-588ab3eb233e",
       "rows": [
        [
         "0",
         "1",
         "11800"
        ],
        [
         "1",
         "2",
         "10587"
        ],
        [
         "2",
         "3",
         "4716"
        ],
        [
         "3",
         "10",
         "2920"
        ],
        [
         "4",
         "9",
         "1485"
        ],
        [
         "5",
         "6",
         "1374"
        ],
        [
         "6",
         "4",
         "801"
        ],
        [
         "7",
         "8",
         "452"
        ],
        [
         "8",
         "5",
         "128"
        ],
        [
         "9",
         "7",
         "67"
        ]
       ],
       "shape": {
        "columns": 2,
        "rows": 10
       }
      },
      "text/html": [
       "<div>\n",
       "<style scoped>\n",
       "    .dataframe tbody tr th:only-of-type {\n",
       "        vertical-align: middle;\n",
       "    }\n",
       "\n",
       "    .dataframe tbody tr th {\n",
       "        vertical-align: top;\n",
       "    }\n",
       "\n",
       "    .dataframe thead th {\n",
       "        text-align: right;\n",
       "    }\n",
       "</style>\n",
       "<table border=\"1\" class=\"dataframe\">\n",
       "  <thead>\n",
       "    <tr style=\"text-align: right;\">\n",
       "      <th></th>\n",
       "      <th>VIC_REL_AGR</th>\n",
       "      <th>count</th>\n",
       "    </tr>\n",
       "  </thead>\n",
       "  <tbody>\n",
       "    <tr>\n",
       "      <th>0</th>\n",
       "      <td>1</td>\n",
       "      <td>11800</td>\n",
       "    </tr>\n",
       "    <tr>\n",
       "      <th>1</th>\n",
       "      <td>2</td>\n",
       "      <td>10587</td>\n",
       "    </tr>\n",
       "    <tr>\n",
       "      <th>2</th>\n",
       "      <td>3</td>\n",
       "      <td>4716</td>\n",
       "    </tr>\n",
       "    <tr>\n",
       "      <th>3</th>\n",
       "      <td>10</td>\n",
       "      <td>2920</td>\n",
       "    </tr>\n",
       "    <tr>\n",
       "      <th>4</th>\n",
       "      <td>9</td>\n",
       "      <td>1485</td>\n",
       "    </tr>\n",
       "    <tr>\n",
       "      <th>5</th>\n",
       "      <td>6</td>\n",
       "      <td>1374</td>\n",
       "    </tr>\n",
       "    <tr>\n",
       "      <th>6</th>\n",
       "      <td>4</td>\n",
       "      <td>801</td>\n",
       "    </tr>\n",
       "    <tr>\n",
       "      <th>7</th>\n",
       "      <td>8</td>\n",
       "      <td>452</td>\n",
       "    </tr>\n",
       "    <tr>\n",
       "      <th>8</th>\n",
       "      <td>5</td>\n",
       "      <td>128</td>\n",
       "    </tr>\n",
       "    <tr>\n",
       "      <th>9</th>\n",
       "      <td>7</td>\n",
       "      <td>67</td>\n",
       "    </tr>\n",
       "  </tbody>\n",
       "</table>\n",
       "</div>"
      ],
      "text/plain": [
       "   VIC_REL_AGR  count\n",
       "0            1  11800\n",
       "1            2  10587\n",
       "2            3   4716\n",
       "3           10   2920\n",
       "4            9   1485\n",
       "5            6   1374\n",
       "6            4    801\n",
       "7            8    452\n",
       "8            5    128\n",
       "9            7     67"
      ]
     },
     "metadata": {},
     "output_type": "display_data"
    },
    {
     "name": "stdout",
     "output_type": "stream",
     "text": [
      "\n",
      "\n",
      "Tabla de frecuencias para la variable: HEC_AREA\n"
     ]
    },
    {
     "data": {
      "application/vnd.microsoft.datawrangler.viewer.v0+json": {
       "columns": [
        {
         "name": "index",
         "rawType": "int64",
         "type": "integer"
        },
        {
         "name": "HEC_AREA",
         "rawType": "int64",
         "type": "integer"
        },
        {
         "name": "count",
         "rawType": "int64",
         "type": "integer"
        }
       ],
       "conversionMethod": "pd.DataFrame",
       "ref": "6f2a8c20-9b0f-4513-a7f7-61b123155365",
       "rows": [
        [
         "0",
         "1",
         "19164"
        ],
        [
         "1",
         "2",
         "14173"
        ],
        [
         "2",
         "9",
         "993"
        ]
       ],
       "shape": {
        "columns": 2,
        "rows": 3
       }
      },
      "text/html": [
       "<div>\n",
       "<style scoped>\n",
       "    .dataframe tbody tr th:only-of-type {\n",
       "        vertical-align: middle;\n",
       "    }\n",
       "\n",
       "    .dataframe tbody tr th {\n",
       "        vertical-align: top;\n",
       "    }\n",
       "\n",
       "    .dataframe thead th {\n",
       "        text-align: right;\n",
       "    }\n",
       "</style>\n",
       "<table border=\"1\" class=\"dataframe\">\n",
       "  <thead>\n",
       "    <tr style=\"text-align: right;\">\n",
       "      <th></th>\n",
       "      <th>HEC_AREA</th>\n",
       "      <th>count</th>\n",
       "    </tr>\n",
       "  </thead>\n",
       "  <tbody>\n",
       "    <tr>\n",
       "      <th>0</th>\n",
       "      <td>1</td>\n",
       "      <td>19164</td>\n",
       "    </tr>\n",
       "    <tr>\n",
       "      <th>1</th>\n",
       "      <td>2</td>\n",
       "      <td>14173</td>\n",
       "    </tr>\n",
       "    <tr>\n",
       "      <th>2</th>\n",
       "      <td>9</td>\n",
       "      <td>993</td>\n",
       "    </tr>\n",
       "  </tbody>\n",
       "</table>\n",
       "</div>"
      ],
      "text/plain": [
       "   HEC_AREA  count\n",
       "0         1  19164\n",
       "1         2  14173\n",
       "2         9    993"
      ]
     },
     "metadata": {},
     "output_type": "display_data"
    },
    {
     "name": "stdout",
     "output_type": "stream",
     "text": [
      "\n",
      "\n",
      "Tabla de frecuencias para la variable: HEC_RECUR_DENUN\n"
     ]
    },
    {
     "data": {
      "application/vnd.microsoft.datawrangler.viewer.v0+json": {
       "columns": [
        {
         "name": "index",
         "rawType": "int64",
         "type": "integer"
        },
        {
         "name": "HEC_RECUR_DENUN",
         "rawType": "int64",
         "type": "integer"
        },
        {
         "name": "count",
         "rawType": "int64",
         "type": "integer"
        }
       ],
       "conversionMethod": "pd.DataFrame",
       "ref": "8605d172-98bb-48d0-8693-1c00b70bd71c",
       "rows": [
        [
         "0",
         "2",
         "29096"
        ],
        [
         "1",
         "1",
         "3704"
        ],
        [
         "2",
         "9",
         "1530"
        ]
       ],
       "shape": {
        "columns": 2,
        "rows": 3
       }
      },
      "text/html": [
       "<div>\n",
       "<style scoped>\n",
       "    .dataframe tbody tr th:only-of-type {\n",
       "        vertical-align: middle;\n",
       "    }\n",
       "\n",
       "    .dataframe tbody tr th {\n",
       "        vertical-align: top;\n",
       "    }\n",
       "\n",
       "    .dataframe thead th {\n",
       "        text-align: right;\n",
       "    }\n",
       "</style>\n",
       "<table border=\"1\" class=\"dataframe\">\n",
       "  <thead>\n",
       "    <tr style=\"text-align: right;\">\n",
       "      <th></th>\n",
       "      <th>HEC_RECUR_DENUN</th>\n",
       "      <th>count</th>\n",
       "    </tr>\n",
       "  </thead>\n",
       "  <tbody>\n",
       "    <tr>\n",
       "      <th>0</th>\n",
       "      <td>2</td>\n",
       "      <td>29096</td>\n",
       "    </tr>\n",
       "    <tr>\n",
       "      <th>1</th>\n",
       "      <td>1</td>\n",
       "      <td>3704</td>\n",
       "    </tr>\n",
       "    <tr>\n",
       "      <th>2</th>\n",
       "      <td>9</td>\n",
       "      <td>1530</td>\n",
       "    </tr>\n",
       "  </tbody>\n",
       "</table>\n",
       "</div>"
      ],
      "text/plain": [
       "   HEC_RECUR_DENUN  count\n",
       "0                2  29096\n",
       "1                1   3704\n",
       "2                9   1530"
      ]
     },
     "metadata": {},
     "output_type": "display_data"
    },
    {
     "name": "stdout",
     "output_type": "stream",
     "text": [
      "\n",
      "\n",
      "Tabla de frecuencias para la variable: INST_DONDE_DENUNCIO\n"
     ]
    },
    {
     "data": {
      "application/vnd.microsoft.datawrangler.viewer.v0+json": {
       "columns": [
        {
         "name": "index",
         "rawType": "int64",
         "type": "integer"
        },
        {
         "name": "INST_DONDE_DENUNCIO",
         "rawType": "object",
         "type": "string"
        },
        {
         "name": "count",
         "rawType": "int64",
         "type": "integer"
        }
       ],
       "conversionMethod": "pd.DataFrame",
       "ref": "28d30d3c-2d19-4d68-ac2f-c4d3eef21435",
       "rows": [
        [
         "0",
         " ",
         "30626"
        ],
        [
         "1",
         "4",
         "1898"
        ],
        [
         "2",
         "3",
         "825"
        ],
        [
         "3",
         "1",
         "515"
        ],
        [
         "4",
         "9",
         "397"
        ],
        [
         "5",
         "2",
         "44"
        ],
        [
         "6",
         "6",
         "18"
        ],
        [
         "7",
         "5",
         "7"
        ]
       ],
       "shape": {
        "columns": 2,
        "rows": 8
       }
      },
      "text/html": [
       "<div>\n",
       "<style scoped>\n",
       "    .dataframe tbody tr th:only-of-type {\n",
       "        vertical-align: middle;\n",
       "    }\n",
       "\n",
       "    .dataframe tbody tr th {\n",
       "        vertical-align: top;\n",
       "    }\n",
       "\n",
       "    .dataframe thead th {\n",
       "        text-align: right;\n",
       "    }\n",
       "</style>\n",
       "<table border=\"1\" class=\"dataframe\">\n",
       "  <thead>\n",
       "    <tr style=\"text-align: right;\">\n",
       "      <th></th>\n",
       "      <th>INST_DONDE_DENUNCIO</th>\n",
       "      <th>count</th>\n",
       "    </tr>\n",
       "  </thead>\n",
       "  <tbody>\n",
       "    <tr>\n",
       "      <th>0</th>\n",
       "      <td></td>\n",
       "      <td>30626</td>\n",
       "    </tr>\n",
       "    <tr>\n",
       "      <th>1</th>\n",
       "      <td>4</td>\n",
       "      <td>1898</td>\n",
       "    </tr>\n",
       "    <tr>\n",
       "      <th>2</th>\n",
       "      <td>3</td>\n",
       "      <td>825</td>\n",
       "    </tr>\n",
       "    <tr>\n",
       "      <th>3</th>\n",
       "      <td>1</td>\n",
       "      <td>515</td>\n",
       "    </tr>\n",
       "    <tr>\n",
       "      <th>4</th>\n",
       "      <td>9</td>\n",
       "      <td>397</td>\n",
       "    </tr>\n",
       "    <tr>\n",
       "      <th>5</th>\n",
       "      <td>2</td>\n",
       "      <td>44</td>\n",
       "    </tr>\n",
       "    <tr>\n",
       "      <th>6</th>\n",
       "      <td>6</td>\n",
       "      <td>18</td>\n",
       "    </tr>\n",
       "    <tr>\n",
       "      <th>7</th>\n",
       "      <td>5</td>\n",
       "      <td>7</td>\n",
       "    </tr>\n",
       "  </tbody>\n",
       "</table>\n",
       "</div>"
      ],
      "text/plain": [
       "  INST_DONDE_DENUNCIO  count\n",
       "0                      30626\n",
       "1                   4   1898\n",
       "2                   3    825\n",
       "3                   1    515\n",
       "4                   9    397\n",
       "5                   2     44\n",
       "6                   6     18\n",
       "7                   5      7"
      ]
     },
     "metadata": {},
     "output_type": "display_data"
    },
    {
     "name": "stdout",
     "output_type": "stream",
     "text": [
      "\n",
      "\n",
      "Tabla de frecuencias para la variable: AGR_SEXO\n"
     ]
    },
    {
     "data": {
      "application/vnd.microsoft.datawrangler.viewer.v0+json": {
       "columns": [
        {
         "name": "index",
         "rawType": "int64",
         "type": "integer"
        },
        {
         "name": "AGR_SEXO",
         "rawType": "int64",
         "type": "integer"
        },
        {
         "name": "count",
         "rawType": "int64",
         "type": "integer"
        }
       ],
       "conversionMethod": "pd.DataFrame",
       "ref": "ff6729bb-ff93-46df-b983-4a2dec83a362",
       "rows": [
        [
         "0",
         "1",
         "30302"
        ],
        [
         "1",
         "2",
         "4028"
        ]
       ],
       "shape": {
        "columns": 2,
        "rows": 2
       }
      },
      "text/html": [
       "<div>\n",
       "<style scoped>\n",
       "    .dataframe tbody tr th:only-of-type {\n",
       "        vertical-align: middle;\n",
       "    }\n",
       "\n",
       "    .dataframe tbody tr th {\n",
       "        vertical-align: top;\n",
       "    }\n",
       "\n",
       "    .dataframe thead th {\n",
       "        text-align: right;\n",
       "    }\n",
       "</style>\n",
       "<table border=\"1\" class=\"dataframe\">\n",
       "  <thead>\n",
       "    <tr style=\"text-align: right;\">\n",
       "      <th></th>\n",
       "      <th>AGR_SEXO</th>\n",
       "      <th>count</th>\n",
       "    </tr>\n",
       "  </thead>\n",
       "  <tbody>\n",
       "    <tr>\n",
       "      <th>0</th>\n",
       "      <td>1</td>\n",
       "      <td>30302</td>\n",
       "    </tr>\n",
       "    <tr>\n",
       "      <th>1</th>\n",
       "      <td>2</td>\n",
       "      <td>4028</td>\n",
       "    </tr>\n",
       "  </tbody>\n",
       "</table>\n",
       "</div>"
      ],
      "text/plain": [
       "   AGR_SEXO  count\n",
       "0         1  30302\n",
       "1         2   4028"
      ]
     },
     "metadata": {},
     "output_type": "display_data"
    },
    {
     "name": "stdout",
     "output_type": "stream",
     "text": [
      "\n",
      "\n",
      "Tabla de frecuencias para la variable: AGR_ALFAB\n"
     ]
    },
    {
     "data": {
      "application/vnd.microsoft.datawrangler.viewer.v0+json": {
       "columns": [
        {
         "name": "index",
         "rawType": "int64",
         "type": "integer"
        },
        {
         "name": "AGR_ALFAB",
         "rawType": "int64",
         "type": "integer"
        },
        {
         "name": "count",
         "rawType": "int64",
         "type": "integer"
        }
       ],
       "conversionMethod": "pd.DataFrame",
       "ref": "d6994ca2-c731-46cc-8d3d-5daba4f272aa",
       "rows": [
        [
         "0",
         "1",
         "28802"
        ],
        [
         "1",
         "2",
         "4762"
        ],
        [
         "2",
         "9",
         "766"
        ]
       ],
       "shape": {
        "columns": 2,
        "rows": 3
       }
      },
      "text/html": [
       "<div>\n",
       "<style scoped>\n",
       "    .dataframe tbody tr th:only-of-type {\n",
       "        vertical-align: middle;\n",
       "    }\n",
       "\n",
       "    .dataframe tbody tr th {\n",
       "        vertical-align: top;\n",
       "    }\n",
       "\n",
       "    .dataframe thead th {\n",
       "        text-align: right;\n",
       "    }\n",
       "</style>\n",
       "<table border=\"1\" class=\"dataframe\">\n",
       "  <thead>\n",
       "    <tr style=\"text-align: right;\">\n",
       "      <th></th>\n",
       "      <th>AGR_ALFAB</th>\n",
       "      <th>count</th>\n",
       "    </tr>\n",
       "  </thead>\n",
       "  <tbody>\n",
       "    <tr>\n",
       "      <th>0</th>\n",
       "      <td>1</td>\n",
       "      <td>28802</td>\n",
       "    </tr>\n",
       "    <tr>\n",
       "      <th>1</th>\n",
       "      <td>2</td>\n",
       "      <td>4762</td>\n",
       "    </tr>\n",
       "    <tr>\n",
       "      <th>2</th>\n",
       "      <td>9</td>\n",
       "      <td>766</td>\n",
       "    </tr>\n",
       "  </tbody>\n",
       "</table>\n",
       "</div>"
      ],
      "text/plain": [
       "   AGR_ALFAB  count\n",
       "0          1  28802\n",
       "1          2   4762\n",
       "2          9    766"
      ]
     },
     "metadata": {},
     "output_type": "display_data"
    },
    {
     "name": "stdout",
     "output_type": "stream",
     "text": [
      "\n",
      "\n",
      "Tabla de frecuencias para la variable: AGR_ESCOLARIDAD\n"
     ]
    },
    {
     "data": {
      "application/vnd.microsoft.datawrangler.viewer.v0+json": {
       "columns": [
        {
         "name": "index",
         "rawType": "int64",
         "type": "integer"
        },
        {
         "name": "AGR_ESCOLARIDAD",
         "rawType": "int64",
         "type": "integer"
        },
        {
         "name": "count",
         "rawType": "int64",
         "type": "integer"
        }
       ],
       "conversionMethod": "pd.DataFrame",
       "ref": "04469026-f7a6-4169-9897-9935a888b7b2",
       "rows": [
        [
         "0",
         "26",
         "5725"
        ],
        [
         "1",
         "10",
         "5618"
        ],
        [
         "2",
         "29",
         "4527"
        ],
        [
         "3",
         "33",
         "2774"
        ],
        [
         "4",
         "49",
         "2387"
        ],
        [
         "5",
         "46",
         "2325"
        ],
        [
         "6",
         "23",
         "1803"
        ],
        [
         "7",
         "39",
         "1707"
        ],
        [
         "8",
         "99",
         "1637"
        ],
        [
         "9",
         "22",
         "1003"
        ],
        [
         "10",
         "24",
         "800"
        ],
        [
         "11",
         "45",
         "710"
        ],
        [
         "12",
         "25",
         "683"
        ],
        [
         "13",
         "32",
         "591"
        ],
        [
         "14",
         "31",
         "510"
        ],
        [
         "15",
         "59",
         "445"
        ],
        [
         "16",
         "21",
         "431"
        ],
        [
         "17",
         "44",
         "316"
        ],
        [
         "18",
         "55",
         "108"
        ],
        [
         "19",
         "56",
         "63"
        ],
        [
         "20",
         "53",
         "53"
        ],
        [
         "21",
         "52",
         "49"
        ],
        [
         "22",
         "51",
         "32"
        ],
        [
         "23",
         "54",
         "28"
        ],
        [
         "24",
         "57",
         "5"
        ]
       ],
       "shape": {
        "columns": 2,
        "rows": 25
       }
      },
      "text/html": [
       "<div>\n",
       "<style scoped>\n",
       "    .dataframe tbody tr th:only-of-type {\n",
       "        vertical-align: middle;\n",
       "    }\n",
       "\n",
       "    .dataframe tbody tr th {\n",
       "        vertical-align: top;\n",
       "    }\n",
       "\n",
       "    .dataframe thead th {\n",
       "        text-align: right;\n",
       "    }\n",
       "</style>\n",
       "<table border=\"1\" class=\"dataframe\">\n",
       "  <thead>\n",
       "    <tr style=\"text-align: right;\">\n",
       "      <th></th>\n",
       "      <th>AGR_ESCOLARIDAD</th>\n",
       "      <th>count</th>\n",
       "    </tr>\n",
       "  </thead>\n",
       "  <tbody>\n",
       "    <tr>\n",
       "      <th>0</th>\n",
       "      <td>26</td>\n",
       "      <td>5725</td>\n",
       "    </tr>\n",
       "    <tr>\n",
       "      <th>1</th>\n",
       "      <td>10</td>\n",
       "      <td>5618</td>\n",
       "    </tr>\n",
       "    <tr>\n",
       "      <th>2</th>\n",
       "      <td>29</td>\n",
       "      <td>4527</td>\n",
       "    </tr>\n",
       "    <tr>\n",
       "      <th>3</th>\n",
       "      <td>33</td>\n",
       "      <td>2774</td>\n",
       "    </tr>\n",
       "    <tr>\n",
       "      <th>4</th>\n",
       "      <td>49</td>\n",
       "      <td>2387</td>\n",
       "    </tr>\n",
       "    <tr>\n",
       "      <th>5</th>\n",
       "      <td>46</td>\n",
       "      <td>2325</td>\n",
       "    </tr>\n",
       "    <tr>\n",
       "      <th>6</th>\n",
       "      <td>23</td>\n",
       "      <td>1803</td>\n",
       "    </tr>\n",
       "    <tr>\n",
       "      <th>7</th>\n",
       "      <td>39</td>\n",
       "      <td>1707</td>\n",
       "    </tr>\n",
       "    <tr>\n",
       "      <th>8</th>\n",
       "      <td>99</td>\n",
       "      <td>1637</td>\n",
       "    </tr>\n",
       "    <tr>\n",
       "      <th>9</th>\n",
       "      <td>22</td>\n",
       "      <td>1003</td>\n",
       "    </tr>\n",
       "    <tr>\n",
       "      <th>10</th>\n",
       "      <td>24</td>\n",
       "      <td>800</td>\n",
       "    </tr>\n",
       "    <tr>\n",
       "      <th>11</th>\n",
       "      <td>45</td>\n",
       "      <td>710</td>\n",
       "    </tr>\n",
       "    <tr>\n",
       "      <th>12</th>\n",
       "      <td>25</td>\n",
       "      <td>683</td>\n",
       "    </tr>\n",
       "    <tr>\n",
       "      <th>13</th>\n",
       "      <td>32</td>\n",
       "      <td>591</td>\n",
       "    </tr>\n",
       "    <tr>\n",
       "      <th>14</th>\n",
       "      <td>31</td>\n",
       "      <td>510</td>\n",
       "    </tr>\n",
       "    <tr>\n",
       "      <th>15</th>\n",
       "      <td>59</td>\n",
       "      <td>445</td>\n",
       "    </tr>\n",
       "    <tr>\n",
       "      <th>16</th>\n",
       "      <td>21</td>\n",
       "      <td>431</td>\n",
       "    </tr>\n",
       "    <tr>\n",
       "      <th>17</th>\n",
       "      <td>44</td>\n",
       "      <td>316</td>\n",
       "    </tr>\n",
       "    <tr>\n",
       "      <th>18</th>\n",
       "      <td>55</td>\n",
       "      <td>108</td>\n",
       "    </tr>\n",
       "    <tr>\n",
       "      <th>19</th>\n",
       "      <td>56</td>\n",
       "      <td>63</td>\n",
       "    </tr>\n",
       "    <tr>\n",
       "      <th>20</th>\n",
       "      <td>53</td>\n",
       "      <td>53</td>\n",
       "    </tr>\n",
       "    <tr>\n",
       "      <th>21</th>\n",
       "      <td>52</td>\n",
       "      <td>49</td>\n",
       "    </tr>\n",
       "    <tr>\n",
       "      <th>22</th>\n",
       "      <td>51</td>\n",
       "      <td>32</td>\n",
       "    </tr>\n",
       "    <tr>\n",
       "      <th>23</th>\n",
       "      <td>54</td>\n",
       "      <td>28</td>\n",
       "    </tr>\n",
       "    <tr>\n",
       "      <th>24</th>\n",
       "      <td>57</td>\n",
       "      <td>5</td>\n",
       "    </tr>\n",
       "  </tbody>\n",
       "</table>\n",
       "</div>"
      ],
      "text/plain": [
       "    AGR_ESCOLARIDAD  count\n",
       "0                26   5725\n",
       "1                10   5618\n",
       "2                29   4527\n",
       "3                33   2774\n",
       "4                49   2387\n",
       "5                46   2325\n",
       "6                23   1803\n",
       "7                39   1707\n",
       "8                99   1637\n",
       "9                22   1003\n",
       "10               24    800\n",
       "11               45    710\n",
       "12               25    683\n",
       "13               32    591\n",
       "14               31    510\n",
       "15               59    445\n",
       "16               21    431\n",
       "17               44    316\n",
       "18               55    108\n",
       "19               56     63\n",
       "20               53     53\n",
       "21               52     49\n",
       "22               51     32\n",
       "23               54     28\n",
       "24               57      5"
      ]
     },
     "metadata": {},
     "output_type": "display_data"
    },
    {
     "name": "stdout",
     "output_type": "stream",
     "text": [
      "\n",
      "\n",
      "Tabla de frecuencias para la variable: AGR_EST_CIV\n"
     ]
    },
    {
     "data": {
      "application/vnd.microsoft.datawrangler.viewer.v0+json": {
       "columns": [
        {
         "name": "index",
         "rawType": "int64",
         "type": "integer"
        },
        {
         "name": "AGR_EST_CIV",
         "rawType": "int64",
         "type": "integer"
        },
        {
         "name": "count",
         "rawType": "int64",
         "type": "integer"
        }
       ],
       "conversionMethod": "pd.DataFrame",
       "ref": "180fb42a-e913-4955-8630-bff16b9a5b1b",
       "rows": [
        [
         "0",
         "2",
         "15326"
        ],
        [
         "1",
         "3",
         "7718"
        ],
        [
         "2",
         "9",
         "7706"
        ],
        [
         "3",
         "1",
         "3122"
        ],
        [
         "4",
         "5",
         "349"
        ],
        [
         "5",
         "4",
         "109"
        ]
       ],
       "shape": {
        "columns": 2,
        "rows": 6
       }
      },
      "text/html": [
       "<div>\n",
       "<style scoped>\n",
       "    .dataframe tbody tr th:only-of-type {\n",
       "        vertical-align: middle;\n",
       "    }\n",
       "\n",
       "    .dataframe tbody tr th {\n",
       "        vertical-align: top;\n",
       "    }\n",
       "\n",
       "    .dataframe thead th {\n",
       "        text-align: right;\n",
       "    }\n",
       "</style>\n",
       "<table border=\"1\" class=\"dataframe\">\n",
       "  <thead>\n",
       "    <tr style=\"text-align: right;\">\n",
       "      <th></th>\n",
       "      <th>AGR_EST_CIV</th>\n",
       "      <th>count</th>\n",
       "    </tr>\n",
       "  </thead>\n",
       "  <tbody>\n",
       "    <tr>\n",
       "      <th>0</th>\n",
       "      <td>2</td>\n",
       "      <td>15326</td>\n",
       "    </tr>\n",
       "    <tr>\n",
       "      <th>1</th>\n",
       "      <td>3</td>\n",
       "      <td>7718</td>\n",
       "    </tr>\n",
       "    <tr>\n",
       "      <th>2</th>\n",
       "      <td>9</td>\n",
       "      <td>7706</td>\n",
       "    </tr>\n",
       "    <tr>\n",
       "      <th>3</th>\n",
       "      <td>1</td>\n",
       "      <td>3122</td>\n",
       "    </tr>\n",
       "    <tr>\n",
       "      <th>4</th>\n",
       "      <td>5</td>\n",
       "      <td>349</td>\n",
       "    </tr>\n",
       "    <tr>\n",
       "      <th>5</th>\n",
       "      <td>4</td>\n",
       "      <td>109</td>\n",
       "    </tr>\n",
       "  </tbody>\n",
       "</table>\n",
       "</div>"
      ],
      "text/plain": [
       "   AGR_EST_CIV  count\n",
       "0            2  15326\n",
       "1            3   7718\n",
       "2            9   7706\n",
       "3            1   3122\n",
       "4            5    349\n",
       "5            4    109"
      ]
     },
     "metadata": {},
     "output_type": "display_data"
    },
    {
     "name": "stdout",
     "output_type": "stream",
     "text": [
      "\n",
      "\n",
      "Tabla de frecuencias para la variable: AGR_GURPET\n"
     ]
    },
    {
     "data": {
      "application/vnd.microsoft.datawrangler.viewer.v0+json": {
       "columns": [
        {
         "name": "index",
         "rawType": "int64",
         "type": "integer"
        },
        {
         "name": "AGR_GURPET",
         "rawType": "int64",
         "type": "integer"
        },
        {
         "name": "count",
         "rawType": "int64",
         "type": "integer"
        }
       ],
       "conversionMethod": "pd.DataFrame",
       "ref": "843b7f5f-0f53-4ecd-93fc-d96fdd1bceb9",
       "rows": [
        [
         "0",
         "1",
         "19214"
        ],
        [
         "1",
         "2",
         "10947"
        ],
        [
         "2",
         "6",
         "3200"
        ],
        [
         "3",
         "9",
         "513"
        ],
        [
         "4",
         "5",
         "285"
        ],
        [
         "5",
         "4",
         "113"
        ],
        [
         "6",
         "3",
         "58"
        ]
       ],
       "shape": {
        "columns": 2,
        "rows": 7
       }
      },
      "text/html": [
       "<div>\n",
       "<style scoped>\n",
       "    .dataframe tbody tr th:only-of-type {\n",
       "        vertical-align: middle;\n",
       "    }\n",
       "\n",
       "    .dataframe tbody tr th {\n",
       "        vertical-align: top;\n",
       "    }\n",
       "\n",
       "    .dataframe thead th {\n",
       "        text-align: right;\n",
       "    }\n",
       "</style>\n",
       "<table border=\"1\" class=\"dataframe\">\n",
       "  <thead>\n",
       "    <tr style=\"text-align: right;\">\n",
       "      <th></th>\n",
       "      <th>AGR_GURPET</th>\n",
       "      <th>count</th>\n",
       "    </tr>\n",
       "  </thead>\n",
       "  <tbody>\n",
       "    <tr>\n",
       "      <th>0</th>\n",
       "      <td>1</td>\n",
       "      <td>19214</td>\n",
       "    </tr>\n",
       "    <tr>\n",
       "      <th>1</th>\n",
       "      <td>2</td>\n",
       "      <td>10947</td>\n",
       "    </tr>\n",
       "    <tr>\n",
       "      <th>2</th>\n",
       "      <td>6</td>\n",
       "      <td>3200</td>\n",
       "    </tr>\n",
       "    <tr>\n",
       "      <th>3</th>\n",
       "      <td>9</td>\n",
       "      <td>513</td>\n",
       "    </tr>\n",
       "    <tr>\n",
       "      <th>4</th>\n",
       "      <td>5</td>\n",
       "      <td>285</td>\n",
       "    </tr>\n",
       "    <tr>\n",
       "      <th>5</th>\n",
       "      <td>4</td>\n",
       "      <td>113</td>\n",
       "    </tr>\n",
       "    <tr>\n",
       "      <th>6</th>\n",
       "      <td>3</td>\n",
       "      <td>58</td>\n",
       "    </tr>\n",
       "  </tbody>\n",
       "</table>\n",
       "</div>"
      ],
      "text/plain": [
       "   AGR_GURPET  count\n",
       "0           1  19214\n",
       "1           2  10947\n",
       "2           6   3200\n",
       "3           9    513\n",
       "4           5    285\n",
       "5           4    113\n",
       "6           3     58"
      ]
     },
     "metadata": {},
     "output_type": "display_data"
    },
    {
     "name": "stdout",
     "output_type": "stream",
     "text": [
      "\n",
      "\n",
      "Tabla de frecuencias para la variable: AGR_NACIONAL\n"
     ]
    },
    {
     "data": {
      "application/vnd.microsoft.datawrangler.viewer.v0+json": {
       "columns": [
        {
         "name": "index",
         "rawType": "int64",
         "type": "integer"
        },
        {
         "name": "AGR_NACIONAL",
         "rawType": "int64",
         "type": "integer"
        },
        {
         "name": "count",
         "rawType": "int64",
         "type": "integer"
        }
       ],
       "conversionMethod": "pd.DataFrame",
       "ref": "fc3ed20c-bdcd-47f0-a09b-3caeae9953f4",
       "rows": [
        [
         "0",
         "1",
         "32801"
        ],
        [
         "1",
         "9",
         "1343"
        ],
        [
         "2",
         "2",
         "186"
        ]
       ],
       "shape": {
        "columns": 2,
        "rows": 3
       }
      },
      "text/html": [
       "<div>\n",
       "<style scoped>\n",
       "    .dataframe tbody tr th:only-of-type {\n",
       "        vertical-align: middle;\n",
       "    }\n",
       "\n",
       "    .dataframe tbody tr th {\n",
       "        vertical-align: top;\n",
       "    }\n",
       "\n",
       "    .dataframe thead th {\n",
       "        text-align: right;\n",
       "    }\n",
       "</style>\n",
       "<table border=\"1\" class=\"dataframe\">\n",
       "  <thead>\n",
       "    <tr style=\"text-align: right;\">\n",
       "      <th></th>\n",
       "      <th>AGR_NACIONAL</th>\n",
       "      <th>count</th>\n",
       "    </tr>\n",
       "  </thead>\n",
       "  <tbody>\n",
       "    <tr>\n",
       "      <th>0</th>\n",
       "      <td>1</td>\n",
       "      <td>32801</td>\n",
       "    </tr>\n",
       "    <tr>\n",
       "      <th>1</th>\n",
       "      <td>9</td>\n",
       "      <td>1343</td>\n",
       "    </tr>\n",
       "    <tr>\n",
       "      <th>2</th>\n",
       "      <td>2</td>\n",
       "      <td>186</td>\n",
       "    </tr>\n",
       "  </tbody>\n",
       "</table>\n",
       "</div>"
      ],
      "text/plain": [
       "   AGR_NACIONAL  count\n",
       "0             1  32801\n",
       "1             9   1343\n",
       "2             2    186"
      ]
     },
     "metadata": {},
     "output_type": "display_data"
    },
    {
     "name": "stdout",
     "output_type": "stream",
     "text": [
      "\n",
      "\n",
      "Tabla de frecuencias para la variable: AGR_TRABAJA\n"
     ]
    },
    {
     "data": {
      "application/vnd.microsoft.datawrangler.viewer.v0+json": {
       "columns": [
        {
         "name": "index",
         "rawType": "int64",
         "type": "integer"
        },
        {
         "name": "AGR_TRABAJA",
         "rawType": "int64",
         "type": "integer"
        },
        {
         "name": "count",
         "rawType": "int64",
         "type": "integer"
        }
       ],
       "conversionMethod": "pd.DataFrame",
       "ref": "972fabee-c626-495f-85f8-f304f7d9bb62",
       "rows": [
        [
         "0",
         "1",
         "27199"
        ],
        [
         "1",
         "2",
         "6009"
        ],
        [
         "2",
         "9",
         "1122"
        ]
       ],
       "shape": {
        "columns": 2,
        "rows": 3
       }
      },
      "text/html": [
       "<div>\n",
       "<style scoped>\n",
       "    .dataframe tbody tr th:only-of-type {\n",
       "        vertical-align: middle;\n",
       "    }\n",
       "\n",
       "    .dataframe tbody tr th {\n",
       "        vertical-align: top;\n",
       "    }\n",
       "\n",
       "    .dataframe thead th {\n",
       "        text-align: right;\n",
       "    }\n",
       "</style>\n",
       "<table border=\"1\" class=\"dataframe\">\n",
       "  <thead>\n",
       "    <tr style=\"text-align: right;\">\n",
       "      <th></th>\n",
       "      <th>AGR_TRABAJA</th>\n",
       "      <th>count</th>\n",
       "    </tr>\n",
       "  </thead>\n",
       "  <tbody>\n",
       "    <tr>\n",
       "      <th>0</th>\n",
       "      <td>1</td>\n",
       "      <td>27199</td>\n",
       "    </tr>\n",
       "    <tr>\n",
       "      <th>1</th>\n",
       "      <td>2</td>\n",
       "      <td>6009</td>\n",
       "    </tr>\n",
       "    <tr>\n",
       "      <th>2</th>\n",
       "      <td>9</td>\n",
       "      <td>1122</td>\n",
       "    </tr>\n",
       "  </tbody>\n",
       "</table>\n",
       "</div>"
      ],
      "text/plain": [
       "   AGR_TRABAJA  count\n",
       "0            1  27199\n",
       "1            2   6009\n",
       "2            9   1122"
      ]
     },
     "metadata": {},
     "output_type": "display_data"
    },
    {
     "name": "stdout",
     "output_type": "stream",
     "text": [
      "\n",
      "\n",
      "Tabla de frecuencias para la variable: AGR_OCUP\n"
     ]
    },
    {
     "data": {
      "application/vnd.microsoft.datawrangler.viewer.v0+json": {
       "columns": [
        {
         "name": "index",
         "rawType": "int64",
         "type": "integer"
        },
        {
         "name": "AGR_OCUP",
         "rawType": "object",
         "type": "string"
        },
        {
         "name": "count",
         "rawType": "int64",
         "type": "integer"
        }
       ],
       "conversionMethod": "pd.DataFrame",
       "ref": "ad15c5dc-6d11-43b3-96c6-fc66e1beffd3",
       "rows": [
        [
         "0",
         " ",
         "7131"
        ],
        [
         "1",
         "6111",
         "6401"
        ],
        [
         "2",
         "9211",
         "4634"
        ],
        [
         "3",
         "5249",
         "2526"
        ],
        [
         "4",
         "7112",
         "1435"
        ],
        [
         "5",
         "9999",
         "1315"
        ],
        [
         "6",
         "8322",
         "1287"
        ],
        [
         "7",
         "5414",
         "734"
        ],
        [
         "8",
         "2341",
         "636"
        ],
        [
         "9",
         "7231",
         "625"
        ],
        [
         "10",
         "9510",
         "478"
        ],
        [
         "11",
         "8153",
         "375"
        ],
        [
         "12",
         "5412",
         "334"
        ],
        [
         "13",
         "7115",
         "279"
        ],
        [
         "14",
         "8332",
         "276"
        ],
        [
         "15",
         "9998",
         "248"
        ],
        [
         "16",
         "9313",
         "235"
        ],
        [
         "17",
         "5112",
         "228"
        ],
        [
         "18",
         "9520",
         "223"
        ],
        [
         "19",
         "8321",
         "184"
        ],
        [
         "20",
         "9621",
         "167"
        ],
        [
         "21",
         "7512",
         "161"
        ],
        [
         "22",
         "5223",
         "158"
        ],
        [
         "23",
         "7221",
         "153"
        ],
        [
         "24",
         "9111",
         "138"
        ],
        [
         "25",
         "4311",
         "132"
        ],
        [
         "26",
         "8331",
         "123"
        ],
        [
         "27",
         "7411",
         "122"
        ],
        [
         "28",
         "7212",
         "121"
        ],
        [
         "29",
         "3322",
         "113"
        ]
       ],
       "shape": {
        "columns": 2,
        "rows": 30
       }
      },
      "text/html": [
       "<div>\n",
       "<style scoped>\n",
       "    .dataframe tbody tr th:only-of-type {\n",
       "        vertical-align: middle;\n",
       "    }\n",
       "\n",
       "    .dataframe tbody tr th {\n",
       "        vertical-align: top;\n",
       "    }\n",
       "\n",
       "    .dataframe thead th {\n",
       "        text-align: right;\n",
       "    }\n",
       "</style>\n",
       "<table border=\"1\" class=\"dataframe\">\n",
       "  <thead>\n",
       "    <tr style=\"text-align: right;\">\n",
       "      <th></th>\n",
       "      <th>AGR_OCUP</th>\n",
       "      <th>count</th>\n",
       "    </tr>\n",
       "  </thead>\n",
       "  <tbody>\n",
       "    <tr>\n",
       "      <th>0</th>\n",
       "      <td></td>\n",
       "      <td>7131</td>\n",
       "    </tr>\n",
       "    <tr>\n",
       "      <th>1</th>\n",
       "      <td>6111</td>\n",
       "      <td>6401</td>\n",
       "    </tr>\n",
       "    <tr>\n",
       "      <th>2</th>\n",
       "      <td>9211</td>\n",
       "      <td>4634</td>\n",
       "    </tr>\n",
       "    <tr>\n",
       "      <th>3</th>\n",
       "      <td>5249</td>\n",
       "      <td>2526</td>\n",
       "    </tr>\n",
       "    <tr>\n",
       "      <th>4</th>\n",
       "      <td>7112</td>\n",
       "      <td>1435</td>\n",
       "    </tr>\n",
       "    <tr>\n",
       "      <th>5</th>\n",
       "      <td>9999</td>\n",
       "      <td>1315</td>\n",
       "    </tr>\n",
       "    <tr>\n",
       "      <th>6</th>\n",
       "      <td>8322</td>\n",
       "      <td>1287</td>\n",
       "    </tr>\n",
       "    <tr>\n",
       "      <th>7</th>\n",
       "      <td>5414</td>\n",
       "      <td>734</td>\n",
       "    </tr>\n",
       "    <tr>\n",
       "      <th>8</th>\n",
       "      <td>2341</td>\n",
       "      <td>636</td>\n",
       "    </tr>\n",
       "    <tr>\n",
       "      <th>9</th>\n",
       "      <td>7231</td>\n",
       "      <td>625</td>\n",
       "    </tr>\n",
       "    <tr>\n",
       "      <th>10</th>\n",
       "      <td>9510</td>\n",
       "      <td>478</td>\n",
       "    </tr>\n",
       "    <tr>\n",
       "      <th>11</th>\n",
       "      <td>8153</td>\n",
       "      <td>375</td>\n",
       "    </tr>\n",
       "    <tr>\n",
       "      <th>12</th>\n",
       "      <td>5412</td>\n",
       "      <td>334</td>\n",
       "    </tr>\n",
       "    <tr>\n",
       "      <th>13</th>\n",
       "      <td>7115</td>\n",
       "      <td>279</td>\n",
       "    </tr>\n",
       "    <tr>\n",
       "      <th>14</th>\n",
       "      <td>8332</td>\n",
       "      <td>276</td>\n",
       "    </tr>\n",
       "    <tr>\n",
       "      <th>15</th>\n",
       "      <td>9998</td>\n",
       "      <td>248</td>\n",
       "    </tr>\n",
       "    <tr>\n",
       "      <th>16</th>\n",
       "      <td>9313</td>\n",
       "      <td>235</td>\n",
       "    </tr>\n",
       "    <tr>\n",
       "      <th>17</th>\n",
       "      <td>5112</td>\n",
       "      <td>228</td>\n",
       "    </tr>\n",
       "    <tr>\n",
       "      <th>18</th>\n",
       "      <td>9520</td>\n",
       "      <td>223</td>\n",
       "    </tr>\n",
       "    <tr>\n",
       "      <th>19</th>\n",
       "      <td>8321</td>\n",
       "      <td>184</td>\n",
       "    </tr>\n",
       "    <tr>\n",
       "      <th>20</th>\n",
       "      <td>9621</td>\n",
       "      <td>167</td>\n",
       "    </tr>\n",
       "    <tr>\n",
       "      <th>21</th>\n",
       "      <td>7512</td>\n",
       "      <td>161</td>\n",
       "    </tr>\n",
       "    <tr>\n",
       "      <th>22</th>\n",
       "      <td>5223</td>\n",
       "      <td>158</td>\n",
       "    </tr>\n",
       "    <tr>\n",
       "      <th>23</th>\n",
       "      <td>7221</td>\n",
       "      <td>153</td>\n",
       "    </tr>\n",
       "    <tr>\n",
       "      <th>24</th>\n",
       "      <td>9111</td>\n",
       "      <td>138</td>\n",
       "    </tr>\n",
       "    <tr>\n",
       "      <th>25</th>\n",
       "      <td>4311</td>\n",
       "      <td>132</td>\n",
       "    </tr>\n",
       "    <tr>\n",
       "      <th>26</th>\n",
       "      <td>8331</td>\n",
       "      <td>123</td>\n",
       "    </tr>\n",
       "    <tr>\n",
       "      <th>27</th>\n",
       "      <td>7411</td>\n",
       "      <td>122</td>\n",
       "    </tr>\n",
       "    <tr>\n",
       "      <th>28</th>\n",
       "      <td>7212</td>\n",
       "      <td>121</td>\n",
       "    </tr>\n",
       "    <tr>\n",
       "      <th>29</th>\n",
       "      <td>3322</td>\n",
       "      <td>113</td>\n",
       "    </tr>\n",
       "  </tbody>\n",
       "</table>\n",
       "</div>"
      ],
      "text/plain": [
       "   AGR_OCUP  count\n",
       "0             7131\n",
       "1      6111   6401\n",
       "2      9211   4634\n",
       "3      5249   2526\n",
       "4      7112   1435\n",
       "5      9999   1315\n",
       "6      8322   1287\n",
       "7      5414    734\n",
       "8      2341    636\n",
       "9      7231    625\n",
       "10     9510    478\n",
       "11     8153    375\n",
       "12     5412    334\n",
       "13     7115    279\n",
       "14     8332    276\n",
       "15     9998    248\n",
       "16     9313    235\n",
       "17     5112    228\n",
       "18     9520    223\n",
       "19     8321    184\n",
       "20     9621    167\n",
       "21     7512    161\n",
       "22     5223    158\n",
       "23     7221    153\n",
       "24     9111    138\n",
       "25     4311    132\n",
       "26     8331    123\n",
       "27     7411    122\n",
       "28     7212    121\n",
       "29     3322    113"
      ]
     },
     "metadata": {},
     "output_type": "display_data"
    },
    {
     "name": "stdout",
     "output_type": "stream",
     "text": [
      "\n",
      "\n",
      "Tabla de frecuencias para la variable: AGR_DEDICA\n"
     ]
    },
    {
     "data": {
      "application/vnd.microsoft.datawrangler.viewer.v0+json": {
       "columns": [
        {
         "name": "index",
         "rawType": "int64",
         "type": "integer"
        },
        {
         "name": "AGR_DEDICA",
         "rawType": "object",
         "type": "string"
        },
        {
         "name": "count",
         "rawType": "int64",
         "type": "integer"
        }
       ],
       "conversionMethod": "pd.DataFrame",
       "ref": "d033b0ec-04e1-4593-af06-d618b44aaa55",
       "rows": [
        [
         "0",
         " ",
         "28321"
        ],
        [
         "1",
         "1",
         "3500"
        ],
        [
         "2",
         "9",
         "961"
        ],
        [
         "3",
         "4",
         "613"
        ],
        [
         "4",
         "3",
         "428"
        ],
        [
         "5",
         "2",
         "291"
        ],
        [
         "6",
         "6",
         "187"
        ],
        [
         "7",
         "5",
         "29"
        ]
       ],
       "shape": {
        "columns": 2,
        "rows": 8
       }
      },
      "text/html": [
       "<div>\n",
       "<style scoped>\n",
       "    .dataframe tbody tr th:only-of-type {\n",
       "        vertical-align: middle;\n",
       "    }\n",
       "\n",
       "    .dataframe tbody tr th {\n",
       "        vertical-align: top;\n",
       "    }\n",
       "\n",
       "    .dataframe thead th {\n",
       "        text-align: right;\n",
       "    }\n",
       "</style>\n",
       "<table border=\"1\" class=\"dataframe\">\n",
       "  <thead>\n",
       "    <tr style=\"text-align: right;\">\n",
       "      <th></th>\n",
       "      <th>AGR_DEDICA</th>\n",
       "      <th>count</th>\n",
       "    </tr>\n",
       "  </thead>\n",
       "  <tbody>\n",
       "    <tr>\n",
       "      <th>0</th>\n",
       "      <td></td>\n",
       "      <td>28321</td>\n",
       "    </tr>\n",
       "    <tr>\n",
       "      <th>1</th>\n",
       "      <td>1</td>\n",
       "      <td>3500</td>\n",
       "    </tr>\n",
       "    <tr>\n",
       "      <th>2</th>\n",
       "      <td>9</td>\n",
       "      <td>961</td>\n",
       "    </tr>\n",
       "    <tr>\n",
       "      <th>3</th>\n",
       "      <td>4</td>\n",
       "      <td>613</td>\n",
       "    </tr>\n",
       "    <tr>\n",
       "      <th>4</th>\n",
       "      <td>3</td>\n",
       "      <td>428</td>\n",
       "    </tr>\n",
       "    <tr>\n",
       "      <th>5</th>\n",
       "      <td>2</td>\n",
       "      <td>291</td>\n",
       "    </tr>\n",
       "    <tr>\n",
       "      <th>6</th>\n",
       "      <td>6</td>\n",
       "      <td>187</td>\n",
       "    </tr>\n",
       "    <tr>\n",
       "      <th>7</th>\n",
       "      <td>5</td>\n",
       "      <td>29</td>\n",
       "    </tr>\n",
       "  </tbody>\n",
       "</table>\n",
       "</div>"
      ],
      "text/plain": [
       "  AGR_DEDICA  count\n",
       "0             28321\n",
       "1          1   3500\n",
       "2          9    961\n",
       "3          4    613\n",
       "4          3    428\n",
       "5          2    291\n",
       "6          6    187\n",
       "7          5     29"
      ]
     },
     "metadata": {},
     "output_type": "display_data"
    },
    {
     "name": "stdout",
     "output_type": "stream",
     "text": [
      "\n",
      "\n",
      "Tabla de frecuencias para la variable: INST_DENUN_HECHO\n"
     ]
    },
    {
     "data": {
      "application/vnd.microsoft.datawrangler.viewer.v0+json": {
       "columns": [
        {
         "name": "index",
         "rawType": "int64",
         "type": "integer"
        },
        {
         "name": "INST_DENUN_HECHO",
         "rawType": "int64",
         "type": "integer"
        },
        {
         "name": "count",
         "rawType": "int64",
         "type": "integer"
        }
       ],
       "conversionMethod": "pd.DataFrame",
       "ref": "81c722d8-fdf3-4fa7-b987-b40523acc393",
       "rows": [
        [
         "0",
         "4",
         "20048"
        ],
        [
         "1",
         "3",
         "11706"
        ],
        [
         "2",
         "1",
         "1652"
        ],
        [
         "3",
         "2",
         "515"
        ],
        [
         "4",
         "6",
         "409"
        ]
       ],
       "shape": {
        "columns": 2,
        "rows": 5
       }
      },
      "text/html": [
       "<div>\n",
       "<style scoped>\n",
       "    .dataframe tbody tr th:only-of-type {\n",
       "        vertical-align: middle;\n",
       "    }\n",
       "\n",
       "    .dataframe tbody tr th {\n",
       "        vertical-align: top;\n",
       "    }\n",
       "\n",
       "    .dataframe thead th {\n",
       "        text-align: right;\n",
       "    }\n",
       "</style>\n",
       "<table border=\"1\" class=\"dataframe\">\n",
       "  <thead>\n",
       "    <tr style=\"text-align: right;\">\n",
       "      <th></th>\n",
       "      <th>INST_DENUN_HECHO</th>\n",
       "      <th>count</th>\n",
       "    </tr>\n",
       "  </thead>\n",
       "  <tbody>\n",
       "    <tr>\n",
       "      <th>0</th>\n",
       "      <td>4</td>\n",
       "      <td>20048</td>\n",
       "    </tr>\n",
       "    <tr>\n",
       "      <th>1</th>\n",
       "      <td>3</td>\n",
       "      <td>11706</td>\n",
       "    </tr>\n",
       "    <tr>\n",
       "      <th>2</th>\n",
       "      <td>1</td>\n",
       "      <td>1652</td>\n",
       "    </tr>\n",
       "    <tr>\n",
       "      <th>3</th>\n",
       "      <td>2</td>\n",
       "      <td>515</td>\n",
       "    </tr>\n",
       "    <tr>\n",
       "      <th>4</th>\n",
       "      <td>6</td>\n",
       "      <td>409</td>\n",
       "    </tr>\n",
       "  </tbody>\n",
       "</table>\n",
       "</div>"
      ],
      "text/plain": [
       "   INST_DENUN_HECHO  count\n",
       "0                 4  20048\n",
       "1                 3  11706\n",
       "2                 1   1652\n",
       "3                 2    515\n",
       "4                 6    409"
      ]
     },
     "metadata": {},
     "output_type": "display_data"
    },
    {
     "name": "stdout",
     "output_type": "stream",
     "text": [
      "\n",
      "\n",
      "Tabla de frecuencias para la variable: LEY_APLICABLE\n"
     ]
    },
    {
     "data": {
      "application/vnd.microsoft.datawrangler.viewer.v0+json": {
       "columns": [
        {
         "name": "index",
         "rawType": "int64",
         "type": "integer"
        },
        {
         "name": "LEY_APLICABLE",
         "rawType": "object",
         "type": "string"
        },
        {
         "name": "count",
         "rawType": "int64",
         "type": "integer"
        }
       ],
       "conversionMethod": "pd.DataFrame",
       "ref": "00dd305e-7412-4d6d-b14d-02194015d45e",
       "rows": [
        [
         "0",
         " ",
         "14282"
        ],
        [
         "1",
         "1",
         "11480"
        ],
        [
         "2",
         "3",
         "7109"
        ],
        [
         "3",
         "9",
         "1445"
        ],
        [
         "4",
         "2",
         "14"
        ]
       ],
       "shape": {
        "columns": 2,
        "rows": 5
       }
      },
      "text/html": [
       "<div>\n",
       "<style scoped>\n",
       "    .dataframe tbody tr th:only-of-type {\n",
       "        vertical-align: middle;\n",
       "    }\n",
       "\n",
       "    .dataframe tbody tr th {\n",
       "        vertical-align: top;\n",
       "    }\n",
       "\n",
       "    .dataframe thead th {\n",
       "        text-align: right;\n",
       "    }\n",
       "</style>\n",
       "<table border=\"1\" class=\"dataframe\">\n",
       "  <thead>\n",
       "    <tr style=\"text-align: right;\">\n",
       "      <th></th>\n",
       "      <th>LEY_APLICABLE</th>\n",
       "      <th>count</th>\n",
       "    </tr>\n",
       "  </thead>\n",
       "  <tbody>\n",
       "    <tr>\n",
       "      <th>0</th>\n",
       "      <td></td>\n",
       "      <td>14282</td>\n",
       "    </tr>\n",
       "    <tr>\n",
       "      <th>1</th>\n",
       "      <td>1</td>\n",
       "      <td>11480</td>\n",
       "    </tr>\n",
       "    <tr>\n",
       "      <th>2</th>\n",
       "      <td>3</td>\n",
       "      <td>7109</td>\n",
       "    </tr>\n",
       "    <tr>\n",
       "      <th>3</th>\n",
       "      <td>9</td>\n",
       "      <td>1445</td>\n",
       "    </tr>\n",
       "    <tr>\n",
       "      <th>4</th>\n",
       "      <td>2</td>\n",
       "      <td>14</td>\n",
       "    </tr>\n",
       "  </tbody>\n",
       "</table>\n",
       "</div>"
      ],
      "text/plain": [
       "  LEY_APLICABLE  count\n",
       "0                14282\n",
       "1             1  11480\n",
       "2             3   7109\n",
       "3             9   1445\n",
       "4             2     14"
      ]
     },
     "metadata": {},
     "output_type": "display_data"
    },
    {
     "name": "stdout",
     "output_type": "stream",
     "text": [
      "\n",
      "\n",
      "Tabla de frecuencias para la variable: MEDIDAS_SEGURIDAD\n"
     ]
    },
    {
     "data": {
      "application/vnd.microsoft.datawrangler.viewer.v0+json": {
       "columns": [
        {
         "name": "index",
         "rawType": "int64",
         "type": "integer"
        },
        {
         "name": "MEDIDAS_SEGURIDAD",
         "rawType": "object",
         "type": "string"
        },
        {
         "name": "count",
         "rawType": "int64",
         "type": "integer"
        }
       ],
       "conversionMethod": "pd.DataFrame",
       "ref": "64e10b18-8ef1-49a3-b5aa-070a33aeeb2d",
       "rows": [
        [
         "0",
         "1",
         "18586"
        ],
        [
         "1",
         " ",
         "14282"
        ],
        [
         "2",
         "9",
         "1459"
        ],
        [
         "3",
         "2",
         "3"
        ]
       ],
       "shape": {
        "columns": 2,
        "rows": 4
       }
      },
      "text/html": [
       "<div>\n",
       "<style scoped>\n",
       "    .dataframe tbody tr th:only-of-type {\n",
       "        vertical-align: middle;\n",
       "    }\n",
       "\n",
       "    .dataframe tbody tr th {\n",
       "        vertical-align: top;\n",
       "    }\n",
       "\n",
       "    .dataframe thead th {\n",
       "        text-align: right;\n",
       "    }\n",
       "</style>\n",
       "<table border=\"1\" class=\"dataframe\">\n",
       "  <thead>\n",
       "    <tr style=\"text-align: right;\">\n",
       "      <th></th>\n",
       "      <th>MEDIDAS_SEGURIDAD</th>\n",
       "      <th>count</th>\n",
       "    </tr>\n",
       "  </thead>\n",
       "  <tbody>\n",
       "    <tr>\n",
       "      <th>0</th>\n",
       "      <td>1</td>\n",
       "      <td>18586</td>\n",
       "    </tr>\n",
       "    <tr>\n",
       "      <th>1</th>\n",
       "      <td></td>\n",
       "      <td>14282</td>\n",
       "    </tr>\n",
       "    <tr>\n",
       "      <th>2</th>\n",
       "      <td>9</td>\n",
       "      <td>1459</td>\n",
       "    </tr>\n",
       "    <tr>\n",
       "      <th>3</th>\n",
       "      <td>2</td>\n",
       "      <td>3</td>\n",
       "    </tr>\n",
       "  </tbody>\n",
       "</table>\n",
       "</div>"
      ],
      "text/plain": [
       "  MEDIDAS_SEGURIDAD  count\n",
       "0                 1  18586\n",
       "1                    14282\n",
       "2                 9   1459\n",
       "3                 2      3"
      ]
     },
     "metadata": {},
     "output_type": "display_data"
    },
    {
     "name": "stdout",
     "output_type": "stream",
     "text": [
      "\n",
      "\n",
      "Tabla de frecuencias para la variable: TIPO_MEDIDA\n"
     ]
    },
    {
     "data": {
      "application/vnd.microsoft.datawrangler.viewer.v0+json": {
       "columns": [
        {
         "name": "index",
         "rawType": "int64",
         "type": "integer"
        },
        {
         "name": "TIPO_MEDIDA",
         "rawType": "object",
         "type": "string"
        },
        {
         "name": "count",
         "rawType": "int64",
         "type": "integer"
        }
       ],
       "conversionMethod": "pd.DataFrame",
       "ref": "438c69b7-9ffd-46a1-ba74-9e272f682217",
       "rows": [
        [
         "0",
         "IJ",
         "10082"
        ],
        [
         "1",
         "Z",
         "3599"
        ],
        [
         "2",
         "AIJ",
         "2022"
        ],
        [
         "3",
         "I",
         "766"
        ],
        [
         "4",
         "CIJ",
         "522"
        ],
        [
         "5",
         "IJN",
         "283"
        ],
        [
         "6",
         "ACIJ",
         "272"
        ],
        [
         "7",
         "IJK",
         "199"
        ],
        [
         "8",
         "FGIJ",
         "197"
        ],
        [
         "9",
         "J",
         "110"
        ],
        [
         "10",
         "FIJ",
         "97"
        ],
        [
         "11",
         "AIJK",
         "80"
        ],
        [
         "12",
         "AFGIJ",
         "72"
        ],
        [
         "13",
         "GIJ",
         "67"
        ],
        [
         "14",
         "ACJ",
         "62"
        ],
        [
         "15",
         "ABC",
         "60"
        ],
        [
         "16",
         "AIJN",
         "60"
        ],
        [
         "17",
         "CIJB",
         "59"
        ],
        [
         "18",
         "AC",
         "56"
        ],
        [
         "19",
         "CIJN",
         "47"
        ],
        [
         "20",
         "AI",
         "40"
        ],
        [
         "21",
         "ACIJF",
         "37"
        ],
        [
         "22",
         "CIB",
         "34"
        ],
        [
         "23",
         "IIJ",
         "28"
        ],
        [
         "24",
         "AJ",
         "28"
        ],
        [
         "25",
         "AB",
         "28"
        ],
        [
         "26",
         "AFIJ",
         "27"
        ],
        [
         "27",
         "AFGIJK",
         "26"
        ],
        [
         "28",
         "CIJF",
         "26"
        ],
        [
         "29",
         "BCIJ",
         "24"
        ]
       ],
       "shape": {
        "columns": 2,
        "rows": 30
       }
      },
      "text/html": [
       "<div>\n",
       "<style scoped>\n",
       "    .dataframe tbody tr th:only-of-type {\n",
       "        vertical-align: middle;\n",
       "    }\n",
       "\n",
       "    .dataframe tbody tr th {\n",
       "        vertical-align: top;\n",
       "    }\n",
       "\n",
       "    .dataframe thead th {\n",
       "        text-align: right;\n",
       "    }\n",
       "</style>\n",
       "<table border=\"1\" class=\"dataframe\">\n",
       "  <thead>\n",
       "    <tr style=\"text-align: right;\">\n",
       "      <th></th>\n",
       "      <th>TIPO_MEDIDA</th>\n",
       "      <th>count</th>\n",
       "    </tr>\n",
       "  </thead>\n",
       "  <tbody>\n",
       "    <tr>\n",
       "      <th>0</th>\n",
       "      <td>IJ</td>\n",
       "      <td>10082</td>\n",
       "    </tr>\n",
       "    <tr>\n",
       "      <th>1</th>\n",
       "      <td>Z</td>\n",
       "      <td>3599</td>\n",
       "    </tr>\n",
       "    <tr>\n",
       "      <th>2</th>\n",
       "      <td>AIJ</td>\n",
       "      <td>2022</td>\n",
       "    </tr>\n",
       "    <tr>\n",
       "      <th>3</th>\n",
       "      <td>I</td>\n",
       "      <td>766</td>\n",
       "    </tr>\n",
       "    <tr>\n",
       "      <th>4</th>\n",
       "      <td>CIJ</td>\n",
       "      <td>522</td>\n",
       "    </tr>\n",
       "    <tr>\n",
       "      <th>5</th>\n",
       "      <td>IJN</td>\n",
       "      <td>283</td>\n",
       "    </tr>\n",
       "    <tr>\n",
       "      <th>6</th>\n",
       "      <td>ACIJ</td>\n",
       "      <td>272</td>\n",
       "    </tr>\n",
       "    <tr>\n",
       "      <th>7</th>\n",
       "      <td>IJK</td>\n",
       "      <td>199</td>\n",
       "    </tr>\n",
       "    <tr>\n",
       "      <th>8</th>\n",
       "      <td>FGIJ</td>\n",
       "      <td>197</td>\n",
       "    </tr>\n",
       "    <tr>\n",
       "      <th>9</th>\n",
       "      <td>J</td>\n",
       "      <td>110</td>\n",
       "    </tr>\n",
       "    <tr>\n",
       "      <th>10</th>\n",
       "      <td>FIJ</td>\n",
       "      <td>97</td>\n",
       "    </tr>\n",
       "    <tr>\n",
       "      <th>11</th>\n",
       "      <td>AIJK</td>\n",
       "      <td>80</td>\n",
       "    </tr>\n",
       "    <tr>\n",
       "      <th>12</th>\n",
       "      <td>AFGIJ</td>\n",
       "      <td>72</td>\n",
       "    </tr>\n",
       "    <tr>\n",
       "      <th>13</th>\n",
       "      <td>GIJ</td>\n",
       "      <td>67</td>\n",
       "    </tr>\n",
       "    <tr>\n",
       "      <th>14</th>\n",
       "      <td>ACJ</td>\n",
       "      <td>62</td>\n",
       "    </tr>\n",
       "    <tr>\n",
       "      <th>15</th>\n",
       "      <td>ABC</td>\n",
       "      <td>60</td>\n",
       "    </tr>\n",
       "    <tr>\n",
       "      <th>16</th>\n",
       "      <td>AIJN</td>\n",
       "      <td>60</td>\n",
       "    </tr>\n",
       "    <tr>\n",
       "      <th>17</th>\n",
       "      <td>CIJB</td>\n",
       "      <td>59</td>\n",
       "    </tr>\n",
       "    <tr>\n",
       "      <th>18</th>\n",
       "      <td>AC</td>\n",
       "      <td>56</td>\n",
       "    </tr>\n",
       "    <tr>\n",
       "      <th>19</th>\n",
       "      <td>CIJN</td>\n",
       "      <td>47</td>\n",
       "    </tr>\n",
       "    <tr>\n",
       "      <th>20</th>\n",
       "      <td>AI</td>\n",
       "      <td>40</td>\n",
       "    </tr>\n",
       "    <tr>\n",
       "      <th>21</th>\n",
       "      <td>ACIJF</td>\n",
       "      <td>37</td>\n",
       "    </tr>\n",
       "    <tr>\n",
       "      <th>22</th>\n",
       "      <td>CIB</td>\n",
       "      <td>34</td>\n",
       "    </tr>\n",
       "    <tr>\n",
       "      <th>23</th>\n",
       "      <td>IIJ</td>\n",
       "      <td>28</td>\n",
       "    </tr>\n",
       "    <tr>\n",
       "      <th>24</th>\n",
       "      <td>AJ</td>\n",
       "      <td>28</td>\n",
       "    </tr>\n",
       "    <tr>\n",
       "      <th>25</th>\n",
       "      <td>AB</td>\n",
       "      <td>28</td>\n",
       "    </tr>\n",
       "    <tr>\n",
       "      <th>26</th>\n",
       "      <td>AFIJ</td>\n",
       "      <td>27</td>\n",
       "    </tr>\n",
       "    <tr>\n",
       "      <th>27</th>\n",
       "      <td>AFGIJK</td>\n",
       "      <td>26</td>\n",
       "    </tr>\n",
       "    <tr>\n",
       "      <th>28</th>\n",
       "      <td>CIJF</td>\n",
       "      <td>26</td>\n",
       "    </tr>\n",
       "    <tr>\n",
       "      <th>29</th>\n",
       "      <td>BCIJ</td>\n",
       "      <td>24</td>\n",
       "    </tr>\n",
       "  </tbody>\n",
       "</table>\n",
       "</div>"
      ],
      "text/plain": [
       "   TIPO_MEDIDA  count\n",
       "0           IJ  10082\n",
       "1            Z   3599\n",
       "2          AIJ   2022\n",
       "3            I    766\n",
       "4          CIJ    522\n",
       "5          IJN    283\n",
       "6         ACIJ    272\n",
       "7          IJK    199\n",
       "8         FGIJ    197\n",
       "9            J    110\n",
       "10         FIJ     97\n",
       "11        AIJK     80\n",
       "12       AFGIJ     72\n",
       "13         GIJ     67\n",
       "14         ACJ     62\n",
       "15         ABC     60\n",
       "16        AIJN     60\n",
       "17        CIJB     59\n",
       "18          AC     56\n",
       "19        CIJN     47\n",
       "20          AI     40\n",
       "21       ACIJF     37\n",
       "22         CIB     34\n",
       "23         IIJ     28\n",
       "24          AJ     28\n",
       "25          AB     28\n",
       "26        AFIJ     27\n",
       "27      AFGIJK     26\n",
       "28        CIJF     26\n",
       "29        BCIJ     24"
      ]
     },
     "metadata": {},
     "output_type": "display_data"
    },
    {
     "name": "stdout",
     "output_type": "stream",
     "text": [
      "\n",
      "\n"
     ]
    }
   ],
   "source": [
    "freq_table = {col: data[col].value_counts() for col in cualitative_columns}\n",
    "\n",
    "for column, table in freq_table.items():\n",
    "    print(f\"Tabla de frecuencias para la variable: {column}\")\n",
    "    display(table.reset_index().head(30)) \n",
    "    print(\"\\n\")"
   ]
  },
  {
   "cell_type": "markdown",
   "metadata": {},
   "source": [
    "### Identificando valores atípicos"
   ]
  },
  {
   "cell_type": "code",
   "execution_count": 17,
   "metadata": {},
   "outputs": [
    {
     "name": "stdout",
     "output_type": "stream",
     "text": [
      "   HEC_DIA  HEC_MES  HEC_ANO  HEC_DEPTOMCPIO  HEC_TIPAGRE  DIA_EMISION  \\\n",
      "0       99       99     9999            1604         1222           18   \n",
      "1       99       99     9999            1601         2112           11   \n",
      "2       99       99     9999             401         2212           30   \n",
      "3       99       99     9999            1601         2212            3   \n",
      "4       99       99     9999            1504         2112           19   \n",
      "\n",
      "   MES_EMISION  ANO_EMISION  DEPTO_MCPIO  QUIEN_REPORTA  VIC_SEXO  VIC_EDAD  \\\n",
      "0            3         2014         1601              9         2         3   \n",
      "1            8         2014         1601              1         2         7   \n",
      "2            5         2014          401              3         2         9   \n",
      "3            7         2014         1601              3         2        10   \n",
      "4            8         2014         1504              1         2        11   \n",
      "\n",
      "   TOTAL_HIJOS  NUM_HIJ_HOM  NUM_HIJ_MUJ  VIC_ALFAB  VIC_ESCOLARIDAD  \\\n",
      "0          NaN          NaN          NaN        NaN              NaN   \n",
      "1          NaN          NaN          NaN        1.0             21.0   \n",
      "2          NaN          NaN          NaN        1.0             23.0   \n",
      "3          NaN          NaN          NaN        1.0             23.0   \n",
      "4          NaN          NaN          NaN        1.0             29.0   \n",
      "\n",
      "   VIC_EST_CIV  VIC_GRUPET  VIC_NACIONAL  VIC_TRABAJA  VIC_OCUP  VIC_DEDICA  \\\n",
      "0          NaN           2             1          NaN       NaN         NaN   \n",
      "1          NaN           1             1          2.0       NaN         3.0   \n",
      "2          NaN           2             1          2.0       NaN         3.0   \n",
      "3          NaN           9             1          2.0       NaN         3.0   \n",
      "4          NaN           2             1          2.0       NaN         3.0   \n",
      "\n",
      "   VIC_DISC  TIPO_DISCAQ  VIC_REL_AGR  OTRAS_VICTIMAS  VIC_OTRAS_HOM  \\\n",
      "0         2          NaN            4               1              0   \n",
      "1         2          NaN           10               0              0   \n",
      "2         2          NaN            5               0              0   \n",
      "3         2          NaN            9              99             99   \n",
      "4         2          NaN           10              99             99   \n",
      "\n",
      "   VIC_OTRAS_MUJ  VIC_OTRAS_N_OS  VIC_OTRAS_N_AS  HEC_AREA  HEC_RECUR_DENUN  \\\n",
      "0              1               0               0         1                2   \n",
      "1              0               0               0         1                2   \n",
      "2              0               0               0         1                2   \n",
      "3             99              99              99         9                2   \n",
      "4             99              99              99         1                2   \n",
      "\n",
      "   INST_DONDE_DENUNCIO  AGR_SEXO  AGR_EDAD  AGR_ALFAB  AGR_ESCOLARIDAD  \\\n",
      "0                  NaN         1        99          1               49   \n",
      "1                  NaN         1        19          1               45   \n",
      "2                  NaN         1        40          1               25   \n",
      "3                  NaN         1        20          1               99   \n",
      "4                  NaN         1        18          1               99   \n",
      "\n",
      "   AGR_EST_CIV  AGR_GURPET  AGR_NACIONAL  AGR_TRABAJA  AGR_OCUP  AGR_DEDICA  \\\n",
      "0            2           2             1            1    3221.0         NaN   \n",
      "1            1           1             1            2       NaN         3.0   \n",
      "2            3           2             1            1    6111.0         NaN   \n",
      "3            1           2             1            1    9211.0         NaN   \n",
      "4            1           6             1            1    9313.0         NaN   \n",
      "\n",
      "   AGRESORES_OTROS_TOTAL  AGR_OTROS_HOM  AGR_OTRAS_MUJ  AGR_OTROS_N_OS  \\\n",
      "0                      1              0              1               0   \n",
      "1                     99             99             99              99   \n",
      "2                      0              0              0               0   \n",
      "3                     99             99             99              99   \n",
      "4                     99             99             99              99   \n",
      "\n",
      "   AGR_OTRAS_N_AS  INST_DENUN_HECHO  LEY_APLICABLE  MEDIDAS_SEGURIDAD  \\\n",
      "0               0                 1            NaN                NaN   \n",
      "1              99                 1            NaN                NaN   \n",
      "2               0                 6            NaN                NaN   \n",
      "3              99                 1            NaN                NaN   \n",
      "4              99                 4            3.0                1.0   \n",
      "\n",
      "   TIPO_MEDIDA  \n",
      "0          NaN  \n",
      "1          NaN  \n",
      "2          NaN  \n",
      "3          NaN  \n",
      "4          NaN  \n"
     ]
    }
   ],
   "source": [
    "# Función para identificar valores atípicos usando IQR\n",
    "def detectar_outliers_iqr(df, columnas):\n",
    "    outliers = {}\n",
    "    for col in columnas:\n",
    "        if col in df.columns:\n",
    "            Q1 = df[col].quantile(0.25)\n",
    "            Q3 = df[col].quantile(0.75)\n",
    "            IQR = Q3 - Q1\n",
    "            lower_bound = Q1 - 1.5 * IQR\n",
    "            upper_bound = Q3 + 1.5 * IQR\n",
    "            outliers[col] = df[(df[col] < lower_bound) | (df[col] > upper_bound)]\n",
    "    return outliers\n",
    "\n",
    "# Aplicar detección de outliers\n",
    "outliers_detectados = detectar_outliers_iqr(data.apply(pd.to_numeric, errors='coerce'), quantitative_columns)\n",
    "\n",
    "# Unir los resultados en un solo DataFrame\n",
    "outliers_df = pd.concat(outliers_detectados.values(), ignore_index=True)\n",
    "\n",
    "# Guardar los valores atípicos en un archivo CSV\n",
    "outliers_df.to_csv(\"valores_atipicos_VIF.csv\", index=False)\n",
    "\n",
    "# Mostrar algunas filas con valores atípicos detectados\n",
    "print(outliers_df.head())"
   ]
  }
 ],
 "metadata": {
  "kernelspec": {
   "display_name": "venv",
   "language": "python",
   "name": "python3"
  },
  "language_info": {
   "codemirror_mode": {
    "name": "ipython",
    "version": 3
   },
   "file_extension": ".py",
   "mimetype": "text/x-python",
   "name": "python",
   "nbconvert_exporter": "python",
   "pygments_lexer": "ipython3",
   "version": "3.10.2"
  }
 },
 "nbformat": 4,
 "nbformat_minor": 2
}
